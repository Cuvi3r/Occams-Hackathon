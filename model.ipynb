{
  "nbformat": 4,
  "nbformat_minor": 0,
  "metadata": {
    "colab": {
      "provenance": [],
      "collapsed_sections": []
    },
    "kernelspec": {
      "name": "python3",
      "display_name": "Python 3"
    },
    "language_info": {
      "name": "python"
    },
    "accelerator": "GPU",
    "gpuClass": "premium"
  },
  "cells": [
    {
      "cell_type": "code",
      "source": [
        "import os\n",
        "\n",
        "#insert filepath here\n",
        "path = \"\"\n",
        "os.chdir(path)"
      ],
      "metadata": {
        "id": "rGRucBKfdeiG"
      },
      "execution_count": null,
      "outputs": []
    },
    {
      "cell_type": "code",
      "source": [
        "import pandas as pd\n",
        "import numpy as np"
      ],
      "metadata": {
        "id": "lzBmW7uNsfD8"
      },
      "execution_count": 3,
      "outputs": []
    },
    {
      "cell_type": "code",
      "source": [
        "res1_data = pd.read_csv(\"restaurant-1-orders.csv\")\n",
        "items = res1_data['Item Name'].unique()"
      ],
      "metadata": {
        "id": "bK1XR71KsUzS"
      },
      "execution_count": 224,
      "outputs": []
    },
    {
      "cell_type": "code",
      "source": [
        "def fillPD(data2015, items):\n",
        "\n",
        "  zerosList = np.zeros(len(data2015.WeekOfYear.unique()))\n",
        "  zerosList = zerosList.flatten().tolist()\n",
        "  currentCols = data2015.columns.tolist()\n",
        "  for i in items:\n",
        "    if i not in currentCols:\n",
        "      data2015[i] = zerosList\n",
        "\n",
        "  return data2015\n",
        "    "
      ],
      "metadata": {
        "id": "uDpLfAYLuixr"
      },
      "execution_count": 7,
      "outputs": []
    },
    {
      "cell_type": "code",
      "source": [
        "def add_prev_counts(dataNew, item):\n",
        "    totals = []\n",
        "\n",
        "    for index, row in dataNew.iterrows():\n",
        "\n",
        "      week = int(row[\"WeekOfYear\"])\n",
        "      year = int(row[\"Year\"]-1)\n",
        "      df = dataNew[dataNew[\"Year\"]== year]\n",
        "      df = df[df[\"WeekOfYear\"]== week]\n",
        "\n",
        "\n",
        "      \n",
        "      total = df[item].to_numpy()\n",
        "      if total.shape[0] == 0:\n",
        "        total = 0.0\n",
        "      else:\n",
        "        total = total[0]\n",
        "\n",
        "      totals.append(total)\n",
        "     \n",
        "    return np.array(totals)\n",
        "\n",
        "def add_prev_counts_test(dataOld,dataNew, item):\n",
        "    totals = []\n",
        "    dataOld = dataOld[dataOld[\"Year\"]==2018]\n",
        "    for index, row in dataNew.iterrows():\n",
        "\n",
        "      week = int(row[\"WeekOfYear\"])\n",
        " \n",
        "   \n",
        "      df = dataOld[dataOld[\"WeekOfYear\"]== week]\n",
        "\n",
        "\n",
        "      \n",
        "      total = df[item].to_numpy()\n",
        "      if total.shape[0] == 0:\n",
        "        total = 0.0\n",
        "      else:\n",
        "        total = total[0]\n",
        "\n",
        "      totals.append(total)\n",
        "     \n",
        "    return np.array(totals)"
      ],
      "metadata": {
        "id": "tqY7ccvSBulY"
      },
      "execution_count": 8,
      "outputs": []
    },
    {
      "cell_type": "code",
      "source": [
        "data2015 = pd.read_csv(\"WeeklyOrders2015.csv\")\n",
        "data2015 = data2015.fillna(0)\n",
        "data2015 = fillPD(data2015, items)"
      ],
      "metadata": {
        "id": "xxaf507gnaTK"
      },
      "execution_count": 315,
      "outputs": []
    },
    {
      "cell_type": "code",
      "source": [
        "data2016 = pd.read_csv(\"WeeklyOrders2016.csv\")\n",
        "data2016 = data2016.fillna(0)\n",
        "data2016 = fillPD(data2016, items)"
      ],
      "metadata": {
        "id": "glOOEPcezh9e"
      },
      "execution_count": 349,
      "outputs": []
    },
    {
      "cell_type": "code",
      "source": [
        "data2017 = pd.read_csv(\"WeeklyOrders2017.csv\")\n",
        "data2017 = data2017.fillna(0)\n",
        "data2017 = fillPD(data2017, items)"
      ],
      "metadata": {
        "id": "IqTTtjNv0XdA"
      },
      "execution_count": 350,
      "outputs": []
    },
    {
      "cell_type": "code",
      "source": [
        "data2018 = pd.read_csv(\"WeeklyOrders2018.csv\")\n",
        "data2018 = data2018.fillna(0)\n",
        "data2018 = fillPD(data2018, items)"
      ],
      "metadata": {
        "id": "_xpKvf_23Pod"
      },
      "execution_count": 351,
      "outputs": []
    },
    {
      "cell_type": "code",
      "source": [
        "data2019 = pd.read_csv(\"WeeklyOrders2019.csv\")\n",
        "data2019 = data2019.fillna(0)\n",
        "data2019 = fillPD(data2019, items)"
      ],
      "metadata": {
        "id": "Z6T0ZWB73gaU"
      },
      "execution_count": 352,
      "outputs": []
    },
    {
      "cell_type": "code",
      "source": [
        "trainData = pd.concat([data2015,data2016,data2017, data2018], axis = 0)\n",
        "testData = data2019"
      ],
      "metadata": {
        "id": "9s02kCG23ox6"
      },
      "execution_count": 353,
      "outputs": []
    },
    {
      "cell_type": "code",
      "source": [
        "Holidays = pd.read_csv(\"UK Holidays.csv\")\n",
        "\n",
        "def getHolidayCount(trainData, Holidays):\n",
        "\n",
        "  listOfHolidays = Holidays.weekOfYear.unique()\n",
        "  holidayCount = []\n",
        "  for index, row in trainData.iterrows():\n",
        "\n",
        "    week = int(row.WeekOfYear)\n",
        "    p = Holidays[Holidays[\"weekOfYear\"]==week]\n",
        "    numHols = len(p[\"normalizeHolidayName\"].unique())\n",
        "    holidayCount.append(numHols)\n",
        "\n",
        "\n",
        "  trainData[\"numHolidays\"] = holidayCount\n",
        "\n",
        "  return trainData\n",
        "  \n",
        "\n",
        "trainData = getHolidayCount(trainData, Holidays)\n",
        "testData = getHolidayCount(testData, Holidays)"
      ],
      "metadata": {
        "id": "rbh4ciDH6SwW"
      },
      "execution_count": 355,
      "outputs": []
    },
    {
      "cell_type": "code",
      "source": [
        "f = []\n",
        "for i in trainData.columns.tolist():\n",
        "  if i not in items:\n",
        "    f.append(i)"
      ],
      "metadata": {
        "id": "WdPQojhaHfSq"
      },
      "execution_count": 357,
      "outputs": []
    },
    {
      "cell_type": "code",
      "source": [
        "def normalize(df,trainDF, items):\n",
        "    result = df.copy()\n",
        "    for feature_name in df.columns:\n",
        "      if feature_name not in items:\n",
        "        mean_value = trainDF[feature_name].mean()\n",
        "        std_value = trainDF[feature_name].std()\n",
        "        result[feature_name] = (df[feature_name] - mean_value) / std_value\n",
        "\n",
        "      # if feature_name == \"mark\":\n",
        "      #   result[feature_name] = (df[feature_name]/100)\n",
        "    return result"
      ],
      "metadata": {
        "id": "F5ZRZ1SLf3wT"
      },
      "execution_count": 42,
      "outputs": []
    },
    {
      "cell_type": "code",
      "source": [
        "trainDataN = normalize(trainData,trainData, items)\n",
        "testDataN = normalize(testData,trainData, items)"
      ],
      "metadata": {
        "id": "nQJMt_WggNLr"
      },
      "execution_count": 361,
      "outputs": []
    },
    {
      "cell_type": "code",
      "source": [
        "f.pop(0)"
      ],
      "metadata": {
        "colab": {
          "base_uri": "https://localhost:8080/",
          "height": 36
        },
        "id": "qGP79pUwiTm7",
        "outputId": "1668b6a6-b799-4fea-a88b-e4688e67eb9e"
      },
      "execution_count": 362,
      "outputs": [
        {
          "output_type": "execute_result",
          "data": {
            "text/plain": [
              "'Year'"
            ],
            "application/vnd.google.colaboratory.intrinsic+json": {
              "type": "string"
            }
          },
          "metadata": {},
          "execution_count": 362
        }
      ]
    },
    {
      "cell_type": "code",
      "source": [
        "from keras.models import Sequential\n",
        "from keras.layers import Dropout\n",
        "from keras.layers import Dense\n",
        "import tensorflow as tf"
      ],
      "metadata": {
        "id": "RnEM30oeDLnS"
      },
      "execution_count": 45,
      "outputs": []
    },
    {
      "cell_type": "code",
      "source": [
        "import keras\n",
        "import matplotlib.pyplot as plt\n",
        "from sklearn.preprocessing import MinMaxScaler\n",
        "from pandas.plotting import register_matplotlib_converters\n",
        "register_matplotlib_converters()\n",
        "from keras.preprocessing.sequence import TimeseriesGenerator\n",
        "from keras.models import Sequential\n",
        "from keras.layers import Dense\n",
        "from keras.layers import LSTM"
      ],
      "metadata": {
        "id": "HCVp9y481YWb"
      },
      "execution_count": 63,
      "outputs": []
    },
    {
      "cell_type": "code",
      "source": [
        "from keras.callbacks import EarlyStopping\n",
        "from tqdm import trange\n",
        "\n",
        "es = EarlyStopping(monitor='val_loss', mode = \"min\",patience = 15)\n",
        "\n",
        "MAEs = []\n",
        "itemNames = []\n",
        "for i in trange(len(items)):\n",
        "  X_train = trainDataN[f].values\n",
        "  y_train = trainDataN[items[i]].values\n",
        "  featNum = trainDataN[items[i]].max()\n",
        "  X_test = testDataN[f].values\n",
        "  y_test = testDataN[items[i]].values\n",
        "\n",
        "  t = add_prev_counts(trainDataN,items[i]).reshape(X_train.shape[0],1)\n",
        "  X_train = np.append(X_train, t, axis = 1)\n",
        "\n",
        "\n",
        "  t = add_prev_counts_test(trainDataN,testDataN, items[i]).reshape(X_test.shape[0],1)\n",
        "  X_test = np.append(X_test, t, axis = 1)\n",
        "\n",
        "  model = Sequential()\n",
        "  model.add(Dense(14, input_dim=X_train.shape[1], kernel_initializer='he_uniform', activation='relu'))\n",
        "  model.add(Dropout(0.2))\n",
        "  model.add(Dense(featNum, kernel_initializer='he_uniform', activation='sigmoid'))\n",
        "  model.add(Dense(1, kernel_initializer='he_uniform'))\n",
        "  model.compile(loss = \"mae\", optimizer=tf.keras.optimizers.Adam(0.005))\n",
        "  model.fit(X_train, y_train, verbose = 0, epochs = 350, validation_data = [X_test, y_test], callbacks = es)\n",
        "  MAE = model.evaluate(X_test, y_test)\n",
        "  print(\"MAE FOR:\", items[i])\n",
        "  print(MAE)\n",
        "  print(\"\\n\")\n",
        "\n",
        "  MAEs.append(MAE)\n",
        "  itemNames.append(items[i])\n",
        "\n",
        "  \n",
        "\n",
        "\n",
        "\n",
        "\n"
      ],
      "metadata": {
        "colab": {
          "base_uri": "https://localhost:8080/"
        },
        "id": "qd4G7c8q1pOY",
        "outputId": "8072bca5-df96-4fa1-fe67-b60a6e21de17"
      },
      "execution_count": 381,
      "outputs": [
        {
          "output_type": "stream",
          "name": "stderr",
          "text": [
            "\r  0%|          | 0/248 [00:00<?, ?it/s]"
          ]
        },
        {
          "output_type": "stream",
          "name": "stdout",
          "text": [
            "1/1 [==============================] - 0s 18ms/step - loss: 24.3481\n"
          ]
        },
        {
          "output_type": "stream",
          "name": "stderr",
          "text": [
            "\r  0%|          | 1/248 [00:03<14:49,  3.60s/it]"
          ]
        },
        {
          "output_type": "stream",
          "name": "stdout",
          "text": [
            "MAE FOR: Plain Papadum\n",
            "24.34805679321289\n",
            "\n",
            "\n",
            "1/1 [==============================] - 0s 18ms/step - loss: 0.1314\n"
          ]
        },
        {
          "output_type": "stream",
          "name": "stderr",
          "text": [
            "\r  1%|          | 2/248 [00:08<17:31,  4.28s/it]"
          ]
        },
        {
          "output_type": "stream",
          "name": "stdout",
          "text": [
            "MAE FOR: King Prawn Balti\n",
            "0.131353959441185\n",
            "\n",
            "\n",
            "1/1 [==============================] - 0s 18ms/step - loss: 6.8333\n"
          ]
        },
        {
          "output_type": "stream",
          "name": "stderr",
          "text": [
            "\r  1%|          | 3/248 [00:10<13:35,  3.33s/it]"
          ]
        },
        {
          "output_type": "stream",
          "name": "stdout",
          "text": [
            "MAE FOR: Garlic Naan\n",
            "6.833319664001465\n",
            "\n",
            "\n",
            "1/1 [==============================] - 0s 20ms/step - loss: 4.0701\n"
          ]
        },
        {
          "output_type": "stream",
          "name": "stderr",
          "text": [
            "\r  2%|▏         | 4/248 [00:13<12:35,  3.10s/it]"
          ]
        },
        {
          "output_type": "stream",
          "name": "stdout",
          "text": [
            "MAE FOR: Mushroom Rice\n",
            "4.070119857788086\n",
            "\n",
            "\n",
            "1/1 [==============================] - 0s 20ms/step - loss: 2.0174\n"
          ]
        },
        {
          "output_type": "stream",
          "name": "stderr",
          "text": [
            "\r  2%|▏         | 5/248 [00:14<09:41,  2.39s/it]"
          ]
        },
        {
          "output_type": "stream",
          "name": "stdout",
          "text": [
            "MAE FOR: Paneer Tikka Masala\n",
            "2.0174081325531006\n",
            "\n",
            "\n",
            "1/1 [==============================] - 0s 25ms/step - loss: 6.2439\n"
          ]
        },
        {
          "output_type": "stream",
          "name": "stderr",
          "text": [
            "\r  2%|▏         | 6/248 [00:17<10:27,  2.59s/it]"
          ]
        },
        {
          "output_type": "stream",
          "name": "stdout",
          "text": [
            "MAE FOR: Mango Chutney\n",
            "6.2439117431640625\n",
            "\n",
            "\n",
            "1/1 [==============================] - 0s 25ms/step - loss: 10.5718\n"
          ]
        },
        {
          "output_type": "stream",
          "name": "stderr",
          "text": [
            "\r  3%|▎         | 7/248 [00:20<10:28,  2.61s/it]"
          ]
        },
        {
          "output_type": "stream",
          "name": "stdout",
          "text": [
            "MAE FOR: Plain Naan\n",
            "10.571806907653809\n",
            "\n",
            "\n",
            "1/1 [==============================] - 0s 25ms/step - loss: 0.9436\n"
          ]
        },
        {
          "output_type": "stream",
          "name": "stderr",
          "text": [
            "\r  3%|▎         | 8/248 [00:22<10:21,  2.59s/it]"
          ]
        },
        {
          "output_type": "stream",
          "name": "stdout",
          "text": [
            "MAE FOR: Tandoori Chicken (1/4)\n",
            "0.9435704350471497\n",
            "\n",
            "\n",
            "1/1 [==============================] - 0s 25ms/step - loss: 0.9350\n"
          ]
        },
        {
          "output_type": "stream",
          "name": "stderr",
          "text": [
            "\r  4%|▎         | 9/248 [00:25<10:17,  2.58s/it]"
          ]
        },
        {
          "output_type": "stream",
          "name": "stdout",
          "text": [
            "MAE FOR: Vindaloo - Lamb\n",
            "0.9350325465202332\n",
            "\n",
            "\n",
            "1/1 [==============================] - 0s 25ms/step - loss: 5.8479\n"
          ]
        },
        {
          "output_type": "stream",
          "name": "stderr",
          "text": [
            "\r  4%|▍         | 10/248 [00:28<11:28,  2.89s/it]"
          ]
        },
        {
          "output_type": "stream",
          "name": "stdout",
          "text": [
            "MAE FOR: Chapati\n",
            "5.847859859466553\n",
            "\n",
            "\n",
            "1/1 [==============================] - 0s 19ms/step - loss: 1.3548\n"
          ]
        },
        {
          "output_type": "stream",
          "name": "stderr",
          "text": [
            "\r  4%|▍         | 11/248 [00:30<10:16,  2.60s/it]"
          ]
        },
        {
          "output_type": "stream",
          "name": "stdout",
          "text": [
            "MAE FOR: Lamb Tikka\n",
            "1.354822039604187\n",
            "\n",
            "\n",
            "1/1 [==============================] - 0s 17ms/step - loss: 2.3460\n"
          ]
        },
        {
          "output_type": "stream",
          "name": "stderr",
          "text": [
            "\r  5%|▍         | 12/248 [00:33<10:34,  2.69s/it]"
          ]
        },
        {
          "output_type": "stream",
          "name": "stdout",
          "text": [
            "MAE FOR: Saag Paneer\n",
            "2.345980167388916\n",
            "\n",
            "\n",
            "1/1 [==============================] - 0s 18ms/step - loss: 1.6330\n"
          ]
        },
        {
          "output_type": "stream",
          "name": "stderr",
          "text": [
            "\r  5%|▌         | 13/248 [00:35<09:56,  2.54s/it]"
          ]
        },
        {
          "output_type": "stream",
          "name": "stdout",
          "text": [
            "MAE FOR: Aloo Chaat\n",
            "1.632990837097168\n",
            "\n",
            "\n",
            "1/1 [==============================] - 0s 18ms/step - loss: 1.3649\n"
          ]
        },
        {
          "output_type": "stream",
          "name": "stderr",
          "text": [
            "\r  6%|▌         | 14/248 [00:37<08:42,  2.23s/it]"
          ]
        },
        {
          "output_type": "stream",
          "name": "stdout",
          "text": [
            "MAE FOR: Chicken Pakora\n",
            "1.364946961402893\n",
            "\n",
            "\n",
            "1/1 [==============================] - 0s 16ms/step - loss: 1.7072\n"
          ]
        },
        {
          "output_type": "stream",
          "name": "stderr",
          "text": [
            "\r  6%|▌         | 15/248 [00:38<07:20,  1.89s/it]"
          ]
        },
        {
          "output_type": "stream",
          "name": "stdout",
          "text": [
            "MAE FOR: Chicken Chilli Garlic\n",
            "1.7072266340255737\n",
            "\n",
            "\n",
            "1/1 [==============================] - 0s 18ms/step - loss: 2.6255\n"
          ]
        },
        {
          "output_type": "stream",
          "name": "stderr",
          "text": [
            "\r  6%|▋         | 16/248 [00:41<08:18,  2.15s/it]"
          ]
        },
        {
          "output_type": "stream",
          "name": "stdout",
          "text": [
            "MAE FOR: Lamb Biryani\n",
            "2.6254830360412598\n",
            "\n",
            "\n",
            "1/1 [==============================] - 0s 19ms/step - loss: 3.9416\n"
          ]
        },
        {
          "output_type": "stream",
          "name": "stderr",
          "text": [
            "\r  7%|▋         | 17/248 [00:44<09:10,  2.38s/it]"
          ]
        },
        {
          "output_type": "stream",
          "name": "stdout",
          "text": [
            "MAE FOR: Keema Naan\n",
            "3.941612720489502\n",
            "\n",
            "\n",
            "1/1 [==============================] - 0s 17ms/step - loss: 2.4783\n"
          ]
        },
        {
          "output_type": "stream",
          "name": "stderr",
          "text": [
            "\r  7%|▋         | 18/248 [00:47<09:48,  2.56s/it]"
          ]
        },
        {
          "output_type": "stream",
          "name": "stdout",
          "text": [
            "MAE FOR: Red Sauce\n",
            "2.478349447250366\n",
            "\n",
            "\n",
            "1/1 [==============================] - 0s 17ms/step - loss: 0.4522\n"
          ]
        },
        {
          "output_type": "stream",
          "name": "stderr",
          "text": [
            "\r  8%|▊         | 19/248 [00:49<09:42,  2.54s/it]"
          ]
        },
        {
          "output_type": "stream",
          "name": "stdout",
          "text": [
            "MAE FOR: Korma - Prawn\n",
            "0.4522072970867157\n",
            "\n",
            "\n",
            "1/1 [==============================] - 0s 18ms/step - loss: 5.3904\n"
          ]
        },
        {
          "output_type": "stream",
          "name": "stderr",
          "text": [
            "\r  8%|▊         | 20/248 [00:52<09:51,  2.60s/it]"
          ]
        },
        {
          "output_type": "stream",
          "name": "stdout",
          "text": [
            "MAE FOR: Peshwari Naan\n",
            "5.390443801879883\n",
            "\n",
            "\n",
            "1/1 [==============================] - 0s 18ms/step - loss: 10.8359\n"
          ]
        },
        {
          "output_type": "stream",
          "name": "stderr",
          "text": [
            "\r  8%|▊         | 21/248 [00:56<11:19,  2.99s/it]"
          ]
        },
        {
          "output_type": "stream",
          "name": "stdout",
          "text": [
            "MAE FOR: Pilau Rice\n",
            "10.83585262298584\n",
            "\n",
            "\n",
            "1/1 [==============================] - 0s 17ms/step - loss: 2.6095\n"
          ]
        },
        {
          "output_type": "stream",
          "name": "stderr",
          "text": [
            "\r  9%|▉         | 22/248 [00:57<09:18,  2.47s/it]"
          ]
        },
        {
          "output_type": "stream",
          "name": "stdout",
          "text": [
            "MAE FOR: Chicken Balti\n",
            "2.6095192432403564\n",
            "\n",
            "\n",
            "1/1 [==============================] - 0s 18ms/step - loss: 3.5553\n"
          ]
        },
        {
          "output_type": "stream",
          "name": "stderr",
          "text": [
            "\r  9%|▉         | 23/248 [00:59<08:18,  2.22s/it]"
          ]
        },
        {
          "output_type": "stream",
          "name": "stdout",
          "text": [
            "MAE FOR: Special Fried Rice\n",
            "3.5553483963012695\n",
            "\n",
            "\n",
            "1/1 [==============================] - 0s 19ms/step - loss: 5.6239\n"
          ]
        },
        {
          "output_type": "stream",
          "name": "stderr",
          "text": [
            "\r 10%|▉         | 24/248 [01:01<08:19,  2.23s/it]"
          ]
        },
        {
          "output_type": "stream",
          "name": "stdout",
          "text": [
            "MAE FOR: Chicken Tikka Masala\n",
            "5.6239447593688965\n",
            "\n",
            "\n",
            "1/1 [==============================] - 0s 17ms/step - loss: 1.8215\n"
          ]
        },
        {
          "output_type": "stream",
          "name": "stderr",
          "text": [
            "\r 10%|█         | 25/248 [01:05<10:03,  2.70s/it]"
          ]
        },
        {
          "output_type": "stream",
          "name": "stdout",
          "text": [
            "MAE FOR: Curry - Lamb\n",
            "1.821466088294983\n",
            "\n",
            "\n",
            "1/1 [==============================] - 0s 18ms/step - loss: 2.3901\n"
          ]
        },
        {
          "output_type": "stream",
          "name": "stderr",
          "text": [
            "\r 10%|█         | 26/248 [01:07<09:37,  2.60s/it]"
          ]
        },
        {
          "output_type": "stream",
          "name": "stdout",
          "text": [
            "MAE FOR: Vegetable Rice\n",
            "2.3900527954101562\n",
            "\n",
            "\n",
            "1/1 [==============================] - 0s 17ms/step - loss: 0.1639\n"
          ]
        },
        {
          "output_type": "stream",
          "name": "stderr",
          "text": [
            "\r 11%|█         | 27/248 [01:11<10:41,  2.90s/it]"
          ]
        },
        {
          "output_type": "stream",
          "name": "stdout",
          "text": [
            "MAE FOR: Saag - Prawn\n",
            "0.16392181813716888\n",
            "\n",
            "\n",
            "1/1 [==============================] - 0s 19ms/step - loss: 0.9961\n"
          ]
        },
        {
          "output_type": "stream",
          "name": "stderr",
          "text": [
            "\r 11%|█▏        | 28/248 [01:14<10:51,  2.96s/it]"
          ]
        },
        {
          "output_type": "stream",
          "name": "stdout",
          "text": [
            "MAE FOR: Tandoori Chicken Masala\n",
            "0.9960968494415283\n",
            "\n",
            "\n",
            "1/1 [==============================] - 0s 19ms/step - loss: 0.3350\n"
          ]
        },
        {
          "output_type": "stream",
          "name": "stderr",
          "text": [
            "\r 12%|█▏        | 29/248 [01:15<08:53,  2.43s/it]"
          ]
        },
        {
          "output_type": "stream",
          "name": "stdout",
          "text": [
            "MAE FOR: Lamb Tikka Chilli Masala\n",
            "0.3350245952606201\n",
            "\n",
            "\n",
            "1/1 [==============================] - 0s 19ms/step - loss: 3.1158\n"
          ]
        },
        {
          "output_type": "stream",
          "name": "stderr",
          "text": [
            "\r 12%|█▏        | 30/248 [01:18<09:58,  2.75s/it]"
          ]
        },
        {
          "output_type": "stream",
          "name": "stdout",
          "text": [
            "MAE FOR: Saag Aloo\n",
            "3.115764856338501\n",
            "\n",
            "\n",
            "1/1 [==============================] - 0s 19ms/step - loss: 1.5413\n"
          ]
        },
        {
          "output_type": "stream",
          "name": "stderr",
          "text": [
            "\r 12%|█▎        | 31/248 [01:22<11:22,  3.15s/it]"
          ]
        },
        {
          "output_type": "stream",
          "name": "stdout",
          "text": [
            "MAE FOR: Aloo Gobi\n",
            "1.5412743091583252\n",
            "\n",
            "\n",
            "1/1 [==============================] - 0s 18ms/step - loss: 1.3344\n"
          ]
        },
        {
          "output_type": "stream",
          "name": "stderr",
          "text": [
            "\r 13%|█▎        | 32/248 [01:24<09:10,  2.55s/it]"
          ]
        },
        {
          "output_type": "stream",
          "name": "stdout",
          "text": [
            "MAE FOR: Bhindi Bhajee\n",
            "1.3343786001205444\n",
            "\n",
            "\n",
            "1/1 [==============================] - 0s 19ms/step - loss: 5.7832\n"
          ]
        },
        {
          "output_type": "stream",
          "name": "stderr",
          "text": [
            "\r 13%|█▎        | 33/248 [01:27<10:07,  2.82s/it]"
          ]
        },
        {
          "output_type": "stream",
          "name": "stdout",
          "text": [
            "MAE FOR: Mint Sauce\n",
            "5.783163547515869\n",
            "\n",
            "\n",
            "1/1 [==============================] - 0s 18ms/step - loss: 2.1761\n"
          ]
        },
        {
          "output_type": "stream",
          "name": "stderr",
          "text": [
            "\r 14%|█▎        | 34/248 [01:28<08:25,  2.36s/it]"
          ]
        },
        {
          "output_type": "stream",
          "name": "stdout",
          "text": [
            "MAE FOR: Chicken Biryani\n",
            "2.176091432571411\n",
            "\n",
            "\n",
            "1/1 [==============================] - 0s 18ms/step - loss: 1.5007\n"
          ]
        },
        {
          "output_type": "stream",
          "name": "stderr",
          "text": [
            "\r 14%|█▍        | 35/248 [01:30<07:16,  2.05s/it]"
          ]
        },
        {
          "output_type": "stream",
          "name": "stdout",
          "text": [
            "MAE FOR: Madras - Chicken Tikka\n",
            "1.5007423162460327\n",
            "\n",
            "\n",
            "1/1 [==============================] - 0s 17ms/step - loss: 4.6900\n"
          ]
        },
        {
          "output_type": "stream",
          "name": "stderr",
          "text": [
            "\r 15%|█▍        | 36/248 [01:33<08:55,  2.53s/it]"
          ]
        },
        {
          "output_type": "stream",
          "name": "stdout",
          "text": [
            "MAE FOR: Bombay Aloo\n",
            "4.689955234527588\n",
            "\n",
            "\n",
            "1/1 [==============================] - 0s 18ms/step - loss: 7.9263\n"
          ]
        },
        {
          "output_type": "stream",
          "name": "stderr",
          "text": [
            "\r 15%|█▍        | 37/248 [01:35<08:27,  2.41s/it]"
          ]
        },
        {
          "output_type": "stream",
          "name": "stdout",
          "text": [
            "MAE FOR: Onion Bhajee\n",
            "7.926316261291504\n",
            "\n",
            "\n",
            "1/1 [==============================] - 0s 18ms/step - loss: 1.8193\n"
          ]
        },
        {
          "output_type": "stream",
          "name": "stderr",
          "text": [
            "\r 15%|█▌        | 38/248 [01:37<07:15,  2.07s/it]"
          ]
        },
        {
          "output_type": "stream",
          "name": "stdout",
          "text": [
            "MAE FOR: Sheek Kebab\n",
            "1.8193354606628418\n",
            "\n",
            "\n",
            "1/1 [==============================] - 0s 17ms/step - loss: 3.8886\n"
          ]
        },
        {
          "output_type": "stream",
          "name": "stderr",
          "text": [
            "\r 16%|█▌        | 39/248 [01:38<06:36,  1.90s/it]"
          ]
        },
        {
          "output_type": "stream",
          "name": "stdout",
          "text": [
            "MAE FOR: Onion Chutney\n",
            "3.8886470794677734\n",
            "\n",
            "\n",
            "1/1 [==============================] - 0s 20ms/step - loss: 2.4174\n"
          ]
        },
        {
          "output_type": "stream",
          "name": "stderr",
          "text": [
            "\r 16%|█▌        | 40/248 [01:41<07:30,  2.17s/it]"
          ]
        },
        {
          "output_type": "stream",
          "name": "stdout",
          "text": [
            "MAE FOR: Chicken Tikka (Main)\n",
            "2.41744327545166\n",
            "\n",
            "\n",
            "1/1 [==============================] - 0s 17ms/step - loss: 16.9508\n"
          ]
        },
        {
          "output_type": "stream",
          "name": "stderr",
          "text": [
            "\r 17%|█▋        | 41/248 [01:42<06:22,  1.85s/it]"
          ]
        },
        {
          "output_type": "stream",
          "name": "stdout",
          "text": [
            "MAE FOR: Korma - Chicken\n",
            "16.95075798034668\n",
            "\n",
            "\n",
            "1/1 [==============================] - 0s 19ms/step - loss: 4.7628\n"
          ]
        },
        {
          "output_type": "stream",
          "name": "stderr",
          "text": [
            "\r 17%|█▋        | 42/248 [01:45<07:36,  2.22s/it]"
          ]
        },
        {
          "output_type": "stream",
          "name": "stdout",
          "text": [
            "MAE FOR: Plain Rice\n",
            "4.762849807739258\n",
            "\n",
            "\n",
            "1/1 [==============================] - 0s 18ms/step - loss: 3.0924\n"
          ]
        },
        {
          "output_type": "stream",
          "name": "stderr",
          "text": [
            "\r 17%|█▋        | 43/248 [01:47<06:56,  2.03s/it]"
          ]
        },
        {
          "output_type": "stream",
          "name": "stdout",
          "text": [
            "MAE FOR: French Fries\n",
            "3.092426061630249\n",
            "\n",
            "\n",
            "1/1 [==============================] - 0s 17ms/step - loss: 4.6429\n"
          ]
        },
        {
          "output_type": "stream",
          "name": "stderr",
          "text": [
            "\r 18%|█▊        | 44/248 [01:49<06:40,  1.96s/it]"
          ]
        },
        {
          "output_type": "stream",
          "name": "stdout",
          "text": [
            "MAE FOR: Meat Samosa\n",
            "4.642900466918945\n",
            "\n",
            "\n",
            "1/1 [==============================] - 0s 18ms/step - loss: 1.3490\n"
          ]
        },
        {
          "output_type": "stream",
          "name": "stderr",
          "text": [
            "\r 18%|█▊        | 45/248 [01:50<05:59,  1.77s/it]"
          ]
        },
        {
          "output_type": "stream",
          "name": "stdout",
          "text": [
            "MAE FOR: Keema Rice\n",
            "1.3489739894866943\n",
            "\n",
            "\n",
            "1/1 [==============================] - 0s 19ms/step - loss: 0.6464\n"
          ]
        },
        {
          "output_type": "stream",
          "name": "stderr",
          "text": [
            "\r 19%|█▊        | 46/248 [01:53<06:50,  2.03s/it]"
          ]
        },
        {
          "output_type": "stream",
          "name": "stdout",
          "text": [
            "MAE FOR: Lamb Hari Mirch\n",
            "0.646405816078186\n",
            "\n",
            "\n",
            "1/1 [==============================] - 0s 17ms/step - loss: 1.2888\n"
          ]
        },
        {
          "output_type": "stream",
          "name": "stderr",
          "text": [
            "\r 19%|█▉        | 47/248 [01:54<06:00,  1.79s/it]"
          ]
        },
        {
          "output_type": "stream",
          "name": "stdout",
          "text": [
            "MAE FOR: Mushroom Bhajee\n",
            "1.2888370752334595\n",
            "\n",
            "\n",
            "1/1 [==============================] - 0s 18ms/step - loss: 5.1440\n"
          ]
        },
        {
          "output_type": "stream",
          "name": "stderr",
          "text": [
            "\r 19%|█▉        | 48/248 [01:59<09:42,  2.91s/it]"
          ]
        },
        {
          "output_type": "stream",
          "name": "stdout",
          "text": [
            "MAE FOR: Curry - Chicken\n",
            "5.144042491912842\n",
            "\n",
            "\n",
            "1/1 [==============================] - 0s 18ms/step - loss: 1.8952\n"
          ]
        },
        {
          "output_type": "stream",
          "name": "stderr",
          "text": [
            "\r 20%|█▉        | 49/248 [02:01<08:33,  2.58s/it]"
          ]
        },
        {
          "output_type": "stream",
          "name": "stdout",
          "text": [
            "MAE FOR: Chicken Tikka Biryani\n",
            "1.8952381610870361\n",
            "\n",
            "\n",
            "1/1 [==============================] - 0s 17ms/step - loss: 1.8325\n"
          ]
        },
        {
          "output_type": "stream",
          "name": "stderr",
          "text": [
            "\r 20%|██        | 50/248 [02:03<07:43,  2.34s/it]"
          ]
        },
        {
          "output_type": "stream",
          "name": "stdout",
          "text": [
            "MAE FOR: Mixed Starter\n",
            "1.8325070142745972\n",
            "\n",
            "\n",
            "1/1 [==============================] - 0s 19ms/step - loss: 1.8947\n"
          ]
        },
        {
          "output_type": "stream",
          "name": "stderr",
          "text": [
            "\r 21%|██        | 51/248 [02:04<06:27,  1.97s/it]"
          ]
        },
        {
          "output_type": "stream",
          "name": "stdout",
          "text": [
            "MAE FOR: Bhuna - Chicken Tikka\n",
            "1.894660472869873\n",
            "\n",
            "\n",
            "1/1 [==============================] - 0s 20ms/step - loss: 2.0460\n"
          ]
        },
        {
          "output_type": "stream",
          "name": "stderr",
          "text": [
            "\r 21%|██        | 52/248 [02:08<07:54,  2.42s/it]"
          ]
        },
        {
          "output_type": "stream",
          "name": "stdout",
          "text": [
            "MAE FOR: Madras - Lamb\n",
            "2.0460398197174072\n",
            "\n",
            "\n",
            "1/1 [==============================] - 0s 18ms/step - loss: 1.0288\n"
          ]
        },
        {
          "output_type": "stream",
          "name": "stderr",
          "text": [
            "\r 21%|██▏       | 53/248 [02:09<06:51,  2.11s/it]"
          ]
        },
        {
          "output_type": "stream",
          "name": "stdout",
          "text": [
            "MAE FOR: Masala Sauce\n",
            "1.0288385152816772\n",
            "\n",
            "\n",
            "1/1 [==============================] - 0s 18ms/step - loss: 2.2637\n"
          ]
        },
        {
          "output_type": "stream",
          "name": "stderr",
          "text": [
            "\r 22%|██▏       | 54/248 [02:10<05:50,  1.81s/it]"
          ]
        },
        {
          "output_type": "stream",
          "name": "stdout",
          "text": [
            "MAE FOR: Bottle Coke\n",
            "2.2636733055114746\n",
            "\n",
            "\n",
            "1/1 [==============================] - 0s 19ms/step - loss: 2.1385\n"
          ]
        },
        {
          "output_type": "stream",
          "name": "stderr",
          "text": [
            "\r 22%|██▏       | 55/248 [02:12<05:52,  1.83s/it]"
          ]
        },
        {
          "output_type": "stream",
          "name": "stdout",
          "text": [
            "MAE FOR: Tandoori Mixed Grill\n",
            "2.1384763717651367\n",
            "\n",
            "\n",
            "1/1 [==============================] - 0s 19ms/step - loss: 1.0917\n"
          ]
        },
        {
          "output_type": "stream",
          "name": "stderr",
          "text": [
            "\r 23%|██▎       | 56/248 [02:13<05:34,  1.74s/it]"
          ]
        },
        {
          "output_type": "stream",
          "name": "stdout",
          "text": [
            "MAE FOR: Korma Sauce\n",
            "1.0917212963104248\n",
            "\n",
            "\n",
            "1/1 [==============================] - 0s 21ms/step - loss: 0.0977\n"
          ]
        },
        {
          "output_type": "stream",
          "name": "stderr",
          "text": [
            "\r 23%|██▎       | 57/248 [02:19<09:28,  2.98s/it]"
          ]
        },
        {
          "output_type": "stream",
          "name": "stdout",
          "text": [
            "MAE FOR: Pathia - Prawn\n",
            "0.09773234277963638\n",
            "\n",
            "\n",
            "1/1 [==============================] - 0s 25ms/step - loss: 2.1380\n"
          ]
        },
        {
          "output_type": "stream",
          "name": "stderr",
          "text": [
            "\r 23%|██▎       | 58/248 [02:22<08:59,  2.84s/it]"
          ]
        },
        {
          "output_type": "stream",
          "name": "stdout",
          "text": [
            "MAE FOR: Chicken Tikka Jalfrezi\n",
            "2.138037919998169\n",
            "\n",
            "\n",
            "1/1 [==============================] - 0s 25ms/step - loss: 1.8719\n"
          ]
        },
        {
          "output_type": "stream",
          "name": "stderr",
          "text": [
            "\r 24%|██▍       | 59/248 [02:23<07:45,  2.47s/it]"
          ]
        },
        {
          "output_type": "stream",
          "name": "stdout",
          "text": [
            "MAE FOR: Bhuna - Lamb\n",
            "1.8719098567962646\n",
            "\n",
            "\n",
            "1/1 [==============================] - 0s 25ms/step - loss: 1.1043\n"
          ]
        },
        {
          "output_type": "stream",
          "name": "stderr",
          "text": [
            "\r 24%|██▍       | 60/248 [02:27<08:28,  2.70s/it]"
          ]
        },
        {
          "output_type": "stream",
          "name": "stdout",
          "text": [
            "MAE FOR: Mixed Vegetable Curry\n",
            "1.1043273210525513\n",
            "\n",
            "\n",
            "1/1 [==============================] - 0s 26ms/step - loss: 0.6456\n"
          ]
        },
        {
          "output_type": "stream",
          "name": "stderr",
          "text": [
            "\r 25%|██▍       | 61/248 [02:30<09:08,  2.93s/it]"
          ]
        },
        {
          "output_type": "stream",
          "name": "stdout",
          "text": [
            "MAE FOR: Dupiaza - Lamb\n",
            "0.6455832719802856\n",
            "\n",
            "\n",
            "1/1 [==============================] - 0s 23ms/step - loss: 1.1880\n"
          ]
        },
        {
          "output_type": "stream",
          "name": "stderr",
          "text": [
            "\r 25%|██▌       | 62/248 [02:32<08:00,  2.58s/it]"
          ]
        },
        {
          "output_type": "stream",
          "name": "stdout",
          "text": [
            "MAE FOR: Lemon Rice\n",
            "1.1879584789276123\n",
            "\n",
            "\n",
            "1/1 [==============================] - 0s 18ms/step - loss: 0.2584\n"
          ]
        },
        {
          "output_type": "stream",
          "name": "stderr",
          "text": [
            "\r 25%|██▌       | 63/248 [02:36<09:45,  3.17s/it]"
          ]
        },
        {
          "output_type": "stream",
          "name": "stdout",
          "text": [
            "MAE FOR: Methi - Lamb\n",
            "0.2584443688392639\n",
            "\n",
            "\n",
            "1/1 [==============================] - 0s 18ms/step - loss: 2.4970\n"
          ]
        },
        {
          "output_type": "stream",
          "name": "stderr",
          "text": [
            "\r 26%|██▌       | 64/248 [02:38<08:22,  2.73s/it]"
          ]
        },
        {
          "output_type": "stream",
          "name": "stdout",
          "text": [
            "MAE FOR: Spicy Papadum\n",
            "2.4969594478607178\n",
            "\n",
            "\n",
            "1/1 [==============================] - 0s 19ms/step - loss: 1.3069\n"
          ]
        },
        {
          "output_type": "stream",
          "name": "stderr",
          "text": [
            "\r 26%|██▌       | 65/248 [02:40<07:07,  2.34s/it]"
          ]
        },
        {
          "output_type": "stream",
          "name": "stdout",
          "text": [
            "MAE FOR: Rogon - Lamb\n",
            "1.306908369064331\n",
            "\n",
            "\n",
            "1/1 [==============================] - 0s 18ms/step - loss: 1.1681\n"
          ]
        },
        {
          "output_type": "stream",
          "name": "stderr",
          "text": [
            "\r 27%|██▋       | 66/248 [02:41<06:22,  2.10s/it]"
          ]
        },
        {
          "output_type": "stream",
          "name": "stdout",
          "text": [
            "MAE FOR: Chicken Tikka Karahi\n",
            "1.1681021451950073\n",
            "\n",
            "\n",
            "1/1 [==============================] - 0s 18ms/step - loss: 2.6370\n"
          ]
        },
        {
          "output_type": "stream",
          "name": "stderr",
          "text": [
            "\r 27%|██▋       | 67/248 [02:44<07:00,  2.32s/it]"
          ]
        },
        {
          "output_type": "stream",
          "name": "stdout",
          "text": [
            "MAE FOR: Bhuna - Chicken\n",
            "2.6370046138763428\n",
            "\n",
            "\n",
            "1/1 [==============================] - 0s 18ms/step - loss: 0.7508\n"
          ]
        },
        {
          "output_type": "stream",
          "name": "stderr",
          "text": [
            "\r 27%|██▋       | 68/248 [02:45<05:52,  1.96s/it]"
          ]
        },
        {
          "output_type": "stream",
          "name": "stdout",
          "text": [
            "MAE FOR: Lamb Mysore\n",
            "0.7507767081260681\n",
            "\n",
            "\n",
            "1/1 [==============================] - 0s 18ms/step - loss: 2.6574\n"
          ]
        },
        {
          "output_type": "stream",
          "name": "stderr",
          "text": [
            "\r 28%|██▊       | 69/248 [02:49<07:44,  2.60s/it]"
          ]
        },
        {
          "output_type": "stream",
          "name": "stdout",
          "text": [
            "MAE FOR: Dhansak - Chicken\n",
            "2.6573920249938965\n",
            "\n",
            "\n",
            "1/1 [==============================] - 0s 19ms/step - loss: 4.5847\n"
          ]
        },
        {
          "output_type": "stream",
          "name": "stderr",
          "text": [
            "\r 28%|██▊       | 70/248 [02:54<09:34,  3.23s/it]"
          ]
        },
        {
          "output_type": "stream",
          "name": "stdout",
          "text": [
            "MAE FOR: Madras - Chicken\n",
            "4.584670066833496\n",
            "\n",
            "\n",
            "1/1 [==============================] - 0s 19ms/step - loss: 1.3064\n"
          ]
        },
        {
          "output_type": "stream",
          "name": "stderr",
          "text": [
            "\r 29%|██▊       | 71/248 [02:56<08:52,  3.01s/it]"
          ]
        },
        {
          "output_type": "stream",
          "name": "stdout",
          "text": [
            "MAE FOR: Chicken Tikka Chilli Masala\n",
            "1.3064099550247192\n",
            "\n",
            "\n",
            "1/1 [==============================] - 0s 18ms/step - loss: 0.5967\n"
          ]
        },
        {
          "output_type": "stream",
          "name": "stderr",
          "text": [
            "\r 29%|██▉       | 72/248 [02:58<07:34,  2.58s/it]"
          ]
        },
        {
          "output_type": "stream",
          "name": "stdout",
          "text": [
            "MAE FOR: Lal Mirch Chicken\n",
            "0.5966649055480957\n",
            "\n",
            "\n",
            "1/1 [==============================] - 0s 17ms/step - loss: 0.3555\n"
          ]
        },
        {
          "output_type": "stream",
          "name": "stderr",
          "text": [
            "\r 29%|██▉       | 73/248 [03:00<07:01,  2.41s/it]"
          ]
        },
        {
          "output_type": "stream",
          "name": "stdout",
          "text": [
            "MAE FOR: Korma - King Prawn\n",
            "0.35550615191459656\n",
            "\n",
            "\n",
            "1/1 [==============================] - 0s 20ms/step - loss: 3.0948\n"
          ]
        },
        {
          "output_type": "stream",
          "name": "stderr",
          "text": [
            "\r 30%|██▉       | 74/248 [03:01<05:57,  2.06s/it]"
          ]
        },
        {
          "output_type": "stream",
          "name": "stdout",
          "text": [
            "MAE FOR: Vindaloo - Chicken\n",
            "3.0948472023010254\n",
            "\n",
            "\n",
            "1/1 [==============================] - 0s 24ms/step - loss: 0.8887\n"
          ]
        },
        {
          "output_type": "stream",
          "name": "stderr",
          "text": [
            "\r 30%|███       | 75/248 [03:03<05:25,  1.88s/it]"
          ]
        },
        {
          "output_type": "stream",
          "name": "stdout",
          "text": [
            "MAE FOR: Vindaloo Sauce\n",
            "0.888685405254364\n",
            "\n",
            "\n",
            "1/1 [==============================] - 0s 26ms/step - loss: 1.7721\n"
          ]
        },
        {
          "output_type": "stream",
          "name": "stderr",
          "text": [
            "\r 31%|███       | 76/248 [03:04<05:13,  1.82s/it]"
          ]
        },
        {
          "output_type": "stream",
          "name": "stdout",
          "text": [
            "MAE FOR: Chana Masala\n",
            "1.7721294164657593\n",
            "\n",
            "\n",
            "1/1 [==============================] - 0s 24ms/step - loss: 3.4705\n"
          ]
        },
        {
          "output_type": "stream",
          "name": "stderr",
          "text": [
            "\r 31%|███       | 77/248 [03:06<04:46,  1.67s/it]"
          ]
        },
        {
          "output_type": "stream",
          "name": "stdout",
          "text": [
            "MAE FOR: Dupiaza - Chicken\n",
            "3.4704689979553223\n",
            "\n",
            "\n",
            "1/1 [==============================] - 0s 23ms/step - loss: 0.8903\n"
          ]
        },
        {
          "output_type": "stream",
          "name": "stderr",
          "text": [
            "\r 31%|███▏      | 78/248 [03:07<04:46,  1.69s/it]"
          ]
        },
        {
          "output_type": "stream",
          "name": "stdout",
          "text": [
            "MAE FOR: Muttar Paneer\n",
            "0.8902585506439209\n",
            "\n",
            "\n",
            "1/1 [==============================] - 0s 25ms/step - loss: 1.4004\n"
          ]
        },
        {
          "output_type": "stream",
          "name": "stderr",
          "text": [
            "\r 32%|███▏      | 79/248 [03:10<05:53,  2.09s/it]"
          ]
        },
        {
          "output_type": "stream",
          "name": "stdout",
          "text": [
            "MAE FOR: Chicken Shashlick\n",
            "1.400435209274292\n",
            "\n",
            "\n",
            "1/1 [==============================] - 0s 18ms/step - loss: 0.6178\n"
          ]
        },
        {
          "output_type": "stream",
          "name": "stderr",
          "text": [
            "\r 32%|███▏      | 80/248 [03:12<05:31,  1.97s/it]"
          ]
        },
        {
          "output_type": "stream",
          "name": "stdout",
          "text": [
            "MAE FOR: Vegetable Balti\n",
            "0.617822527885437\n",
            "\n",
            "\n",
            "1/1 [==============================] - 0s 17ms/step - loss: 1.4312\n"
          ]
        },
        {
          "output_type": "stream",
          "name": "stderr",
          "text": [
            "\r 33%|███▎      | 81/248 [03:13<04:56,  1.78s/it]"
          ]
        },
        {
          "output_type": "stream",
          "name": "stdout",
          "text": [
            "MAE FOR: Cauliflower Bhajee\n",
            "1.4311777353286743\n",
            "\n",
            "\n",
            "1/1 [==============================] - 0s 17ms/step - loss: 3.3935\n"
          ]
        },
        {
          "output_type": "stream",
          "name": "stderr",
          "text": [
            "\r 33%|███▎      | 82/248 [03:16<05:46,  2.09s/it]"
          ]
        },
        {
          "output_type": "stream",
          "name": "stdout",
          "text": [
            "MAE FOR: Butter Chicken\n",
            "3.393502950668335\n",
            "\n",
            "\n",
            "1/1 [==============================] - 0s 18ms/step - loss: 0.3813\n"
          ]
        },
        {
          "output_type": "stream",
          "name": "stderr",
          "text": [
            "\r 33%|███▎      | 83/248 [03:18<05:20,  1.94s/it]"
          ]
        },
        {
          "output_type": "stream",
          "name": "stdout",
          "text": [
            "MAE FOR: Prawn Balti\n",
            "0.3812684118747711\n",
            "\n",
            "\n",
            "1/1 [==============================] - 0s 19ms/step - loss: 0.6136\n"
          ]
        },
        {
          "output_type": "stream",
          "name": "stderr",
          "text": [
            "\r 34%|███▍      | 84/248 [03:20<05:49,  2.13s/it]"
          ]
        },
        {
          "output_type": "stream",
          "name": "stdout",
          "text": [
            "MAE FOR: Pathia - Chicken Tikka\n",
            "0.6135870814323425\n",
            "\n",
            "\n",
            "1/1 [==============================] - 0s 18ms/step - loss: 1.4009\n"
          ]
        },
        {
          "output_type": "stream",
          "name": "stderr",
          "text": [
            "\r 34%|███▍      | 85/248 [03:22<04:59,  1.84s/it]"
          ]
        },
        {
          "output_type": "stream",
          "name": "stdout",
          "text": [
            "MAE FOR: COBRA ( LARGE )\n",
            "1.4008722305297852\n",
            "\n",
            "\n",
            "1/1 [==============================] - 0s 17ms/step - loss: 0.2041\n"
          ]
        },
        {
          "output_type": "stream",
          "name": "stderr",
          "text": [
            "\r 35%|███▍      | 86/248 [03:24<05:25,  2.01s/it]"
          ]
        },
        {
          "output_type": "stream",
          "name": "stdout",
          "text": [
            "MAE FOR: House white wine 75cl\n",
            "0.2040826380252838\n",
            "\n",
            "\n",
            "1/1 [==============================] - 0s 18ms/step - loss: 1.7535\n"
          ]
        },
        {
          "output_type": "stream",
          "name": "stderr",
          "text": [
            "\r 35%|███▌      | 87/248 [03:26<05:36,  2.09s/it]"
          ]
        },
        {
          "output_type": "stream",
          "name": "stdout",
          "text": [
            "MAE FOR: Lime Pickle\n",
            "1.7535439729690552\n",
            "\n",
            "\n",
            "1/1 [==============================] - 0s 18ms/step - loss: 2.2650\n"
          ]
        },
        {
          "output_type": "stream",
          "name": "stderr",
          "text": [
            "\r 35%|███▌      | 88/248 [03:29<05:53,  2.21s/it]"
          ]
        },
        {
          "output_type": "stream",
          "name": "stdout",
          "text": [
            "MAE FOR: King Prawn Shaslick\n",
            "2.264991521835327\n",
            "\n",
            "\n",
            "1/1 [==============================] - 0s 17ms/step - loss: 0.8445\n"
          ]
        },
        {
          "output_type": "stream",
          "name": "stderr",
          "text": [
            "\r 36%|███▌      | 89/248 [03:30<05:04,  1.92s/it]"
          ]
        },
        {
          "output_type": "stream",
          "name": "stdout",
          "text": [
            "MAE FOR: Stuffed Paratha\n",
            "0.8445368409156799\n",
            "\n",
            "\n",
            "1/1 [==============================] - 0s 18ms/step - loss: 0.8887\n"
          ]
        },
        {
          "output_type": "stream",
          "name": "stderr",
          "text": [
            "\r 36%|███▋      | 90/248 [03:31<04:31,  1.72s/it]"
          ]
        },
        {
          "output_type": "stream",
          "name": "stdout",
          "text": [
            "MAE FOR: Curry Sauce\n",
            "0.8886764049530029\n",
            "\n",
            "\n",
            "1/1 [==============================] - 0s 17ms/step - loss: 1.3923\n"
          ]
        },
        {
          "output_type": "stream",
          "name": "stderr",
          "text": [
            "\r 37%|███▋      | 91/248 [03:32<04:04,  1.56s/it]"
          ]
        },
        {
          "output_type": "stream",
          "name": "stdout",
          "text": [
            "MAE FOR: Raitha\n",
            "1.3923009634017944\n",
            "\n",
            "\n",
            "1/1 [==============================] - 0s 17ms/step - loss: 0.7572\n"
          ]
        },
        {
          "output_type": "stream",
          "name": "stderr",
          "text": [
            "\r 37%|███▋      | 92/248 [03:36<05:17,  2.04s/it]"
          ]
        },
        {
          "output_type": "stream",
          "name": "stdout",
          "text": [
            "MAE FOR: Bottle Diet Coke\n",
            "0.7571935057640076\n",
            "\n",
            "\n",
            "1/1 [==============================] - 0s 19ms/step - loss: 1.8455\n"
          ]
        },
        {
          "output_type": "stream",
          "name": "stderr",
          "text": [
            "\r 38%|███▊      | 93/248 [03:37<04:48,  1.86s/it]"
          ]
        },
        {
          "output_type": "stream",
          "name": "stdout",
          "text": [
            "MAE FOR: Tarka Dall\n",
            "1.8455089330673218\n",
            "\n",
            "\n",
            "1/1 [==============================] - 0s 23ms/step - loss: 1.2594\n"
          ]
        },
        {
          "output_type": "stream",
          "name": "stderr",
          "text": [
            "\r 38%|███▊      | 94/248 [03:38<04:26,  1.73s/it]"
          ]
        },
        {
          "output_type": "stream",
          "name": "stdout",
          "text": [
            "MAE FOR: Saag Dall\n",
            "1.2593961954116821\n",
            "\n",
            "\n",
            "1/1 [==============================] - 0s 26ms/step - loss: 0.8787\n"
          ]
        },
        {
          "output_type": "stream",
          "name": "stderr",
          "text": [
            "\r 38%|███▊      | 95/248 [03:40<04:26,  1.74s/it]"
          ]
        },
        {
          "output_type": "stream",
          "name": "stdout",
          "text": [
            "MAE FOR: Dhansak - Lamb\n",
            "0.8786979913711548\n",
            "\n",
            "\n",
            "1/1 [==============================] - 0s 23ms/step - loss: 0.9247\n"
          ]
        },
        {
          "output_type": "stream",
          "name": "stderr",
          "text": [
            "\r 39%|███▊      | 96/248 [03:43<05:09,  2.03s/it]"
          ]
        },
        {
          "output_type": "stream",
          "name": "stdout",
          "text": [
            "MAE FOR: Green Salad\n",
            "0.9246576428413391\n",
            "\n",
            "\n",
            "1/1 [==============================] - 0s 20ms/step - loss: 1.6537\n"
          ]
        },
        {
          "output_type": "stream",
          "name": "stderr",
          "text": [
            "\r 39%|███▉      | 97/248 [03:47<06:36,  2.63s/it]"
          ]
        },
        {
          "output_type": "stream",
          "name": "stdout",
          "text": [
            "MAE FOR: Vegetable Biryani\n",
            "1.6536601781845093\n",
            "\n",
            "\n",
            "1/1 [==============================] - 0s 17ms/step - loss: 0.3894\n"
          ]
        },
        {
          "output_type": "stream",
          "name": "stderr",
          "text": [
            "\r 40%|███▉      | 98/248 [03:49<06:01,  2.41s/it]"
          ]
        },
        {
          "output_type": "stream",
          "name": "stdout",
          "text": [
            "MAE FOR: Madras - King Prawn\n",
            "0.38935336470603943\n",
            "\n",
            "\n",
            "1/1 [==============================] - 0s 17ms/step - loss: 0.6715\n"
          ]
        },
        {
          "output_type": "stream",
          "name": "stderr",
          "text": [
            "\r 40%|███▉      | 99/248 [03:50<05:12,  2.10s/it]"
          ]
        },
        {
          "output_type": "stream",
          "name": "stdout",
          "text": [
            "MAE FOR: Rogon - Chicken\n",
            "0.6714590787887573\n",
            "\n",
            "\n",
            "1/1 [==============================] - 0s 18ms/step - loss: 2.8311\n"
          ]
        },
        {
          "output_type": "stream",
          "name": "stderr",
          "text": [
            "\r 40%|████      | 100/248 [03:53<05:40,  2.30s/it]"
          ]
        },
        {
          "output_type": "stream",
          "name": "stdout",
          "text": [
            "MAE FOR: Chicken Tikka\n",
            "2.831062078475952\n",
            "\n",
            "\n",
            "1/1 [==============================] - 0s 18ms/step - loss: 1.6600\n"
          ]
        },
        {
          "output_type": "stream",
          "name": "stderr",
          "text": [
            "\r 41%|████      | 101/248 [03:55<05:42,  2.33s/it]"
          ]
        },
        {
          "output_type": "stream",
          "name": "stdout",
          "text": [
            "MAE FOR: Royal Paneer\n",
            "1.6599560976028442\n",
            "\n",
            "\n",
            "1/1 [==============================] - 0s 17ms/step - loss: 0.4456\n"
          ]
        },
        {
          "output_type": "stream",
          "name": "stderr",
          "text": [
            "\r 41%|████      | 102/248 [03:57<05:22,  2.21s/it]"
          ]
        },
        {
          "output_type": "stream",
          "name": "stdout",
          "text": [
            "MAE FOR: Lamb Sylhet\n",
            "0.4456466734409332\n",
            "\n",
            "\n",
            "1/1 [==============================] - 0s 18ms/step - loss: 0.5813\n"
          ]
        },
        {
          "output_type": "stream",
          "name": "stderr",
          "text": [
            "\r 42%|████▏     | 103/248 [04:02<07:05,  2.94s/it]"
          ]
        },
        {
          "output_type": "stream",
          "name": "stdout",
          "text": [
            "MAE FOR: Dupiaza - Chicken Tikka\n",
            "0.5813397765159607\n",
            "\n",
            "\n",
            "1/1 [==============================] - 0s 18ms/step - loss: 1.3261\n"
          ]
        },
        {
          "output_type": "stream",
          "name": "stderr",
          "text": [
            "\r 42%|████▏     | 104/248 [04:03<05:53,  2.45s/it]"
          ]
        },
        {
          "output_type": "stream",
          "name": "stdout",
          "text": [
            "MAE FOR: Saag - Chicken\n",
            "1.3261147737503052\n",
            "\n",
            "\n",
            "1/1 [==============================] - 0s 20ms/step - loss: 1.1134\n"
          ]
        },
        {
          "output_type": "stream",
          "name": "stderr",
          "text": [
            "\r 42%|████▏     | 105/248 [04:05<05:16,  2.21s/it]"
          ]
        },
        {
          "output_type": "stream",
          "name": "stdout",
          "text": [
            "MAE FOR: Saag Rice\n",
            "1.1134434938430786\n",
            "\n",
            "\n",
            "1/1 [==============================] - 0s 17ms/step - loss: 1.1104\n"
          ]
        },
        {
          "output_type": "stream",
          "name": "stderr",
          "text": [
            "\r 43%|████▎     | 106/248 [04:07<04:49,  2.04s/it]"
          ]
        },
        {
          "output_type": "stream",
          "name": "stdout",
          "text": [
            "MAE FOR: Lamb Tikka Masala\n",
            "1.1104000806808472\n",
            "\n",
            "\n",
            "1/1 [==============================] - 0s 18ms/step - loss: 0.6062\n"
          ]
        },
        {
          "output_type": "stream",
          "name": "stderr",
          "text": [
            "\r 43%|████▎     | 107/248 [04:08<04:26,  1.89s/it]"
          ]
        },
        {
          "output_type": "stream",
          "name": "stdout",
          "text": [
            "MAE FOR: Paneer Tikka Sizzler\n",
            "0.606170654296875\n",
            "\n",
            "\n",
            "1/1 [==============================] - 0s 18ms/step - loss: 0.7427\n"
          ]
        },
        {
          "output_type": "stream",
          "name": "stderr",
          "text": [
            "\r 44%|████▎     | 108/248 [04:09<04:03,  1.74s/it]"
          ]
        },
        {
          "output_type": "stream",
          "name": "stdout",
          "text": [
            "MAE FOR: Chicken Mysore\n",
            "0.7427249550819397\n",
            "\n",
            "\n",
            "1/1 [==============================] - 0s 18ms/step - loss: 0.5569\n"
          ]
        },
        {
          "output_type": "stream",
          "name": "stderr",
          "text": [
            "\r 44%|████▍     | 109/248 [04:11<03:36,  1.55s/it]"
          ]
        },
        {
          "output_type": "stream",
          "name": "stdout",
          "text": [
            "MAE FOR: Lamb Chilli Garlic\n",
            "0.5569339394569397\n",
            "\n",
            "\n",
            "1/1 [==============================] - 0s 19ms/step - loss: 1.6008\n"
          ]
        },
        {
          "output_type": "stream",
          "name": "stderr",
          "text": [
            "\r 44%|████▍     | 110/248 [04:12<03:48,  1.65s/it]"
          ]
        },
        {
          "output_type": "stream",
          "name": "stdout",
          "text": [
            "MAE FOR: Tandoori Roti\n",
            "1.6008493900299072\n",
            "\n",
            "\n",
            "1/1 [==============================] - 0s 19ms/step - loss: 1.2933\n"
          ]
        },
        {
          "output_type": "stream",
          "name": "stderr",
          "text": [
            "\r 45%|████▍     | 111/248 [04:15<04:05,  1.79s/it]"
          ]
        },
        {
          "output_type": "stream",
          "name": "stdout",
          "text": [
            "MAE FOR: King Prawn Puree\n",
            "1.2933467626571655\n",
            "\n",
            "\n",
            "1/1 [==============================] - 0s 20ms/step - loss: 0.6965\n"
          ]
        },
        {
          "output_type": "stream",
          "name": "stderr",
          "text": [
            "\r 45%|████▌     | 112/248 [04:16<03:40,  1.62s/it]"
          ]
        },
        {
          "output_type": "stream",
          "name": "stdout",
          "text": [
            "MAE FOR: Dhansak Sauce\n",
            "0.6965189576148987\n",
            "\n",
            "\n",
            "1/1 [==============================] - 0s 24ms/step - loss: 1.7149\n"
          ]
        },
        {
          "output_type": "stream",
          "name": "stderr",
          "text": [
            "\r 46%|████▌     | 113/248 [04:18<03:43,  1.66s/it]"
          ]
        },
        {
          "output_type": "stream",
          "name": "stdout",
          "text": [
            "MAE FOR: Baingan Hari Mirch\n",
            "1.714914083480835\n",
            "\n",
            "\n",
            "1/1 [==============================] - 0s 18ms/step - loss: 1.2924\n"
          ]
        },
        {
          "output_type": "stream",
          "name": "stderr",
          "text": [
            "\r 46%|████▌     | 114/248 [04:20<03:58,  1.78s/it]"
          ]
        },
        {
          "output_type": "stream",
          "name": "stdout",
          "text": [
            "MAE FOR: Puree\n",
            "1.2923606634140015\n",
            "\n",
            "\n",
            "1/1 [==============================] - 0s 19ms/step - loss: 1.3668\n"
          ]
        },
        {
          "output_type": "stream",
          "name": "stderr",
          "text": [
            "\r 46%|████▋     | 115/248 [04:22<04:02,  1.83s/it]"
          ]
        },
        {
          "output_type": "stream",
          "name": "stdout",
          "text": [
            "MAE FOR: Onion Naan\n",
            "1.36676025390625\n",
            "\n",
            "\n",
            "1/1 [==============================] - 0s 18ms/step - loss: 2.0640\n"
          ]
        },
        {
          "output_type": "stream",
          "name": "stderr",
          "text": [
            "\r 47%|████▋     | 116/248 [04:23<03:57,  1.80s/it]"
          ]
        },
        {
          "output_type": "stream",
          "name": "stdout",
          "text": [
            "MAE FOR: Paratha\n",
            "2.064007043838501\n",
            "\n",
            "\n",
            "1/1 [==============================] - 0s 18ms/step - loss: 0.9040\n"
          ]
        },
        {
          "output_type": "stream",
          "name": "stderr",
          "text": [
            "\r 47%|████▋     | 117/248 [04:25<03:37,  1.66s/it]"
          ]
        },
        {
          "output_type": "stream",
          "name": "stdout",
          "text": [
            "MAE FOR: Kulcha Naan\n",
            "0.9040101766586304\n",
            "\n",
            "\n",
            "1/1 [==============================] - 0s 18ms/step - loss: 0.7871\n"
          ]
        },
        {
          "output_type": "stream",
          "name": "stderr",
          "text": [
            "\r 48%|████▊     | 118/248 [04:27<03:53,  1.80s/it]"
          ]
        },
        {
          "output_type": "stream",
          "name": "stdout",
          "text": [
            "MAE FOR: Lemonade 1.5 ltr\n",
            "0.7870886921882629\n",
            "\n",
            "\n",
            "1/1 [==============================] - 0s 18ms/step - loss: 0.3102\n"
          ]
        },
        {
          "output_type": "stream",
          "name": "stderr",
          "text": [
            "\r 48%|████▊     | 119/248 [04:28<03:35,  1.67s/it]"
          ]
        },
        {
          "output_type": "stream",
          "name": "stdout",
          "text": [
            "MAE FOR: Diet Coke 1.5 ltr\n",
            "0.31021106243133545\n",
            "\n",
            "\n",
            "1/1 [==============================] - 0s 17ms/step - loss: 0.6505\n"
          ]
        },
        {
          "output_type": "stream",
          "name": "stderr",
          "text": [
            "\r 48%|████▊     | 120/248 [04:29<03:12,  1.51s/it]"
          ]
        },
        {
          "output_type": "stream",
          "name": "stdout",
          "text": [
            "MAE FOR: Coke 1.5 ltr\n",
            "0.650507390499115\n",
            "\n",
            "\n",
            "1/1 [==============================] - 0s 17ms/step - loss: 1.2742\n"
          ]
        },
        {
          "output_type": "stream",
          "name": "stderr",
          "text": [
            "\r 49%|████▉     | 121/248 [04:30<03:00,  1.42s/it]"
          ]
        },
        {
          "output_type": "stream",
          "name": "stdout",
          "text": [
            "MAE FOR: Garlic Rice\n",
            "1.2741678953170776\n",
            "\n",
            "\n",
            "1/1 [==============================] - 0s 18ms/step - loss: 1.2152\n"
          ]
        },
        {
          "output_type": "stream",
          "name": "stderr",
          "text": [
            "\r 49%|████▉     | 122/248 [04:32<03:20,  1.59s/it]"
          ]
        },
        {
          "output_type": "stream",
          "name": "stdout",
          "text": [
            "MAE FOR: Onion Rice\n",
            "1.2151931524276733\n",
            "\n",
            "\n",
            "1/1 [==============================] - 0s 18ms/step - loss: 0.2599\n"
          ]
        },
        {
          "output_type": "stream",
          "name": "stderr",
          "text": [
            "\r 50%|████▉     | 123/248 [04:35<03:57,  1.90s/it]"
          ]
        },
        {
          "output_type": "stream",
          "name": "stdout",
          "text": [
            "MAE FOR: Perrier Water (750ml)\n",
            "0.25986865162849426\n",
            "\n",
            "\n",
            "1/1 [==============================] - 0s 18ms/step - loss: 1.4576\n"
          ]
        },
        {
          "output_type": "stream",
          "name": "stderr",
          "text": [
            "\r 50%|█████     | 124/248 [04:39<05:11,  2.51s/it]"
          ]
        },
        {
          "output_type": "stream",
          "name": "stdout",
          "text": [
            "MAE FOR: Egg Rice\n",
            "1.4575567245483398\n",
            "\n",
            "\n",
            "1/1 [==============================] - 0s 20ms/step - loss: 0.3902\n"
          ]
        },
        {
          "output_type": "stream",
          "name": "stderr",
          "text": [
            "\r 50%|█████     | 125/248 [04:43<05:56,  2.90s/it]"
          ]
        },
        {
          "output_type": "stream",
          "name": "stdout",
          "text": [
            "MAE FOR: Egg Paratha\n",
            "0.39021098613739014\n",
            "\n",
            "\n",
            "1/1 [==============================] - 0s 21ms/step - loss: 0.7099\n"
          ]
        },
        {
          "output_type": "stream",
          "name": "stderr",
          "text": [
            "\r 51%|█████     | 126/248 [04:46<05:49,  2.86s/it]"
          ]
        },
        {
          "output_type": "stream",
          "name": "stdout",
          "text": [
            "MAE FOR: COBRA (330ML)\n",
            "0.7099406123161316\n",
            "\n",
            "\n",
            "1/1 [==============================] - 0s 24ms/step - loss: 0.8408\n"
          ]
        },
        {
          "output_type": "stream",
          "name": "stderr",
          "text": [
            "\r 51%|█████     | 127/248 [04:47<04:46,  2.37s/it]"
          ]
        },
        {
          "output_type": "stream",
          "name": "stdout",
          "text": [
            "MAE FOR: Madras Sauce\n",
            "0.8408226370811462\n",
            "\n",
            "\n",
            "1/1 [==============================] - 0s 24ms/step - loss: 0.3924\n"
          ]
        },
        {
          "output_type": "stream",
          "name": "stderr",
          "text": [
            "\r 52%|█████▏    | 128/248 [04:49<04:21,  2.18s/it]"
          ]
        },
        {
          "output_type": "stream",
          "name": "stdout",
          "text": [
            "MAE FOR: Bengal Salad\n",
            "0.3924420177936554\n",
            "\n",
            "\n",
            "1/1 [==============================] - 0s 24ms/step - loss: 0.2388\n"
          ]
        },
        {
          "output_type": "stream",
          "name": "stderr",
          "text": [
            "\r 52%|█████▏    | 129/248 [04:52<05:15,  2.66s/it]"
          ]
        },
        {
          "output_type": "stream",
          "name": "stdout",
          "text": [
            "MAE FOR: Still Water (750ml)\n",
            "0.23881790041923523\n",
            "\n",
            "\n",
            "1/1 [==============================] - 0s 25ms/step - loss: 0.0021\n"
          ]
        },
        {
          "output_type": "stream",
          "name": "stderr",
          "text": [
            "\r 52%|█████▏    | 130/248 [04:56<06:03,  3.08s/it]"
          ]
        },
        {
          "output_type": "stream",
          "name": "stdout",
          "text": [
            "MAE FOR: Prier Water (750ml)\n",
            "0.0021020094864070415\n",
            "\n",
            "\n",
            "1/1 [==============================] - 0s 23ms/step - loss: 0.0028\n"
          ]
        },
        {
          "output_type": "stream",
          "name": "stderr",
          "text": [
            "\r 53%|█████▎    | 131/248 [04:59<05:58,  3.07s/it]"
          ]
        },
        {
          "output_type": "stream",
          "name": "stdout",
          "text": [
            "MAE FOR: Onion Bhaji\n",
            "0.0028483422938734293\n",
            "\n",
            "\n",
            "1/1 [==============================] - 0s 21ms/step - loss: 2.1626\n"
          ]
        },
        {
          "output_type": "stream",
          "name": "stderr",
          "text": [
            "\r 53%|█████▎    | 132/248 [05:01<05:11,  2.69s/it]"
          ]
        },
        {
          "output_type": "stream",
          "name": "stdout",
          "text": [
            "MAE FOR: Chicken Chaat\n",
            "2.1626298427581787\n",
            "\n",
            "\n",
            "1/1 [==============================] - 0s 17ms/step - loss: 2.2245\n"
          ]
        },
        {
          "output_type": "stream",
          "name": "stderr",
          "text": [
            "\r 54%|█████▎    | 133/248 [05:03<04:21,  2.28s/it]"
          ]
        },
        {
          "output_type": "stream",
          "name": "stdout",
          "text": [
            "MAE FOR: Prawn Puree\n",
            "2.2244656085968018\n",
            "\n",
            "\n",
            "1/1 [==============================] - 0s 18ms/step - loss: 1.0207\n"
          ]
        },
        {
          "output_type": "stream",
          "name": "stderr",
          "text": [
            "\r 54%|█████▍    | 134/248 [05:05<04:37,  2.44s/it]"
          ]
        },
        {
          "output_type": "stream",
          "name": "stdout",
          "text": [
            "MAE FOR: Vegetable Roll\n",
            "1.0206716060638428\n",
            "\n",
            "\n",
            "1/1 [==============================] - 0s 17ms/step - loss: 0.0064\n"
          ]
        },
        {
          "output_type": "stream",
          "name": "stderr",
          "text": [
            "\r 54%|█████▍    | 135/248 [05:09<05:05,  2.71s/it]"
          ]
        },
        {
          "output_type": "stream",
          "name": "stdout",
          "text": [
            "MAE FOR: Sheek Kehab\n",
            "0.0063774120062589645\n",
            "\n",
            "\n",
            "1/1 [==============================] - 0s 18ms/step - loss: 0.0067\n"
          ]
        },
        {
          "output_type": "stream",
          "name": "stderr",
          "text": [
            "\r 55%|█████▍    | 136/248 [05:11<05:04,  2.72s/it]"
          ]
        },
        {
          "output_type": "stream",
          "name": "stdout",
          "text": [
            "MAE FOR: Vegetable Samosa\n",
            "0.006668493617326021\n",
            "\n",
            "\n",
            "1/1 [==============================] - 0s 20ms/step - loss: 0.5485\n"
          ]
        },
        {
          "output_type": "stream",
          "name": "stderr",
          "text": [
            "\r 55%|█████▌    | 137/248 [05:15<05:34,  3.01s/it]"
          ]
        },
        {
          "output_type": "stream",
          "name": "stdout",
          "text": [
            "MAE FOR: Aloo Methi\n",
            "0.5485032796859741\n",
            "\n",
            "\n",
            "1/1 [==============================] - 0s 17ms/step - loss: 0.7962\n"
          ]
        },
        {
          "output_type": "stream",
          "name": "stderr",
          "text": [
            "\r 56%|█████▌    | 138/248 [05:17<04:53,  2.67s/it]"
          ]
        },
        {
          "output_type": "stream",
          "name": "stdout",
          "text": [
            "MAE FOR: Saag Bhajee\n",
            "0.7962113618850708\n",
            "\n",
            "\n",
            "1/1 [==============================] - 0s 18ms/step - loss: 0.7429\n"
          ]
        },
        {
          "output_type": "stream",
          "name": "stderr",
          "text": [
            "\r 56%|█████▌    | 139/248 [05:19<04:22,  2.41s/it]"
          ]
        },
        {
          "output_type": "stream",
          "name": "stdout",
          "text": [
            "MAE FOR: Tandoori Fish\n",
            "0.7429447770118713\n",
            "\n",
            "\n",
            "1/1 [==============================] - 0s 18ms/step - loss: 1.0887\n"
          ]
        },
        {
          "output_type": "stream",
          "name": "stderr",
          "text": [
            "\r 56%|█████▋    | 140/248 [05:20<03:51,  2.15s/it]"
          ]
        },
        {
          "output_type": "stream",
          "name": "stdout",
          "text": [
            "MAE FOR: Brinjal Bhajee\n",
            "1.0886667966842651\n",
            "\n",
            "\n",
            "1/1 [==============================] - 0s 19ms/step - loss: 0.6269\n"
          ]
        },
        {
          "output_type": "stream",
          "name": "stderr",
          "text": [
            "\r 57%|█████▋    | 141/248 [05:21<03:17,  1.85s/it]"
          ]
        },
        {
          "output_type": "stream",
          "name": "stdout",
          "text": [
            "MAE FOR: Vegetable Mysore\n",
            "0.6268603801727295\n",
            "\n",
            "\n",
            "1/1 [==============================] - 0s 19ms/step - loss: 0.7155\n"
          ]
        },
        {
          "output_type": "stream",
          "name": "stderr",
          "text": [
            "\r 57%|█████▋    | 142/248 [05:24<03:24,  1.93s/it]"
          ]
        },
        {
          "output_type": "stream",
          "name": "stdout",
          "text": [
            "MAE FOR: King Prawn Butterfly\n",
            "0.7154756784439087\n",
            "\n",
            "\n",
            "1/1 [==============================] - 0s 18ms/step - loss: 0.5027\n"
          ]
        },
        {
          "output_type": "stream",
          "name": "stderr",
          "text": [
            "\r 58%|█████▊    | 143/248 [05:26<03:41,  2.11s/it]"
          ]
        },
        {
          "output_type": "stream",
          "name": "stdout",
          "text": [
            "MAE FOR: Dall Samba\n",
            "0.5027274489402771\n",
            "\n",
            "\n",
            "1/1 [==============================] - 0s 18ms/step - loss: 0.8822\n"
          ]
        },
        {
          "output_type": "stream",
          "name": "stderr",
          "text": [
            "\r 58%|█████▊    | 144/248 [05:27<03:08,  1.81s/it]"
          ]
        },
        {
          "output_type": "stream",
          "name": "stdout",
          "text": [
            "MAE FOR: COBRA (660ML)\n",
            "0.8822196125984192\n",
            "\n",
            "\n",
            "1/1 [==============================] - 0s 19ms/step - loss: 0.0015\n"
          ]
        },
        {
          "output_type": "stream",
          "name": "stderr",
          "text": [
            "\r 58%|█████▊    | 145/248 [05:29<03:15,  1.90s/it]"
          ]
        },
        {
          "output_type": "stream",
          "name": "stdout",
          "text": [
            "MAE FOR: Chicken Chaat Main\n",
            "0.0014977954560890794\n",
            "\n",
            "\n",
            "1/1 [==============================] - 0s 18ms/step - loss: 1.4472\n"
          ]
        },
        {
          "output_type": "stream",
          "name": "stderr",
          "text": [
            "\r 59%|█████▉    | 146/248 [05:31<02:57,  1.74s/it]"
          ]
        },
        {
          "output_type": "stream",
          "name": "stdout",
          "text": [
            "MAE FOR: Curry - Chicken Tikka\n",
            "1.447176218032837\n",
            "\n",
            "\n",
            "1/1 [==============================] - 0s 19ms/step - loss: 0.1933\n"
          ]
        },
        {
          "output_type": "stream",
          "name": "stderr",
          "text": [
            "\r 59%|█████▉    | 147/248 [05:36<04:45,  2.82s/it]"
          ]
        },
        {
          "output_type": "stream",
          "name": "stdout",
          "text": [
            "MAE FOR: Vindaloo - Chicken Tikka\n",
            "0.19332155585289001\n",
            "\n",
            "\n",
            "1/1 [==============================] - 0s 25ms/step - loss: 3.9290\n"
          ]
        },
        {
          "output_type": "stream",
          "name": "stderr",
          "text": [
            "\r 60%|█████▉    | 148/248 [05:37<03:56,  2.36s/it]"
          ]
        },
        {
          "output_type": "stream",
          "name": "stdout",
          "text": [
            "MAE FOR: Madras\n",
            "3.9290168285369873\n",
            "\n",
            "\n",
            "1/1 [==============================] - 0s 23ms/step - loss: 2.7733\n"
          ]
        },
        {
          "output_type": "stream",
          "name": "stderr",
          "text": [
            "\r 60%|██████    | 149/248 [05:39<03:20,  2.03s/it]"
          ]
        },
        {
          "output_type": "stream",
          "name": "stdout",
          "text": [
            "MAE FOR: Curry\n",
            "2.7733094692230225\n",
            "\n",
            "\n",
            "1/1 [==============================] - 0s 26ms/step - loss: 1.2362\n"
          ]
        },
        {
          "output_type": "stream",
          "name": "stderr",
          "text": [
            "\r 60%|██████    | 150/248 [05:40<02:55,  1.79s/it]"
          ]
        },
        {
          "output_type": "stream",
          "name": "stdout",
          "text": [
            "MAE FOR: Vindaloo\n",
            "1.2362135648727417\n",
            "\n",
            "\n",
            "1/1 [==============================] - 0s 18ms/step - loss: 1.6756\n"
          ]
        },
        {
          "output_type": "stream",
          "name": "stderr",
          "text": [
            "\r 61%|██████    | 151/248 [05:42<02:52,  1.78s/it]"
          ]
        },
        {
          "output_type": "stream",
          "name": "stdout",
          "text": [
            "MAE FOR: Tandoori Chicken (Main)\n",
            "1.6756237745285034\n",
            "\n",
            "\n",
            "1/1 [==============================] - 0s 17ms/step - loss: 0.9237\n"
          ]
        },
        {
          "output_type": "stream",
          "name": "stderr",
          "text": [
            "\r 61%|██████▏   | 152/248 [05:43<02:33,  1.60s/it]"
          ]
        },
        {
          "output_type": "stream",
          "name": "stdout",
          "text": [
            "MAE FOR: Korma - Chicken Tikka\n",
            "0.9236660599708557\n",
            "\n",
            "\n",
            "1/1 [==============================] - 0s 17ms/step - loss: 0.4518\n"
          ]
        },
        {
          "output_type": "stream",
          "name": "stderr",
          "text": [
            "\r 62%|██████▏   | 153/248 [05:47<03:48,  2.41s/it]"
          ]
        },
        {
          "output_type": "stream",
          "name": "stdout",
          "text": [
            "MAE FOR: Pathia - Lamb\n",
            "0.45179811120033264\n",
            "\n",
            "\n",
            "1/1 [==============================] - 0s 18ms/step - loss: 1.1694\n"
          ]
        },
        {
          "output_type": "stream",
          "name": "stderr",
          "text": [
            "\r 62%|██████▏   | 154/248 [05:48<03:13,  2.06s/it]"
          ]
        },
        {
          "output_type": "stream",
          "name": "stdout",
          "text": [
            "MAE FOR: Chicken Karahi\n",
            "1.1693702936172485\n",
            "\n",
            "\n",
            "1/1 [==============================] - 0s 19ms/step - loss: 0.9960\n"
          ]
        },
        {
          "output_type": "stream",
          "name": "stderr",
          "text": [
            "\r 62%|██████▎   | 155/248 [05:50<02:51,  1.85s/it]"
          ]
        },
        {
          "output_type": "stream",
          "name": "stdout",
          "text": [
            "MAE FOR: Dhansak - Chicken Tikka\n",
            "0.9960134029388428\n",
            "\n",
            "\n",
            "1/1 [==============================] - 0s 19ms/step - loss: 1.1300\n"
          ]
        },
        {
          "output_type": "stream",
          "name": "stderr",
          "text": [
            "\r 63%|██████▎   | 156/248 [05:51<02:42,  1.77s/it]"
          ]
        },
        {
          "output_type": "stream",
          "name": "stdout",
          "text": [
            "MAE FOR: Chicken Tikka Pasanda\n",
            "1.1300292015075684\n",
            "\n",
            "\n",
            "1/1 [==============================] - 0s 18ms/step - loss: 1.4840\n"
          ]
        },
        {
          "output_type": "stream",
          "name": "stderr",
          "text": [
            "\r 63%|██████▎   | 157/248 [05:52<02:25,  1.60s/it]"
          ]
        },
        {
          "output_type": "stream",
          "name": "stdout",
          "text": [
            "MAE FOR: Pathia - Chicken\n",
            "1.4840342998504639\n",
            "\n",
            "\n",
            "1/1 [==============================] - 0s 21ms/step - loss: 0.9200\n"
          ]
        },
        {
          "output_type": "stream",
          "name": "stderr",
          "text": [
            "\r 64%|██████▎   | 158/248 [05:54<02:17,  1.53s/it]"
          ]
        },
        {
          "output_type": "stream",
          "name": "stdout",
          "text": [
            "MAE FOR: Lamb Tikka Jalfrezi\n",
            "0.919969379901886\n",
            "\n",
            "\n",
            "1/1 [==============================] - 0s 18ms/step - loss: 0.7290\n"
          ]
        },
        {
          "output_type": "stream",
          "name": "stderr",
          "text": [
            "\r 64%|██████▍   | 159/248 [05:55<02:16,  1.54s/it]"
          ]
        },
        {
          "output_type": "stream",
          "name": "stdout",
          "text": [
            "MAE FOR: Lamb Karahi\n",
            "0.7290281057357788\n",
            "\n",
            "\n",
            "1/1 [==============================] - 0s 17ms/step - loss: 0.3878\n"
          ]
        },
        {
          "output_type": "stream",
          "name": "stderr",
          "text": [
            "\r 65%|██████▍   | 160/248 [05:59<02:59,  2.04s/it]"
          ]
        },
        {
          "output_type": "stream",
          "name": "stdout",
          "text": [
            "MAE FOR: Madras - Prawn\n",
            "0.3877671957015991\n",
            "\n",
            "\n",
            "1/1 [==============================] - 0s 18ms/step - loss: 0.9898\n"
          ]
        },
        {
          "output_type": "stream",
          "name": "stderr",
          "text": [
            "\r 65%|██████▍   | 161/248 [06:01<03:17,  2.27s/it]"
          ]
        },
        {
          "output_type": "stream",
          "name": "stdout",
          "text": [
            "MAE FOR: Lamb Tikka (Main)\n",
            "0.9897710084915161\n",
            "\n",
            "\n",
            "1/1 [==============================] - 0s 19ms/step - loss: 0.5206\n"
          ]
        },
        {
          "output_type": "stream",
          "name": "stderr",
          "text": [
            "\r 65%|██████▌   | 162/248 [06:03<02:50,  1.98s/it]"
          ]
        },
        {
          "output_type": "stream",
          "name": "stdout",
          "text": [
            "MAE FOR: Lamb Tikka Pasanda\n",
            "0.5206279754638672\n",
            "\n",
            "\n",
            "1/1 [==============================] - 0s 19ms/step - loss: 0.2268\n"
          ]
        },
        {
          "output_type": "stream",
          "name": "stderr",
          "text": [
            "\r 66%|██████▌   | 163/248 [06:08<04:24,  3.11s/it]"
          ]
        },
        {
          "output_type": "stream",
          "name": "stdout",
          "text": [
            "MAE FOR: Lamb Tikka Garlic\n",
            "0.22679752111434937\n",
            "\n",
            "\n",
            "1/1 [==============================] - 0s 19ms/step - loss: 0.8611\n"
          ]
        },
        {
          "output_type": "stream",
          "name": "stderr",
          "text": [
            "\r 66%|██████▌   | 164/248 [06:10<03:31,  2.51s/it]"
          ]
        },
        {
          "output_type": "stream",
          "name": "stdout",
          "text": [
            "MAE FOR: Chicken Tikka Garlic\n",
            "0.8611237406730652\n",
            "\n",
            "\n",
            "1/1 [==============================] - 0s 21ms/step - loss: 0.2262\n"
          ]
        },
        {
          "output_type": "stream",
          "name": "stderr",
          "text": [
            "\r 67%|██████▋   | 165/248 [06:12<03:27,  2.51s/it]"
          ]
        },
        {
          "output_type": "stream",
          "name": "stdout",
          "text": [
            "MAE FOR: Mushroom - Chicken\n",
            "0.22618500888347626\n",
            "\n",
            "\n",
            "1/1 [==============================] - 0s 24ms/step - loss: 0.8106\n"
          ]
        },
        {
          "output_type": "stream",
          "name": "stderr",
          "text": [
            "\r 67%|██████▋   | 166/248 [06:14<03:04,  2.25s/it]"
          ]
        },
        {
          "output_type": "stream",
          "name": "stdout",
          "text": [
            "MAE FOR: Sheek Kebab (Main)\n",
            "0.8106073141098022\n",
            "\n",
            "\n",
            "1/1 [==============================] - 0s 25ms/step - loss: 0.3886\n"
          ]
        },
        {
          "output_type": "stream",
          "name": "stderr",
          "text": [
            "\r 67%|██████▋   | 167/248 [06:20<04:52,  3.61s/it]"
          ]
        },
        {
          "output_type": "stream",
          "name": "stdout",
          "text": [
            "MAE FOR: Saag - Chicken Tikka\n",
            "0.38855141401290894\n",
            "\n",
            "\n",
            "1/1 [==============================] - 0s 24ms/step - loss: 0.7787\n"
          ]
        },
        {
          "output_type": "stream",
          "name": "stderr",
          "text": [
            "\r 68%|██████▊   | 168/248 [06:23<04:23,  3.29s/it]"
          ]
        },
        {
          "output_type": "stream",
          "name": "stdout",
          "text": [
            "MAE FOR: Curry - Prawn\n",
            "0.7787240743637085\n",
            "\n",
            "\n",
            "1/1 [==============================] - 0s 18ms/step - loss: 1.3490\n"
          ]
        },
        {
          "output_type": "stream",
          "name": "stderr",
          "text": [
            "\r 68%|██████▊   | 169/248 [06:25<03:40,  2.80s/it]"
          ]
        },
        {
          "output_type": "stream",
          "name": "stdout",
          "text": [
            "MAE FOR: Saag - Lamb\n",
            "1.3489599227905273\n",
            "\n",
            "\n",
            "1/1 [==============================] - 0s 19ms/step - loss: 0.8725\n"
          ]
        },
        {
          "output_type": "stream",
          "name": "stderr",
          "text": [
            "\r 69%|██████▊   | 170/248 [06:26<03:11,  2.45s/it]"
          ]
        },
        {
          "output_type": "stream",
          "name": "stdout",
          "text": [
            "MAE FOR: Korma - Lamb\n",
            "0.8725407719612122\n",
            "\n",
            "\n",
            "1/1 [==============================] - 0s 19ms/step - loss: 0.1297\n"
          ]
        },
        {
          "output_type": "stream",
          "name": "stderr",
          "text": [
            "\r 69%|██████▉   | 171/248 [06:29<03:04,  2.40s/it]"
          ]
        },
        {
          "output_type": "stream",
          "name": "stdout",
          "text": [
            "MAE FOR: Mushroom - Lamb\n",
            "0.12969185411930084\n",
            "\n",
            "\n",
            "1/1 [==============================] - 0s 19ms/step - loss: 0.1627\n"
          ]
        },
        {
          "output_type": "stream",
          "name": "stderr",
          "text": [
            "\r 69%|██████▉   | 172/248 [06:32<03:23,  2.67s/it]"
          ]
        },
        {
          "output_type": "stream",
          "name": "stdout",
          "text": [
            "MAE FOR: Rogon - Chicken Tikka\n",
            "0.16273565590381622\n",
            "\n",
            "\n",
            "1/1 [==============================] - 0s 18ms/step - loss: 0.2260\n"
          ]
        },
        {
          "output_type": "stream",
          "name": "stderr",
          "text": [
            "\r 70%|██████▉   | 173/248 [06:38<04:33,  3.64s/it]"
          ]
        },
        {
          "output_type": "stream",
          "name": "stdout",
          "text": [
            "MAE FOR: Vindaloo - Prawn\n",
            "0.2259874939918518\n",
            "\n",
            "\n",
            "1/1 [==============================] - 0s 18ms/step - loss: 0.0653\n"
          ]
        },
        {
          "output_type": "stream",
          "name": "stderr",
          "text": [
            "\r 70%|███████   | 174/248 [06:41<04:22,  3.54s/it]"
          ]
        },
        {
          "output_type": "stream",
          "name": "stdout",
          "text": [
            "MAE FOR: Methi - Chicken Tikka\n",
            "0.06532049179077148\n",
            "\n",
            "\n",
            "1/1 [==============================] - 0s 19ms/step - loss: 0.2771\n"
          ]
        },
        {
          "output_type": "stream",
          "name": "stderr",
          "text": [
            "\r 71%|███████   | 175/248 [06:43<03:37,  2.98s/it]"
          ]
        },
        {
          "output_type": "stream",
          "name": "stdout",
          "text": [
            "MAE FOR: Vegetable Karahi\n",
            "0.27708977460861206\n",
            "\n",
            "\n",
            "1/1 [==============================] - 0s 20ms/step - loss: 0.0718\n"
          ]
        },
        {
          "output_type": "stream",
          "name": "stderr",
          "text": [
            "\r 71%|███████   | 176/248 [06:46<03:42,  3.10s/it]"
          ]
        },
        {
          "output_type": "stream",
          "name": "stdout",
          "text": [
            "MAE FOR: Mushroom - Chicken Tikka\n",
            "0.07179826498031616\n",
            "\n",
            "\n",
            "1/1 [==============================] - 0s 19ms/step - loss: 0.1958\n"
          ]
        },
        {
          "output_type": "stream",
          "name": "stderr",
          "text": [
            "\r 71%|███████▏  | 177/248 [06:50<03:58,  3.37s/it]"
          ]
        },
        {
          "output_type": "stream",
          "name": "stdout",
          "text": [
            "MAE FOR: Methi - Chicken\n",
            "0.195775106549263\n",
            "\n",
            "\n",
            "1/1 [==============================] - 0s 18ms/step - loss: 0.0328\n"
          ]
        },
        {
          "output_type": "stream",
          "name": "stderr",
          "text": [
            "\r 72%|███████▏  | 178/248 [06:53<03:51,  3.31s/it]"
          ]
        },
        {
          "output_type": "stream",
          "name": "stdout",
          "text": [
            "MAE FOR: Lamb Tikka Jeera\n",
            "0.03280966728925705\n",
            "\n",
            "\n",
            "1/1 [==============================] - 0s 19ms/step - loss: 0.1318\n"
          ]
        },
        {
          "output_type": "stream",
          "name": "stderr",
          "text": [
            "\r 72%|███████▏  | 179/248 [06:58<04:17,  3.73s/it]"
          ]
        },
        {
          "output_type": "stream",
          "name": "stdout",
          "text": [
            "MAE FOR: Chicken Tikka Jeera\n",
            "0.13183437287807465\n",
            "\n",
            "\n",
            "1/1 [==============================] - 0s 18ms/step - loss: 2.5466\n"
          ]
        },
        {
          "output_type": "stream",
          "name": "stderr",
          "text": [
            "\r 73%|███████▎  | 180/248 [06:59<03:21,  2.96s/it]"
          ]
        },
        {
          "output_type": "stream",
          "name": "stdout",
          "text": [
            "MAE FOR: Bhuna\n",
            "2.5466151237487793\n",
            "\n",
            "\n",
            "1/1 [==============================] - 0s 20ms/step - loss: 1.0307\n"
          ]
        },
        {
          "output_type": "stream",
          "name": "stderr",
          "text": [
            "\r 73%|███████▎  | 181/248 [07:01<02:54,  2.61s/it]"
          ]
        },
        {
          "output_type": "stream",
          "name": "stdout",
          "text": [
            "MAE FOR: Saag\n",
            "1.0307481288909912\n",
            "\n",
            "\n",
            "1/1 [==============================] - 0s 20ms/step - loss: 2.3534\n"
          ]
        },
        {
          "output_type": "stream",
          "name": "stderr",
          "text": [
            "\r 73%|███████▎  | 182/248 [07:02<02:24,  2.18s/it]"
          ]
        },
        {
          "output_type": "stream",
          "name": "stdout",
          "text": [
            "MAE FOR: Dhansak\n",
            "2.35335111618042\n",
            "\n",
            "\n",
            "1/1 [==============================] - 0s 25ms/step - loss: 0.7061\n"
          ]
        },
        {
          "output_type": "stream",
          "name": "stderr",
          "text": [
            "\r 74%|███████▍  | 183/248 [07:04<02:04,  1.92s/it]"
          ]
        },
        {
          "output_type": "stream",
          "name": "stdout",
          "text": [
            "MAE FOR: Pathia\n",
            "0.7061240673065186\n",
            "\n",
            "\n",
            "1/1 [==============================] - 0s 24ms/step - loss: 6.8031\n"
          ]
        },
        {
          "output_type": "stream",
          "name": "stderr",
          "text": [
            "\r 74%|███████▍  | 184/248 [07:05<01:50,  1.72s/it]"
          ]
        },
        {
          "output_type": "stream",
          "name": "stdout",
          "text": [
            "MAE FOR: Korma\n",
            "6.803112030029297\n",
            "\n",
            "\n",
            "1/1 [==============================] - 0s 24ms/step - loss: 0.4130\n"
          ]
        },
        {
          "output_type": "stream",
          "name": "stderr",
          "text": [
            "\r 75%|███████▍  | 185/248 [07:06<01:45,  1.67s/it]"
          ]
        },
        {
          "output_type": "stream",
          "name": "stdout",
          "text": [
            "MAE FOR: Dupiaza\n",
            "0.4129806160926819\n",
            "\n",
            "\n",
            "1/1 [==============================] - 0s 25ms/step - loss: 0.0072\n"
          ]
        },
        {
          "output_type": "stream",
          "name": "stderr",
          "text": [
            "\r 75%|███████▌  | 186/248 [07:11<02:36,  2.52s/it]"
          ]
        },
        {
          "output_type": "stream",
          "name": "stdout",
          "text": [
            "MAE FOR: Methi\n",
            "0.007236252073198557\n",
            "\n",
            "\n",
            "1/1 [==============================] - 0s 18ms/step - loss: 0.6453\n"
          ]
        },
        {
          "output_type": "stream",
          "name": "stderr",
          "text": [
            "\r 75%|███████▌  | 187/248 [07:12<02:17,  2.25s/it]"
          ]
        },
        {
          "output_type": "stream",
          "name": "stdout",
          "text": [
            "MAE FOR: Rogon\n",
            "0.6453347206115723\n",
            "\n",
            "\n",
            "1/1 [==============================] - 0s 17ms/step - loss: 0.0298\n"
          ]
        },
        {
          "output_type": "stream",
          "name": "stderr",
          "text": [
            "\r 76%|███████▌  | 188/248 [07:15<02:17,  2.30s/it]"
          ]
        },
        {
          "output_type": "stream",
          "name": "stdout",
          "text": [
            "MAE FOR: Mushroom\n",
            "0.029808124527335167\n",
            "\n",
            "\n",
            "1/1 [==============================] - 0s 17ms/step - loss: 5.2814e-04\n"
          ]
        },
        {
          "output_type": "stream",
          "name": "stderr",
          "text": [
            "\r 76%|███████▌  | 189/248 [07:19<02:54,  2.95s/it]"
          ]
        },
        {
          "output_type": "stream",
          "name": "stdout",
          "text": [
            "MAE FOR: Tandoori Chicken\n",
            "0.0005281363846734166\n",
            "\n",
            "\n",
            "1/1 [==============================] - 0s 18ms/step - loss: 0.6433\n"
          ]
        },
        {
          "output_type": "stream",
          "name": "stderr",
          "text": [
            "\r 77%|███████▋  | 190/248 [07:21<02:22,  2.46s/it]"
          ]
        },
        {
          "output_type": "stream",
          "name": "stdout",
          "text": [
            "MAE FOR: Chicken Roshni\n",
            "0.6433462500572205\n",
            "\n",
            "\n",
            "1/1 [==============================] - 0s 18ms/step - loss: 1.3950\n"
          ]
        },
        {
          "output_type": "stream",
          "name": "stderr",
          "text": [
            "\r 77%|███████▋  | 191/248 [07:22<01:58,  2.07s/it]"
          ]
        },
        {
          "output_type": "stream",
          "name": "stdout",
          "text": [
            "MAE FOR: Lamb Balti\n",
            "1.394978404045105\n",
            "\n",
            "\n",
            "1/1 [==============================] - 0s 19ms/step - loss: 0.5934\n"
          ]
        },
        {
          "output_type": "stream",
          "name": "stderr",
          "text": [
            "\r 77%|███████▋  | 192/248 [07:23<01:48,  1.93s/it]"
          ]
        },
        {
          "output_type": "stream",
          "name": "stdout",
          "text": [
            "MAE FOR: Chicken Rezala\n",
            "0.593363344669342\n",
            "\n",
            "\n",
            "1/1 [==============================] - 0s 17ms/step - loss: 0.4156\n"
          ]
        },
        {
          "output_type": "stream",
          "name": "stderr",
          "text": [
            "\r 78%|███████▊  | 193/248 [07:25<01:32,  1.69s/it]"
          ]
        },
        {
          "output_type": "stream",
          "name": "stdout",
          "text": [
            "MAE FOR: Lamb Rezala\n",
            "0.4156160354614258\n",
            "\n",
            "\n",
            "1/1 [==============================] - 0s 18ms/step - loss: 0.6108\n"
          ]
        },
        {
          "output_type": "stream",
          "name": "stderr",
          "text": [
            "\r 78%|███████▊  | 194/248 [07:27<01:44,  1.93s/it]"
          ]
        },
        {
          "output_type": "stream",
          "name": "stdout",
          "text": [
            "MAE FOR: Chicken Hari Mirch\n",
            "0.6107621788978577\n",
            "\n",
            "\n",
            "1/1 [==============================] - 0s 19ms/step - loss: 0.5517\n"
          ]
        },
        {
          "output_type": "stream",
          "name": "stderr",
          "text": [
            "\r 79%|███████▊  | 195/248 [07:28<01:30,  1.70s/it]"
          ]
        },
        {
          "output_type": "stream",
          "name": "stdout",
          "text": [
            "MAE FOR: Lamb Shashlick\n",
            "0.551737904548645\n",
            "\n",
            "\n",
            "1/1 [==============================] - 0s 17ms/step - loss: 0.4840\n"
          ]
        },
        {
          "output_type": "stream",
          "name": "stderr",
          "text": [
            "\r 79%|███████▉  | 196/248 [07:33<02:17,  2.64s/it]"
          ]
        },
        {
          "output_type": "stream",
          "name": "stdout",
          "text": [
            "MAE FOR: Bhuna - Prawn\n",
            "0.48401978611946106\n",
            "\n",
            "\n",
            "1/1 [==============================] - 0s 18ms/step - loss: 0.5336\n"
          ]
        },
        {
          "output_type": "stream",
          "name": "stderr",
          "text": [
            "\r 79%|███████▉  | 197/248 [07:35<01:59,  2.35s/it]"
          ]
        },
        {
          "output_type": "stream",
          "name": "stdout",
          "text": [
            "MAE FOR: Chicken Haryali\n",
            "0.5336018204689026\n",
            "\n",
            "\n",
            "1/1 [==============================] - 0s 19ms/step - loss: 0.8391\n"
          ]
        },
        {
          "output_type": "stream",
          "name": "stderr",
          "text": [
            "\r 80%|███████▉  | 198/248 [07:36<01:39,  1.99s/it]"
          ]
        },
        {
          "output_type": "stream",
          "name": "stdout",
          "text": [
            "MAE FOR: Paneer Shaslick\n",
            "0.8390565514564514\n",
            "\n",
            "\n",
            "1/1 [==============================] - 0s 17ms/step - loss: 0.7475\n"
          ]
        },
        {
          "output_type": "stream",
          "name": "stderr",
          "text": [
            "\r 80%|████████  | 199/248 [07:37<01:24,  1.73s/it]"
          ]
        },
        {
          "output_type": "stream",
          "name": "stdout",
          "text": [
            "MAE FOR: Paneer Tikka Karahi\n",
            "0.747514009475708\n",
            "\n",
            "\n",
            "1/1 [==============================] - 0s 19ms/step - loss: 0.2908\n"
          ]
        },
        {
          "output_type": "stream",
          "name": "stderr",
          "text": [
            "\r 81%|████████  | 200/248 [07:41<01:52,  2.34s/it]"
          ]
        },
        {
          "output_type": "stream",
          "name": "stdout",
          "text": [
            "MAE FOR: Lamb Achar\n",
            "0.29080453515052795\n",
            "\n",
            "\n",
            "1/1 [==============================] - 0s 25ms/step - loss: 0.8191\n"
          ]
        },
        {
          "output_type": "stream",
          "name": "stderr",
          "text": [
            "\r 81%|████████  | 201/248 [07:44<02:00,  2.57s/it]"
          ]
        },
        {
          "output_type": "stream",
          "name": "stdout",
          "text": [
            "MAE FOR: Chicken Tikka Sizzler\n",
            "0.8191220760345459\n",
            "\n",
            "\n",
            "1/1 [==============================] - 0s 24ms/step - loss: 0.5295\n"
          ]
        },
        {
          "output_type": "stream",
          "name": "stderr",
          "text": [
            "\r 81%|████████▏ | 202/248 [07:45<01:42,  2.22s/it]"
          ]
        },
        {
          "output_type": "stream",
          "name": "stdout",
          "text": [
            "MAE FOR: Lamb Tikka Karahi\n",
            "0.5294769406318665\n",
            "\n",
            "\n",
            "1/1 [==============================] - 0s 24ms/step - loss: 0.2460\n"
          ]
        },
        {
          "output_type": "stream",
          "name": "stderr",
          "text": [
            "\r 82%|████████▏ | 203/248 [07:49<01:59,  2.65s/it]"
          ]
        },
        {
          "output_type": "stream",
          "name": "stdout",
          "text": [
            "MAE FOR: Prawn Karahi\n",
            "0.24604178965091705\n",
            "\n",
            "\n",
            "1/1 [==============================] - 0s 24ms/step - loss: 0.4321\n"
          ]
        },
        {
          "output_type": "stream",
          "name": "stderr",
          "text": [
            "\r 82%|████████▏ | 204/248 [07:52<02:02,  2.78s/it]"
          ]
        },
        {
          "output_type": "stream",
          "name": "stdout",
          "text": [
            "MAE FOR: Lal Mirch Lamb\n",
            "0.4321225881576538\n",
            "\n",
            "\n",
            "1/1 [==============================] - 0s 18ms/step - loss: 0.3473\n"
          ]
        },
        {
          "output_type": "stream",
          "name": "stderr",
          "text": [
            "\r 83%|████████▎ | 205/248 [07:54<01:51,  2.59s/it]"
          ]
        },
        {
          "output_type": "stream",
          "name": "stdout",
          "text": [
            "MAE FOR: Lamb Haryali\n",
            "0.3472943603992462\n",
            "\n",
            "\n",
            "1/1 [==============================] - 0s 18ms/step - loss: 0.3549\n"
          ]
        },
        {
          "output_type": "stream",
          "name": "stderr",
          "text": [
            "\r 83%|████████▎ | 206/248 [07:56<01:43,  2.46s/it]"
          ]
        },
        {
          "output_type": "stream",
          "name": "stdout",
          "text": [
            "MAE FOR: Dhansak - Prawn\n",
            "0.35490256547927856\n",
            "\n",
            "\n",
            "1/1 [==============================] - 0s 17ms/step - loss: 0.2977\n"
          ]
        },
        {
          "output_type": "stream",
          "name": "stderr",
          "text": [
            "\r 83%|████████▎ | 207/248 [07:58<01:32,  2.25s/it]"
          ]
        },
        {
          "output_type": "stream",
          "name": "stdout",
          "text": [
            "MAE FOR: Chicken Sylhet\n",
            "0.2976793646812439\n",
            "\n",
            "\n",
            "1/1 [==============================] - 0s 18ms/step - loss: 0.1407\n"
          ]
        },
        {
          "output_type": "stream",
          "name": "stderr",
          "text": [
            "\r 84%|████████▍ | 208/248 [08:03<02:07,  3.18s/it]"
          ]
        },
        {
          "output_type": "stream",
          "name": "stdout",
          "text": [
            "MAE FOR: Lamb Tikka Sizzler\n",
            "0.14066985249519348\n",
            "\n",
            "\n",
            "1/1 [==============================] - 0s 18ms/step - loss: 0.2299\n"
          ]
        },
        {
          "output_type": "stream",
          "name": "stderr",
          "text": [
            "\r 84%|████████▍ | 209/248 [08:06<01:55,  2.95s/it]"
          ]
        },
        {
          "output_type": "stream",
          "name": "stdout",
          "text": [
            "MAE FOR: Chicken Achar\n",
            "0.2299165427684784\n",
            "\n",
            "\n",
            "1/1 [==============================] - 0s 17ms/step - loss: 0.1939\n"
          ]
        },
        {
          "output_type": "stream",
          "name": "stderr",
          "text": [
            "\r 85%|████████▍ | 210/248 [08:08<01:46,  2.81s/it]"
          ]
        },
        {
          "output_type": "stream",
          "name": "stdout",
          "text": [
            "MAE FOR: Dupiaza - Prawn\n",
            "0.19389499723911285\n",
            "\n",
            "\n",
            "1/1 [==============================] - 0s 19ms/step - loss: 0.1950\n"
          ]
        },
        {
          "output_type": "stream",
          "name": "stderr",
          "text": [
            "\r 85%|████████▌ | 211/248 [08:11<01:46,  2.88s/it]"
          ]
        },
        {
          "output_type": "stream",
          "name": "stdout",
          "text": [
            "MAE FOR: Lamb Roshni\n",
            "0.19498148560523987\n",
            "\n",
            "\n",
            "1/1 [==============================] - 0s 19ms/step - loss: 0.0017\n"
          ]
        },
        {
          "output_type": "stream",
          "name": "stderr",
          "text": [
            "\r 85%|████████▌ | 212/248 [08:15<01:56,  3.24s/it]"
          ]
        },
        {
          "output_type": "stream",
          "name": "stdout",
          "text": [
            "MAE FOR: Methi - Prawn\n",
            "0.001698071020655334\n",
            "\n",
            "\n",
            "1/1 [==============================] - 0s 17ms/step - loss: 0.0012\n"
          ]
        },
        {
          "output_type": "stream",
          "name": "stderr",
          "text": [
            "\r 86%|████████▌ | 213/248 [08:21<02:18,  3.96s/it]"
          ]
        },
        {
          "output_type": "stream",
          "name": "stdout",
          "text": [
            "MAE FOR: Rogon - Prawn\n",
            "0.0011912807822227478\n",
            "\n",
            "\n",
            "1/1 [==============================] - 0s 18ms/step - loss: 2.6744e-04\n"
          ]
        },
        {
          "output_type": "stream",
          "name": "stderr",
          "text": [
            "\r 86%|████████▋ | 214/248 [08:24<02:01,  3.57s/it]"
          ]
        },
        {
          "output_type": "stream",
          "name": "stdout",
          "text": [
            "MAE FOR: Mushroom - Prawn\n",
            "0.00026744225760921836\n",
            "\n",
            "\n",
            "1/1 [==============================] - 0s 17ms/step - loss: 1.2217\n"
          ]
        },
        {
          "output_type": "stream",
          "name": "stderr",
          "text": [
            "\r 87%|████████▋ | 215/248 [08:25<01:34,  2.87s/it]"
          ]
        },
        {
          "output_type": "stream",
          "name": "stdout",
          "text": [
            "MAE FOR: Lamb Tikka Biryani\n",
            "1.2216832637786865\n",
            "\n",
            "\n",
            "1/1 [==============================] - 0s 19ms/step - loss: 1.1786\n"
          ]
        },
        {
          "output_type": "stream",
          "name": "stderr",
          "text": [
            "\r 87%|████████▋ | 216/248 [08:27<01:21,  2.55s/it]"
          ]
        },
        {
          "output_type": "stream",
          "name": "stdout",
          "text": [
            "MAE FOR: Chicken Tikka Balti\n",
            "1.1786178350448608\n",
            "\n",
            "\n",
            "1/1 [==============================] - 0s 18ms/step - loss: 0.5160\n"
          ]
        },
        {
          "output_type": "stream",
          "name": "stderr",
          "text": [
            "\r 88%|████████▊ | 217/248 [08:29<01:18,  2.53s/it]"
          ]
        },
        {
          "output_type": "stream",
          "name": "stdout",
          "text": [
            "MAE FOR: Lamb Tikka Balti\n",
            "0.5160337090492249\n",
            "\n",
            "\n",
            "1/1 [==============================] - 0s 20ms/step - loss: 0.4160\n"
          ]
        },
        {
          "output_type": "stream",
          "name": "stderr",
          "text": [
            "\r 88%|████████▊ | 218/248 [08:32<01:13,  2.45s/it]"
          ]
        },
        {
          "output_type": "stream",
          "name": "stdout",
          "text": [
            "MAE FOR: Prawn Biryani\n",
            "0.416014701128006\n",
            "\n",
            "\n",
            "1/1 [==============================] - 0s 19ms/step - loss: 0.7202\n"
          ]
        },
        {
          "output_type": "stream",
          "name": "stderr",
          "text": [
            "\r 88%|████████▊ | 219/248 [08:33<01:02,  2.17s/it]"
          ]
        },
        {
          "output_type": "stream",
          "name": "stdout",
          "text": [
            "MAE FOR: Paneer Tikka Balti\n",
            "0.7201955318450928\n",
            "\n",
            "\n",
            "1/1 [==============================] - 0s 19ms/step - loss: 0.3985\n"
          ]
        },
        {
          "output_type": "stream",
          "name": "stderr",
          "text": [
            "\r 89%|████████▊ | 220/248 [08:35<00:58,  2.07s/it]"
          ]
        },
        {
          "output_type": "stream",
          "name": "stdout",
          "text": [
            "MAE FOR: Persian Lamb Biryani\n",
            "0.3985443413257599\n",
            "\n",
            "\n",
            "1/1 [==============================] - 0s 21ms/step - loss: 0.6988\n"
          ]
        },
        {
          "output_type": "stream",
          "name": "stderr",
          "text": [
            "\r 89%|████████▉ | 221/248 [08:37<00:56,  2.11s/it]"
          ]
        },
        {
          "output_type": "stream",
          "name": "stdout",
          "text": [
            "MAE FOR: Persian Chicken Biryani\n",
            "0.6987611651420593\n",
            "\n",
            "\n",
            "1/1 [==============================] - 0s 23ms/step - loss: 7.7277e-04\n"
          ]
        },
        {
          "output_type": "stream",
          "name": "stderr",
          "text": [
            "\r 90%|████████▉ | 222/248 [08:40<01:02,  2.41s/it]"
          ]
        },
        {
          "output_type": "stream",
          "name": "stdout",
          "text": [
            "MAE FOR: Lamb Persian\n",
            "0.0007727661286480725\n",
            "\n",
            "\n",
            "1/1 [==============================] - 0s 18ms/step - loss: 0.3232\n"
          ]
        },
        {
          "output_type": "stream",
          "name": "stderr",
          "text": [
            "\r 90%|████████▉ | 223/248 [08:46<01:27,  3.49s/it]"
          ]
        },
        {
          "output_type": "stream",
          "name": "stdout",
          "text": [
            "MAE FOR: Curry - King Prawn\n",
            "0.3232266902923584\n",
            "\n",
            "\n",
            "1/1 [==============================] - 0s 19ms/step - loss: 0.7562\n"
          ]
        },
        {
          "output_type": "stream",
          "name": "stderr",
          "text": [
            "\r 90%|█████████ | 224/248 [08:47<01:07,  2.83s/it]"
          ]
        },
        {
          "output_type": "stream",
          "name": "stdout",
          "text": [
            "MAE FOR: Tandoori Fish (Main)\n",
            "0.7562367916107178\n",
            "\n",
            "\n",
            "1/1 [==============================] - 0s 17ms/step - loss: 0.3240\n"
          ]
        },
        {
          "output_type": "stream",
          "name": "stderr",
          "text": [
            "\r 91%|█████████ | 225/248 [08:51<01:12,  3.13s/it]"
          ]
        },
        {
          "output_type": "stream",
          "name": "stdout",
          "text": [
            "MAE FOR: Vindaloo - King Prawn\n",
            "0.3240077793598175\n",
            "\n",
            "\n",
            "1/1 [==============================] - 0s 18ms/step - loss: 1.4074\n"
          ]
        },
        {
          "output_type": "stream",
          "name": "stderr",
          "text": [
            "\r 91%|█████████ | 226/248 [08:53<00:57,  2.59s/it]"
          ]
        },
        {
          "output_type": "stream",
          "name": "stdout",
          "text": [
            "MAE FOR: Tandoori King Prawn Garlic\n",
            "1.4074305295944214\n",
            "\n",
            "\n",
            "1/1 [==============================] - 0s 17ms/step - loss: 0.7357\n"
          ]
        },
        {
          "output_type": "stream",
          "name": "stderr",
          "text": [
            "\r 92%|█████████▏| 227/248 [08:54<00:45,  2.14s/it]"
          ]
        },
        {
          "output_type": "stream",
          "name": "stdout",
          "text": [
            "MAE FOR: Chicken Shashlick Curry\n",
            "0.7356656193733215\n",
            "\n",
            "\n",
            "1/1 [==============================] - 0s 18ms/step - loss: 0.5714\n"
          ]
        },
        {
          "output_type": "stream",
          "name": "stderr",
          "text": [
            "\r 92%|█████████▏| 228/248 [08:55<00:37,  1.85s/it]"
          ]
        },
        {
          "output_type": "stream",
          "name": "stdout",
          "text": [
            "MAE FOR: King Prawn Hari Mirch\n",
            "0.5713932514190674\n",
            "\n",
            "\n",
            "1/1 [==============================] - 0s 18ms/step - loss: 0.5087\n"
          ]
        },
        {
          "output_type": "stream",
          "name": "stderr",
          "text": [
            "\r 92%|█████████▏| 229/248 [08:57<00:35,  1.87s/it]"
          ]
        },
        {
          "output_type": "stream",
          "name": "stdout",
          "text": [
            "MAE FOR: Hazary Lamb Chilli Garlic\n",
            "0.5087485909461975\n",
            "\n",
            "\n",
            "1/1 [==============================] - 0s 19ms/step - loss: 0.3565\n"
          ]
        },
        {
          "output_type": "stream",
          "name": "stderr",
          "text": [
            "\r 93%|█████████▎| 230/248 [08:59<00:34,  1.90s/it]"
          ]
        },
        {
          "output_type": "stream",
          "name": "stdout",
          "text": [
            "MAE FOR: Lamb Shashlick Curry\n",
            "0.3564714789390564\n",
            "\n",
            "\n",
            "1/1 [==============================] - 0s 17ms/step - loss: 0.4226\n"
          ]
        },
        {
          "output_type": "stream",
          "name": "stderr",
          "text": [
            "\r 93%|█████████▎| 231/248 [09:01<00:31,  1.86s/it]"
          ]
        },
        {
          "output_type": "stream",
          "name": "stdout",
          "text": [
            "MAE FOR: Dhansak - King Prawn\n",
            "0.4225868582725525\n",
            "\n",
            "\n",
            "1/1 [==============================] - 0s 18ms/step - loss: 0.5983\n"
          ]
        },
        {
          "output_type": "stream",
          "name": "stderr",
          "text": [
            "\r 94%|█████████▎| 232/248 [09:02<00:27,  1.72s/it]"
          ]
        },
        {
          "output_type": "stream",
          "name": "stdout",
          "text": [
            "MAE FOR: Bengal King Prawn\n",
            "0.5982834696769714\n",
            "\n",
            "\n",
            "1/1 [==============================] - 0s 19ms/step - loss: 0.2586\n"
          ]
        },
        {
          "output_type": "stream",
          "name": "stderr",
          "text": [
            "\r 94%|█████████▍| 233/248 [09:07<00:40,  2.67s/it]"
          ]
        },
        {
          "output_type": "stream",
          "name": "stdout",
          "text": [
            "MAE FOR: Bhuna - King Prawn\n",
            "0.25857067108154297\n",
            "\n",
            "\n",
            "1/1 [==============================] - 0s 19ms/step - loss: 0.5438\n"
          ]
        },
        {
          "output_type": "stream",
          "name": "stderr",
          "text": [
            "\r 94%|█████████▍| 234/248 [09:09<00:33,  2.39s/it]"
          ]
        },
        {
          "output_type": "stream",
          "name": "stdout",
          "text": [
            "MAE FOR: Hazary Lamb\n",
            "0.5438379049301147\n",
            "\n",
            "\n",
            "1/1 [==============================] - 0s 22ms/step - loss: 0.4198\n"
          ]
        },
        {
          "output_type": "stream",
          "name": "stderr",
          "text": [
            "\r 95%|█████████▍| 235/248 [09:14<00:43,  3.34s/it]"
          ]
        },
        {
          "output_type": "stream",
          "name": "stdout",
          "text": [
            "MAE FOR: Bengal Fish Biryani\n",
            "0.4198152422904968\n",
            "\n",
            "\n",
            "1/1 [==============================] - 0s 26ms/step - loss: 0.5941\n"
          ]
        },
        {
          "output_type": "stream",
          "name": "stderr",
          "text": [
            "\r 95%|█████████▌| 236/248 [09:15<00:32,  2.72s/it]"
          ]
        },
        {
          "output_type": "stream",
          "name": "stdout",
          "text": [
            "MAE FOR: Tandoori King Prawn Masala\n",
            "0.5940647721290588\n",
            "\n",
            "\n",
            "1/1 [==============================] - 0s 26ms/step - loss: 0.2781\n"
          ]
        },
        {
          "output_type": "stream",
          "name": "stderr",
          "text": [
            "\r 96%|█████████▌| 237/248 [09:17<00:25,  2.31s/it]"
          ]
        },
        {
          "output_type": "stream",
          "name": "stdout",
          "text": [
            "MAE FOR: King Prawn Biryani\n",
            "0.27813297510147095\n",
            "\n",
            "\n",
            "1/1 [==============================] - 0s 25ms/step - loss: 0.2906\n"
          ]
        },
        {
          "output_type": "stream",
          "name": "stderr",
          "text": [
            "\r 96%|█████████▌| 238/248 [09:20<00:25,  2.51s/it]"
          ]
        },
        {
          "output_type": "stream",
          "name": "stdout",
          "text": [
            "MAE FOR: Saag - King Prawn\n",
            "0.29061055183410645\n",
            "\n",
            "\n",
            "1/1 [==============================] - 0s 25ms/step - loss: 0.0973\n"
          ]
        },
        {
          "output_type": "stream",
          "name": "stderr",
          "text": [
            "\r 96%|█████████▋| 239/248 [09:26<00:33,  3.73s/it]"
          ]
        },
        {
          "output_type": "stream",
          "name": "stdout",
          "text": [
            "MAE FOR: Dupiaza - King Prawn\n",
            "0.09733591973781586\n",
            "\n",
            "\n",
            "1/1 [==============================] - 0s 23ms/step - loss: 0.0650\n"
          ]
        },
        {
          "output_type": "stream",
          "name": "stderr",
          "text": [
            "\r 97%|█████████▋| 240/248 [09:33<00:36,  4.57s/it]"
          ]
        },
        {
          "output_type": "stream",
          "name": "stdout",
          "text": [
            "MAE FOR: Pathia - King Prawn\n",
            "0.0650467574596405\n",
            "\n",
            "\n",
            "1/1 [==============================] - 0s 19ms/step - loss: 0.0329\n"
          ]
        },
        {
          "output_type": "stream",
          "name": "stderr",
          "text": [
            "\r 97%|█████████▋| 241/248 [09:36<00:29,  4.16s/it]"
          ]
        },
        {
          "output_type": "stream",
          "name": "stdout",
          "text": [
            "MAE FOR: Bengal Fry Fish\n",
            "0.03293279930949211\n",
            "\n",
            "\n",
            "1/1 [==============================] - 0s 17ms/step - loss: 0.0982\n"
          ]
        },
        {
          "output_type": "stream",
          "name": "stderr",
          "text": [
            "\r 98%|█████████▊| 242/248 [09:38<00:20,  3.38s/it]"
          ]
        },
        {
          "output_type": "stream",
          "name": "stdout",
          "text": [
            "MAE FOR: Bengal Fish Karahi\n",
            "0.09815974533557892\n",
            "\n",
            "\n",
            "1/1 [==============================] - 0s 18ms/step - loss: 0.0976\n"
          ]
        },
        {
          "output_type": "stream",
          "name": "stderr",
          "text": [
            "\r 98%|█████████▊| 243/248 [09:40<00:15,  3.09s/it]"
          ]
        },
        {
          "output_type": "stream",
          "name": "stdout",
          "text": [
            "MAE FOR: Rogon - King Prawn\n",
            "0.09756321460008621\n",
            "\n",
            "\n",
            "1/1 [==============================] - 0s 18ms/step - loss: 0.0653\n"
          ]
        },
        {
          "output_type": "stream",
          "name": "stderr",
          "text": [
            "\r 98%|█████████▊| 244/248 [09:42<00:10,  2.63s/it]"
          ]
        },
        {
          "output_type": "stream",
          "name": "stdout",
          "text": [
            "MAE FOR: Mushroom - King Prawn\n",
            "0.06529969722032547\n",
            "\n",
            "\n",
            "1/1 [==============================] - 0s 18ms/step - loss: 0.0706\n"
          ]
        },
        {
          "output_type": "stream",
          "name": "stderr",
          "text": [
            "\r 99%|█████████▉| 245/248 [09:45<00:08,  2.87s/it]"
          ]
        },
        {
          "output_type": "stream",
          "name": "stdout",
          "text": [
            "MAE FOR: King Prawn Karahi\n",
            "0.07058791071176529\n",
            "\n",
            "\n",
            "1/1 [==============================] - 0s 18ms/step - loss: 3.6121e-04\n"
          ]
        },
        {
          "output_type": "stream",
          "name": "stderr",
          "text": [
            "\r 99%|█████████▉| 246/248 [09:50<00:07,  3.59s/it]"
          ]
        },
        {
          "output_type": "stream",
          "name": "stdout",
          "text": [
            "MAE FOR: Methi - King Prawn\n",
            "0.0003612142463680357\n",
            "\n",
            "\n",
            "1/1 [==============================] - 0s 17ms/step - loss: 2.9419e-04\n"
          ]
        },
        {
          "output_type": "stream",
          "name": "stderr",
          "text": [
            "\r100%|█████████▉| 247/248 [09:52<00:02,  2.90s/it]"
          ]
        },
        {
          "output_type": "stream",
          "name": "stdout",
          "text": [
            "MAE FOR: Kurma\n",
            "0.0002941898419521749\n",
            "\n",
            "\n",
            "1/1 [==============================] - 0s 18ms/step - loss: 0.3896\n"
          ]
        },
        {
          "output_type": "stream",
          "name": "stderr",
          "text": [
            "100%|██████████| 248/248 [09:53<00:00,  2.39s/it]"
          ]
        },
        {
          "output_type": "stream",
          "name": "stdout",
          "text": [
            "MAE FOR: House Red wine 75cl\n",
            "0.3895784914493561\n",
            "\n",
            "\n"
          ]
        },
        {
          "output_type": "stream",
          "name": "stderr",
          "text": [
            "\n"
          ]
        }
      ]
    },
    {
      "cell_type": "code",
      "source": [
        "zipped = list(zip(MAEs, itemNames))\n",
        "MAE_DF = pd.DataFrame(zipped, columns=['MAE',\"item\"])"
      ],
      "metadata": {
        "id": "o1uaPU-uScgG"
      },
      "execution_count": 382,
      "outputs": []
    },
    {
      "cell_type": "code",
      "source": [
        "MAE_DF.MAE.mean()"
      ],
      "metadata": {
        "colab": {
          "base_uri": "https://localhost:8080/"
        },
        "id": "Tmcc1h8yXORA",
        "outputId": "854c24ca-9b5d-4bf6-9805-1488440d5cf8"
      },
      "execution_count": 383,
      "outputs": [
        {
          "output_type": "execute_result",
          "data": {
            "text/plain": [
              "1.497947523274272"
            ]
          },
          "metadata": {},
          "execution_count": 383
        }
      ]
    },
    {
      "cell_type": "markdown",
      "source": [
        "ORDERS 2"
      ],
      "metadata": {
        "id": "ZIm2ueSwcixI"
      }
    },
    {
      "cell_type": "code",
      "source": [
        "trainData = pd.read_csv(\"orders2Train_clean.csv\")\n",
        "testData = pd.read_csv(\"orders2Test_clean.csv\")"
      ],
      "metadata": {
        "id": "vuLnqwI2QWew"
      },
      "execution_count": 32,
      "outputs": []
    },
    {
      "cell_type": "code",
      "source": [
        "uniq = trainData.columns.tolist()\n",
        "items_new = []\n",
        "\n",
        "for i in items:\n",
        "\n",
        "  if i in uniq:\n",
        "    items_new.append(i)"
      ],
      "metadata": {
        "id": "Dm2-eTDMpbUL"
      },
      "execution_count": 33,
      "outputs": []
    },
    {
      "cell_type": "code",
      "source": [
        "items = items_new"
      ],
      "metadata": {
        "id": "k3ugGpQXRIki"
      },
      "execution_count": 34,
      "outputs": []
    },
    {
      "cell_type": "code",
      "source": [
        "len(items)"
      ],
      "metadata": {
        "colab": {
          "base_uri": "https://localhost:8080/"
        },
        "id": "pdzsOs29RePA",
        "outputId": "940de77b-368b-40b5-9933-67aa1288818f"
      },
      "execution_count": 35,
      "outputs": [
        {
          "output_type": "execute_result",
          "data": {
            "text/plain": [
              "279"
            ]
          },
          "metadata": {},
          "execution_count": 35
        }
      ]
    },
    {
      "cell_type": "code",
      "source": [
        "Holidays = pd.read_csv(\"UK Holidays.csv\")\n",
        "\n",
        "def getHolidayCount(trainData, Holidays):\n",
        "\n",
        "  listOfHolidays = Holidays.weekOfYear.unique()\n",
        "  holidayCount = []\n",
        "  for index, row in trainData.iterrows():\n",
        "\n",
        "    week = int(row.WeekOfYear)\n",
        "    p = Holidays[Holidays[\"weekOfYear\"]==week]\n",
        "    numHols = len(p[\"normalizeHolidayName\"].unique())\n",
        "    holidayCount.append(numHols)\n",
        "\n",
        "\n",
        "  trainData[\"numHolidays\"] = holidayCount\n",
        "\n",
        "  return trainData\n",
        "  \n",
        "\n",
        "trainData = getHolidayCount(trainData, Holidays)\n",
        "\n",
        "testData = getHolidayCount(testData, Holidays)"
      ],
      "metadata": {
        "id": "onk1cN4_mLbL"
      },
      "execution_count": 36,
      "outputs": []
    },
    {
      "cell_type": "code",
      "source": [
        "f = []\n",
        "for i in trainData.columns.tolist():\n",
        "  if i not in items:\n",
        "    f.append(i)\n",
        "\n",
        "f.pop(0)\n",
        "f.pop(0)"
      ],
      "metadata": {
        "colab": {
          "base_uri": "https://localhost:8080/",
          "height": 36
        },
        "id": "6TwJCtY-nvGt",
        "outputId": "28c9b4cb-e7bb-4dae-8c0a-527caec7fbb5"
      },
      "execution_count": 39,
      "outputs": [
        {
          "output_type": "execute_result",
          "data": {
            "text/plain": [
              "'Year'"
            ],
            "application/vnd.google.colaboratory.intrinsic+json": {
              "type": "string"
            }
          },
          "metadata": {},
          "execution_count": 39
        }
      ]
    },
    {
      "cell_type": "code",
      "source": [
        "trainDataN = normalize(trainData,trainData, items)\n",
        "testDataN = normalize(testData,trainData, items)"
      ],
      "metadata": {
        "id": "tyy_z0i7nwzb"
      },
      "execution_count": 43,
      "outputs": []
    },
    {
      "cell_type": "code",
      "source": [
        "from keras.callbacks import EarlyStopping\n",
        "from tqdm import trange\n",
        "\n",
        "es = EarlyStopping(monitor='val_loss', mode = \"min\",patience = 15)\n",
        "\n",
        "MAEs = []\n",
        "itemNames = []\n",
        "for i in trange(len(items)):\n",
        "  X_train = trainDataN[f].values\n",
        "  y_train = trainDataN[items[i]].values\n",
        "  featNum = trainDataN[items[i]].max()\n",
        "  X_test = testDataN[f].values\n",
        "  y_test = testDataN[items[i]].values\n",
        "\n",
        "  t = add_prev_counts(trainDataN,items[i]).reshape(X_train.shape[0],1)\n",
        "  X_train = np.append(X_train, t, axis = 1)\n",
        "\n",
        "\n",
        "  t = add_prev_counts_test(trainDataN,testDataN, items[i]).reshape(X_test.shape[0],1)\n",
        "  X_test = np.append(X_test, t, axis = 1)\n",
        "\n",
        "  model = Sequential()\n",
        "  model.add(Dense(14, input_dim=X_train.shape[1], kernel_initializer='he_uniform', activation='relu'))\n",
        "  model.add(Dropout(0.2))\n",
        "  model.add(Dense(featNum, kernel_initializer='he_uniform', activation='sigmoid'))\n",
        "  model.add(Dense(1, kernel_initializer='he_uniform'))\n",
        "  model.compile(loss = \"mae\", optimizer=tf.keras.optimizers.Adam(0.005))\n",
        "  model.fit(X_train, y_train, verbose = 0, epochs = 350, validation_data = [X_test, y_test], callbacks = es)\n",
        "  MAE = model.evaluate(X_test, y_test)\n",
        "  print(\"MAE FOR:\", items[i])\n",
        "  print(MAE)\n",
        "  print(\"\\n\")\n",
        "\n",
        "  MAEs.append(MAE)\n",
        "  itemNames.append(items[i])\n"
      ],
      "metadata": {
        "colab": {
          "base_uri": "https://localhost:8080/"
        },
        "id": "UHvSP2Oen5Lr",
        "outputId": "f672bb6a-6f21-45ec-c022-69b4a90790ee"
      },
      "execution_count": 47,
      "outputs": [
        {
          "output_type": "stream",
          "name": "stderr",
          "text": [
            "\r  0%|          | 0/279 [00:00<?, ?it/s]"
          ]
        },
        {
          "output_type": "stream",
          "name": "stdout",
          "text": [
            "1/1 [==============================] - 0s 20ms/step - loss: 3.2808\n"
          ]
        },
        {
          "output_type": "stream",
          "name": "stderr",
          "text": [
            "\r  0%|          | 1/279 [00:07<34:50,  7.52s/it]"
          ]
        },
        {
          "output_type": "stream",
          "name": "stdout",
          "text": [
            "MAE FOR: Tandoori Mixed Grill\n",
            "3.2808449268341064\n",
            "\n",
            "\n",
            "1/1 [==============================] - 0s 19ms/step - loss: 2.0678\n"
          ]
        },
        {
          "output_type": "stream",
          "name": "stderr",
          "text": [
            "\r  1%|          | 2/279 [00:09<19:50,  4.30s/it]"
          ]
        },
        {
          "output_type": "stream",
          "name": "stdout",
          "text": [
            "MAE FOR: Madras Sauce\n",
            "2.0677874088287354\n",
            "\n",
            "\n",
            "1/1 [==============================] - 0s 20ms/step - loss: 4.9535\n"
          ]
        },
        {
          "output_type": "stream",
          "name": "stderr",
          "text": [
            "\r  1%|          | 3/279 [00:14<20:45,  4.51s/it]"
          ]
        },
        {
          "output_type": "stream",
          "name": "stdout",
          "text": [
            "MAE FOR: Mushroom Rice\n",
            "4.953453540802002\n",
            "\n",
            "\n",
            "1/1 [==============================] - 0s 20ms/step - loss: 6.3593\n"
          ]
        },
        {
          "output_type": "stream",
          "name": "stderr",
          "text": [
            "\r  1%|▏         | 4/279 [00:16<16:00,  3.49s/it]"
          ]
        },
        {
          "output_type": "stream",
          "name": "stdout",
          "text": [
            "MAE FOR: Garlic Naan\n",
            "6.359323978424072\n",
            "\n",
            "\n",
            "1/1 [==============================] - 0s 20ms/step - loss: 4.9599\n"
          ]
        },
        {
          "output_type": "stream",
          "name": "stderr",
          "text": [
            "\r  2%|▏         | 5/279 [00:18<14:05,  3.08s/it]"
          ]
        },
        {
          "output_type": "stream",
          "name": "stdout",
          "text": [
            "MAE FOR: Paratha\n",
            "4.959872722625732\n",
            "\n",
            "\n",
            "1/1 [==============================] - 0s 20ms/step - loss: 4.3637\n"
          ]
        },
        {
          "output_type": "stream",
          "name": "stderr",
          "text": [
            "\r  2%|▏         | 6/279 [00:21<14:20,  3.15s/it]"
          ]
        },
        {
          "output_type": "stream",
          "name": "stdout",
          "text": [
            "MAE FOR: Plain Rice\n",
            "4.363654136657715\n",
            "\n",
            "\n",
            "1/1 [==============================] - 0s 21ms/step - loss: 2.7525\n"
          ]
        },
        {
          "output_type": "stream",
          "name": "stderr",
          "text": [
            "\r  3%|▎         | 7/279 [00:23<11:56,  2.63s/it]"
          ]
        },
        {
          "output_type": "stream",
          "name": "stdout",
          "text": [
            "MAE FOR: Prawn Puree\n",
            "2.752540111541748\n",
            "\n",
            "\n",
            "1/1 [==============================] - 0s 19ms/step - loss: 21.6118\n"
          ]
        },
        {
          "output_type": "stream",
          "name": "stderr",
          "text": [
            "\r  3%|▎         | 8/279 [00:25<11:00,  2.44s/it]"
          ]
        },
        {
          "output_type": "stream",
          "name": "stdout",
          "text": [
            "MAE FOR: Plain Papadum\n",
            "21.61178207397461\n",
            "\n",
            "\n",
            "1/1 [==============================] - 0s 19ms/step - loss: 5.3745\n"
          ]
        },
        {
          "output_type": "stream",
          "name": "stderr",
          "text": [
            "\r  3%|▎         | 9/279 [00:27<10:40,  2.37s/it]"
          ]
        },
        {
          "output_type": "stream",
          "name": "stdout",
          "text": [
            "MAE FOR: Mango Chutney\n",
            "5.3745036125183105\n",
            "\n",
            "\n",
            "1/1 [==============================] - 0s 19ms/step - loss: 6.2110\n"
          ]
        },
        {
          "output_type": "stream",
          "name": "stderr",
          "text": [
            "\r  4%|▎         | 10/279 [00:30<10:41,  2.39s/it]"
          ]
        },
        {
          "output_type": "stream",
          "name": "stdout",
          "text": [
            "MAE FOR: Onion Chutney\n",
            "6.2110114097595215\n",
            "\n",
            "\n",
            "1/1 [==============================] - 0s 19ms/step - loss: 6.1806\n"
          ]
        },
        {
          "output_type": "stream",
          "name": "stderr",
          "text": [
            "\r  4%|▍         | 11/279 [00:32<10:55,  2.44s/it]"
          ]
        },
        {
          "output_type": "stream",
          "name": "stdout",
          "text": [
            "MAE FOR: Mint Sauce\n",
            "6.1806111335754395\n",
            "\n",
            "\n",
            "1/1 [==============================] - 0s 20ms/step - loss: 4.3970\n"
          ]
        },
        {
          "output_type": "stream",
          "name": "stderr",
          "text": [
            "\r  4%|▍         | 12/279 [00:34<10:26,  2.35s/it]"
          ]
        },
        {
          "output_type": "stream",
          "name": "stdout",
          "text": [
            "MAE FOR: Chicken Tikka Masala\n",
            "4.3969502449035645\n",
            "\n",
            "\n",
            "1/1 [==============================] - 0s 20ms/step - loss: 0.6490\n"
          ]
        },
        {
          "output_type": "stream",
          "name": "stderr",
          "text": [
            "\r  5%|▍         | 13/279 [00:36<09:37,  2.17s/it]"
          ]
        },
        {
          "output_type": "stream",
          "name": "stdout",
          "text": [
            "MAE FOR: Tandoori King Prawn Masala\n",
            "0.6490007042884827\n",
            "\n",
            "\n",
            "1/1 [==============================] - 0s 19ms/step - loss: 14.4991\n"
          ]
        },
        {
          "output_type": "stream",
          "name": "stderr",
          "text": [
            "\r  5%|▌         | 14/279 [00:38<09:16,  2.10s/it]"
          ]
        },
        {
          "output_type": "stream",
          "name": "stdout",
          "text": [
            "MAE FOR: Pilau Rice\n",
            "14.499104499816895\n",
            "\n",
            "\n",
            "1/1 [==============================] - 0s 21ms/step - loss: 4.7972\n"
          ]
        },
        {
          "output_type": "stream",
          "name": "stderr",
          "text": [
            "\r  5%|▌         | 15/279 [00:42<11:07,  2.53s/it]"
          ]
        },
        {
          "output_type": "stream",
          "name": "stdout",
          "text": [
            "MAE FOR: Peshwari Naan\n",
            "4.7972412109375\n",
            "\n",
            "\n",
            "1/1 [==============================] - 0s 19ms/step - loss: 3.1965\n"
          ]
        },
        {
          "output_type": "stream",
          "name": "stderr",
          "text": [
            "\r  6%|▌         | 16/279 [00:45<12:39,  2.89s/it]"
          ]
        },
        {
          "output_type": "stream",
          "name": "stdout",
          "text": [
            "MAE FOR: Bottle Coke\n",
            "3.196516513824463\n",
            "\n",
            "\n",
            "1/1 [==============================] - 0s 19ms/step - loss: 3.4263\n"
          ]
        },
        {
          "output_type": "stream",
          "name": "stderr",
          "text": [
            "\r  6%|▌         | 17/279 [00:47<11:33,  2.65s/it]"
          ]
        },
        {
          "output_type": "stream",
          "name": "stdout",
          "text": [
            "MAE FOR: Butter Chicken\n",
            "3.426335334777832\n",
            "\n",
            "\n",
            "1/1 [==============================] - 0s 20ms/step - loss: 2.5102\n"
          ]
        },
        {
          "output_type": "stream",
          "name": "stderr",
          "text": [
            "\r  6%|▋         | 18/279 [00:50<10:58,  2.52s/it]"
          ]
        },
        {
          "output_type": "stream",
          "name": "stdout",
          "text": [
            "MAE FOR: Saag Paneer\n",
            "2.5102407932281494\n",
            "\n",
            "\n",
            "1/1 [==============================] - 0s 20ms/step - loss: 5.2221\n"
          ]
        },
        {
          "output_type": "stream",
          "name": "stderr",
          "text": [
            "\r  7%|▋         | 19/279 [00:52<10:16,  2.37s/it]"
          ]
        },
        {
          "output_type": "stream",
          "name": "stdout",
          "text": [
            "MAE FOR: Chapati\n",
            "5.222111701965332\n",
            "\n",
            "\n",
            "1/1 [==============================] - 0s 20ms/step - loss: 6.3912\n"
          ]
        },
        {
          "output_type": "stream",
          "name": "stderr",
          "text": [
            "\r  7%|▋         | 20/279 [00:54<09:39,  2.24s/it]"
          ]
        },
        {
          "output_type": "stream",
          "name": "stdout",
          "text": [
            "MAE FOR: Onion Bhaji\n",
            "6.391195774078369\n",
            "\n",
            "\n",
            "1/1 [==============================] - 0s 20ms/step - loss: 0.3994\n"
          ]
        },
        {
          "output_type": "stream",
          "name": "stderr",
          "text": [
            "\r  8%|▊         | 21/279 [00:55<09:09,  2.13s/it]"
          ]
        },
        {
          "output_type": "stream",
          "name": "stdout",
          "text": [
            "MAE FOR: Tandoori Fish Karahi\n",
            "0.39938613772392273\n",
            "\n",
            "\n",
            "1/1 [==============================] - 0s 21ms/step - loss: 1.7395\n"
          ]
        },
        {
          "output_type": "stream",
          "name": "stderr",
          "text": [
            "\r  8%|▊         | 22/279 [00:57<08:51,  2.07s/it]"
          ]
        },
        {
          "output_type": "stream",
          "name": "stdout",
          "text": [
            "MAE FOR: Aloo Gobi\n",
            "1.7395364046096802\n",
            "\n",
            "\n",
            "1/1 [==============================] - 0s 19ms/step - loss: 2.9569\n"
          ]
        },
        {
          "output_type": "stream",
          "name": "stderr",
          "text": [
            "\r  8%|▊         | 23/279 [00:59<08:00,  1.88s/it]"
          ]
        },
        {
          "output_type": "stream",
          "name": "stdout",
          "text": [
            "MAE FOR: Chicken Chaat\n",
            "2.956941843032837\n",
            "\n",
            "\n",
            "1/1 [==============================] - 0s 19ms/step - loss: 1.4599\n"
          ]
        },
        {
          "output_type": "stream",
          "name": "stderr",
          "text": [
            "\r  9%|▊         | 24/279 [01:01<08:59,  2.12s/it]"
          ]
        },
        {
          "output_type": "stream",
          "name": "stdout",
          "text": [
            "MAE FOR: Madras - Chicken Tikka\n",
            "1.4598780870437622\n",
            "\n",
            "\n",
            "1/1 [==============================] - 0s 20ms/step - loss: 4.4845\n"
          ]
        },
        {
          "output_type": "stream",
          "name": "stderr",
          "text": [
            "\r  9%|▉         | 25/279 [01:03<08:26,  1.99s/it]"
          ]
        },
        {
          "output_type": "stream",
          "name": "stdout",
          "text": [
            "MAE FOR: Mini Bhaji\n",
            "4.484462738037109\n",
            "\n",
            "\n",
            "1/1 [==============================] - 0s 20ms/step - loss: 7.9410\n"
          ]
        },
        {
          "output_type": "stream",
          "name": "stderr",
          "text": [
            "\r  9%|▉         | 26/279 [01:05<08:30,  2.02s/it]"
          ]
        },
        {
          "output_type": "stream",
          "name": "stdout",
          "text": [
            "MAE FOR: Naan\n",
            "7.940972328186035\n",
            "\n",
            "\n",
            "1/1 [==============================] - 0s 20ms/step - loss: 1.1216\n"
          ]
        },
        {
          "output_type": "stream",
          "name": "stderr",
          "text": [
            "\r 10%|▉         | 27/279 [01:06<07:28,  1.78s/it]"
          ]
        },
        {
          "output_type": "stream",
          "name": "stdout",
          "text": [
            "MAE FOR: Vindaloo - Chicken Tikka\n",
            "1.1216026544570923\n",
            "\n",
            "\n",
            "1/1 [==============================] - 0s 19ms/step - loss: 5.0000\n"
          ]
        },
        {
          "output_type": "stream",
          "name": "stderr",
          "text": [
            "\r 10%|█         | 28/279 [01:08<06:40,  1.60s/it]"
          ]
        },
        {
          "output_type": "stream",
          "name": "stdout",
          "text": [
            "MAE FOR: Sheek Kebab\n",
            "5.0\n",
            "\n",
            "\n",
            "1/1 [==============================] - 0s 17ms/step - loss: 0.7422\n"
          ]
        },
        {
          "output_type": "stream",
          "name": "stderr",
          "text": [
            "\r 10%|█         | 29/279 [01:09<06:08,  1.47s/it]"
          ]
        },
        {
          "output_type": "stream",
          "name": "stdout",
          "text": [
            "MAE FOR: Methi - Chicken\n",
            "0.7422099113464355\n",
            "\n",
            "\n",
            "1/1 [==============================] - 0s 18ms/step - loss: 1.0739\n"
          ]
        },
        {
          "output_type": "stream",
          "name": "stderr",
          "text": [
            "\r 11%|█         | 30/279 [01:10<05:58,  1.44s/it]"
          ]
        },
        {
          "output_type": "stream",
          "name": "stdout",
          "text": [
            "MAE FOR: Tandoori Fish (Main)\n",
            "1.0738637447357178\n",
            "\n",
            "\n",
            "1/1 [==============================] - 0s 18ms/step - loss: 0.7221\n"
          ]
        },
        {
          "output_type": "stream",
          "name": "stderr",
          "text": [
            "\r 11%|█         | 31/279 [01:11<05:46,  1.40s/it]"
          ]
        },
        {
          "output_type": "stream",
          "name": "stdout",
          "text": [
            "MAE FOR: Saag Bhajee\n",
            "0.7220731377601624\n",
            "\n",
            "\n",
            "1/1 [==============================] - 0s 20ms/step - loss: 1.4696\n"
          ]
        },
        {
          "output_type": "stream",
          "name": "stderr",
          "text": [
            "\r 11%|█▏        | 32/279 [01:13<06:00,  1.46s/it]"
          ]
        },
        {
          "output_type": "stream",
          "name": "stdout",
          "text": [
            "MAE FOR: Tarka Dall\n",
            "1.469563603401184\n",
            "\n",
            "\n",
            "1/1 [==============================] - 0s 18ms/step - loss: 2.5428\n"
          ]
        },
        {
          "output_type": "stream",
          "name": "stderr",
          "text": [
            "\r 12%|█▏        | 33/279 [01:14<05:35,  1.36s/it]"
          ]
        },
        {
          "output_type": "stream",
          "name": "stdout",
          "text": [
            "MAE FOR: COBRA ( LARGE )\n",
            "2.5428030490875244\n",
            "\n",
            "\n",
            "1/1 [==============================] - 0s 19ms/step - loss: 1.0809\n"
          ]
        },
        {
          "output_type": "stream",
          "name": "stderr",
          "text": [
            "\r 12%|█▏        | 34/279 [01:15<05:23,  1.32s/it]"
          ]
        },
        {
          "output_type": "stream",
          "name": "stdout",
          "text": [
            "MAE FOR: Tandoori Fish\n",
            "1.0809499025344849\n",
            "\n",
            "\n",
            "1/1 [==============================] - 0s 18ms/step - loss: 1.2451\n"
          ]
        },
        {
          "output_type": "stream",
          "name": "stderr",
          "text": [
            "\r 13%|█▎        | 35/279 [01:17<05:06,  1.26s/it]"
          ]
        },
        {
          "output_type": "stream",
          "name": "stdout",
          "text": [
            "MAE FOR: Dhansak - Chicken Tikka\n",
            "1.2451024055480957\n",
            "\n",
            "\n",
            "1/1 [==============================] - 0s 18ms/step - loss: 1.9029\n"
          ]
        },
        {
          "output_type": "stream",
          "name": "stderr",
          "text": [
            "\r 13%|█▎        | 36/279 [01:18<05:28,  1.35s/it]"
          ]
        },
        {
          "output_type": "stream",
          "name": "stdout",
          "text": [
            "MAE FOR: Chicken Tikka Jalfrezi\n",
            "1.9028900861740112\n",
            "\n",
            "\n",
            "1/1 [==============================] - 0s 19ms/step - loss: 2.6428\n"
          ]
        },
        {
          "output_type": "stream",
          "name": "stderr",
          "text": [
            "\r 13%|█▎        | 37/279 [01:21<07:49,  1.94s/it]"
          ]
        },
        {
          "output_type": "stream",
          "name": "stdout",
          "text": [
            "MAE FOR: Chicken Tikka (Main)\n",
            "2.6427674293518066\n",
            "\n",
            "\n",
            "1/1 [==============================] - 0s 20ms/step - loss: 9.0629\n"
          ]
        },
        {
          "output_type": "stream",
          "name": "stderr",
          "text": [
            "\r 14%|█▎        | 38/279 [01:24<08:37,  2.15s/it]"
          ]
        },
        {
          "output_type": "stream",
          "name": "stdout",
          "text": [
            "MAE FOR: Bombay Aloo\n",
            "9.062911033630371\n",
            "\n",
            "\n",
            "1/1 [==============================] - 0s 22ms/step - loss: 4.1118\n"
          ]
        },
        {
          "output_type": "stream",
          "name": "stderr",
          "text": [
            "\r 14%|█▍        | 39/279 [01:26<08:32,  2.14s/it]"
          ]
        },
        {
          "output_type": "stream",
          "name": "stdout",
          "text": [
            "MAE FOR: Red Sauce\n",
            "4.111807346343994\n",
            "\n",
            "\n",
            "1/1 [==============================] - 0s 21ms/step - loss: 0.4512\n"
          ]
        },
        {
          "output_type": "stream",
          "name": "stderr",
          "text": [
            "\r 14%|█▍        | 40/279 [01:29<09:15,  2.32s/it]"
          ]
        },
        {
          "output_type": "stream",
          "name": "stdout",
          "text": [
            "MAE FOR: King Prawn Balti\n",
            "0.45119041204452515\n",
            "\n",
            "\n",
            "1/1 [==============================] - 0s 20ms/step - loss: 1.4038\n"
          ]
        },
        {
          "output_type": "stream",
          "name": "stderr",
          "text": [
            "\r 15%|█▍        | 41/279 [01:30<08:06,  2.05s/it]"
          ]
        },
        {
          "output_type": "stream",
          "name": "stdout",
          "text": [
            "MAE FOR: Cauliflower Bhajee\n",
            "1.4037847518920898\n",
            "\n",
            "\n",
            "1/1 [==============================] - 0s 20ms/step - loss: 1.6862\n"
          ]
        },
        {
          "output_type": "stream",
          "name": "stderr",
          "text": [
            "\r 15%|█▌        | 42/279 [01:33<08:41,  2.20s/it]"
          ]
        },
        {
          "output_type": "stream",
          "name": "stdout",
          "text": [
            "MAE FOR: Bhindi Bhajee\n",
            "1.6862256526947021\n",
            "\n",
            "\n",
            "1/1 [==============================] - 0s 20ms/step - loss: 1.3777\n"
          ]
        },
        {
          "output_type": "stream",
          "name": "stderr",
          "text": [
            "\r 15%|█▌        | 43/279 [01:35<09:04,  2.31s/it]"
          ]
        },
        {
          "output_type": "stream",
          "name": "stdout",
          "text": [
            "MAE FOR: Stuffed Paratha\n",
            "1.377697467803955\n",
            "\n",
            "\n",
            "1/1 [==============================] - 0s 21ms/step - loss: 1.6395\n"
          ]
        },
        {
          "output_type": "stream",
          "name": "stderr",
          "text": [
            "\r 16%|█▌        | 44/279 [01:37<07:50,  2.00s/it]"
          ]
        },
        {
          "output_type": "stream",
          "name": "stdout",
          "text": [
            "MAE FOR: Vegetable Curry\n",
            "1.6394909620285034\n",
            "\n",
            "\n",
            "1/1 [==============================] - 0s 19ms/step - loss: 1.9180\n"
          ]
        },
        {
          "output_type": "stream",
          "name": "stderr",
          "text": [
            "\r 16%|█▌        | 45/279 [01:38<06:57,  1.78s/it]"
          ]
        },
        {
          "output_type": "stream",
          "name": "stdout",
          "text": [
            "MAE FOR: Rogon - Chicken\n",
            "1.9180396795272827\n",
            "\n",
            "\n",
            "1/1 [==============================] - 0s 20ms/step - loss: 1.4282\n"
          ]
        },
        {
          "output_type": "stream",
          "name": "stderr",
          "text": [
            "\r 16%|█▋        | 46/279 [01:40<06:41,  1.72s/it]"
          ]
        },
        {
          "output_type": "stream",
          "name": "stdout",
          "text": [
            "MAE FOR: Chicken Pakora\n",
            "1.4282102584838867\n",
            "\n",
            "\n",
            "1/1 [==============================] - 0s 21ms/step - loss: 1.7287\n"
          ]
        },
        {
          "output_type": "stream",
          "name": "stderr",
          "text": [
            "\r 17%|█▋        | 47/279 [01:43<08:06,  2.10s/it]"
          ]
        },
        {
          "output_type": "stream",
          "name": "stdout",
          "text": [
            "MAE FOR: Tandoori Chicken (Main)\n",
            "1.7286615371704102\n",
            "\n",
            "\n",
            "1/1 [==============================] - 0s 20ms/step - loss: 0.6906\n"
          ]
        },
        {
          "output_type": "stream",
          "name": "stderr",
          "text": [
            "\r 17%|█▋        | 48/279 [01:44<07:47,  2.02s/it]"
          ]
        },
        {
          "output_type": "stream",
          "name": "stdout",
          "text": [
            "MAE FOR: Lamb Tikka Balti\n",
            "0.6905733346939087\n",
            "\n",
            "\n",
            "1/1 [==============================] - 0s 20ms/step - loss: 2.7668\n"
          ]
        },
        {
          "output_type": "stream",
          "name": "stderr",
          "text": [
            "\r 18%|█▊        | 49/279 [01:50<11:20,  2.96s/it]"
          ]
        },
        {
          "output_type": "stream",
          "name": "stdout",
          "text": [
            "MAE FOR: Spicy Papadum\n",
            "2.7668166160583496\n",
            "\n",
            "\n",
            "1/1 [==============================] - 0s 19ms/step - loss: 1.4529\n"
          ]
        },
        {
          "output_type": "stream",
          "name": "stderr",
          "text": [
            "\r 18%|█▊        | 50/279 [01:51<10:01,  2.63s/it]"
          ]
        },
        {
          "output_type": "stream",
          "name": "stdout",
          "text": [
            "MAE FOR: Paneer Tikka Masala\n",
            "1.4529402256011963\n",
            "\n",
            "\n",
            "1/1 [==============================] - 0s 21ms/step - loss: 3.1510\n"
          ]
        },
        {
          "output_type": "stream",
          "name": "stderr",
          "text": [
            "\r 18%|█▊        | 51/279 [01:53<08:53,  2.34s/it]"
          ]
        },
        {
          "output_type": "stream",
          "name": "stdout",
          "text": [
            "MAE FOR: Special Fried Rice\n",
            "3.1510274410247803\n",
            "\n",
            "\n",
            "1/1 [==============================] - 0s 19ms/step - loss: 1.2984\n"
          ]
        },
        {
          "output_type": "stream",
          "name": "stderr",
          "text": [
            "\r 19%|█▊        | 52/279 [01:55<07:54,  2.09s/it]"
          ]
        },
        {
          "output_type": "stream",
          "name": "stdout",
          "text": [
            "MAE FOR: Cylon - Chicken\n",
            "1.298388957977295\n",
            "\n",
            "\n",
            "1/1 [==============================] - 0s 19ms/step - loss: 0.7397\n"
          ]
        },
        {
          "output_type": "stream",
          "name": "stderr",
          "text": [
            "\r 19%|█▉        | 53/279 [01:56<07:34,  2.01s/it]"
          ]
        },
        {
          "output_type": "stream",
          "name": "stdout",
          "text": [
            "MAE FOR: Lamb Hari Mirch\n",
            "0.7397106289863586\n",
            "\n",
            "\n",
            "1/1 [==============================] - 0s 20ms/step - loss: 1.8436\n"
          ]
        },
        {
          "output_type": "stream",
          "name": "stderr",
          "text": [
            "\r 19%|█▉        | 54/279 [01:58<06:46,  1.81s/it]"
          ]
        },
        {
          "output_type": "stream",
          "name": "stdout",
          "text": [
            "MAE FOR: Lamb Balti\n",
            "1.8436472415924072\n",
            "\n",
            "\n",
            "1/1 [==============================] - 0s 19ms/step - loss: 1.4429\n"
          ]
        },
        {
          "output_type": "stream",
          "name": "stderr",
          "text": [
            "\r 20%|█▉        | 55/279 [02:02<09:08,  2.45s/it]"
          ]
        },
        {
          "output_type": "stream",
          "name": "stdout",
          "text": [
            "MAE FOR: Onion Rice\n",
            "1.4428560733795166\n",
            "\n",
            "\n",
            "1/1 [==============================] - 0s 20ms/step - loss: 2.8320\n"
          ]
        },
        {
          "output_type": "stream",
          "name": "stderr",
          "text": [
            "\r 20%|██        | 56/279 [02:04<08:50,  2.38s/it]"
          ]
        },
        {
          "output_type": "stream",
          "name": "stdout",
          "text": [
            "MAE FOR: Tandoori Roti\n",
            "2.8320271968841553\n",
            "\n",
            "\n",
            "1/1 [==============================] - 0s 20ms/step - loss: 1.8336\n"
          ]
        },
        {
          "output_type": "stream",
          "name": "stderr",
          "text": [
            "\r 20%|██        | 57/279 [02:06<08:32,  2.31s/it]"
          ]
        },
        {
          "output_type": "stream",
          "name": "stdout",
          "text": [
            "MAE FOR: Chana Masala\n",
            "1.8335771560668945\n",
            "\n",
            "\n",
            "1/1 [==============================] - 0s 20ms/step - loss: 10.0657\n"
          ]
        },
        {
          "output_type": "stream",
          "name": "stderr",
          "text": [
            "\r 21%|██        | 58/279 [02:10<10:01,  2.72s/it]"
          ]
        },
        {
          "output_type": "stream",
          "name": "stdout",
          "text": [
            "MAE FOR: Madras - Chicken\n",
            "10.065717697143555\n",
            "\n",
            "\n",
            "1/1 [==============================] - 0s 20ms/step - loss: 0.1938\n"
          ]
        },
        {
          "output_type": "stream",
          "name": "stderr",
          "text": [
            "\r 21%|██        | 59/279 [02:13<10:53,  2.97s/it]"
          ]
        },
        {
          "output_type": "stream",
          "name": "stdout",
          "text": [
            "MAE FOR: Saag - Chicken Tikka\n",
            "0.19382424652576447\n",
            "\n",
            "\n",
            "1/1 [==============================] - 0s 21ms/step - loss: 4.1760\n"
          ]
        },
        {
          "output_type": "stream",
          "name": "stderr",
          "text": [
            "\r 22%|██▏       | 60/279 [02:16<10:41,  2.93s/it]"
          ]
        },
        {
          "output_type": "stream",
          "name": "stdout",
          "text": [
            "MAE FOR: Keema Naan\n",
            "4.176009178161621\n",
            "\n",
            "\n",
            "1/1 [==============================] - 0s 20ms/step - loss: 1.4574\n"
          ]
        },
        {
          "output_type": "stream",
          "name": "stderr",
          "text": [
            "\r 22%|██▏       | 61/279 [02:18<09:00,  2.48s/it]"
          ]
        },
        {
          "output_type": "stream",
          "name": "stdout",
          "text": [
            "MAE FOR: Lamb Chops\n",
            "1.4574028253555298\n",
            "\n",
            "\n",
            "1/1 [==============================] - 0s 20ms/step - loss: 3.7711\n"
          ]
        },
        {
          "output_type": "stream",
          "name": "stderr",
          "text": [
            "\r 22%|██▏       | 62/279 [02:19<08:21,  2.31s/it]"
          ]
        },
        {
          "output_type": "stream",
          "name": "stdout",
          "text": [
            "MAE FOR: Chicken Biryani\n",
            "3.7711126804351807\n",
            "\n",
            "\n",
            "1/1 [==============================] - 0s 20ms/step - loss: 5.8028\n"
          ]
        },
        {
          "output_type": "stream",
          "name": "stderr",
          "text": [
            "\r 23%|██▎       | 63/279 [02:23<09:53,  2.75s/it]"
          ]
        },
        {
          "output_type": "stream",
          "name": "stdout",
          "text": [
            "MAE FOR: Curry - Chicken\n",
            "5.802794933319092\n",
            "\n",
            "\n",
            "1/1 [==============================] - 0s 20ms/step - loss: 1.0451\n"
          ]
        },
        {
          "output_type": "stream",
          "name": "stderr",
          "text": [
            "\r 23%|██▎       | 64/279 [02:25<08:27,  2.36s/it]"
          ]
        },
        {
          "output_type": "stream",
          "name": "stdout",
          "text": [
            "MAE FOR: Mixed Raita\n",
            "1.0451103448867798\n",
            "\n",
            "\n",
            "1/1 [==============================] - 0s 20ms/step - loss: 1.9137\n"
          ]
        },
        {
          "output_type": "stream",
          "name": "stderr",
          "text": [
            "\r 23%|██▎       | 65/279 [02:28<09:24,  2.64s/it]"
          ]
        },
        {
          "output_type": "stream",
          "name": "stdout",
          "text": [
            "MAE FOR: Lamb Biryani\n",
            "1.9137452840805054\n",
            "\n",
            "\n",
            "1/1 [==============================] - 0s 20ms/step - loss: 1.1053\n"
          ]
        },
        {
          "output_type": "stream",
          "name": "stderr",
          "text": [
            "\r 24%|██▎       | 66/279 [02:30<08:13,  2.32s/it]"
          ]
        },
        {
          "output_type": "stream",
          "name": "stdout",
          "text": [
            "MAE FOR: Kulcha Naan\n",
            "1.1053200960159302\n",
            "\n",
            "\n",
            "1/1 [==============================] - 0s 19ms/step - loss: 2.3890\n"
          ]
        },
        {
          "output_type": "stream",
          "name": "stderr",
          "text": [
            "\r 24%|██▍       | 67/279 [02:31<07:20,  2.08s/it]"
          ]
        },
        {
          "output_type": "stream",
          "name": "stdout",
          "text": [
            "MAE FOR: Chicken Tikka\n",
            "2.388991355895996\n",
            "\n",
            "\n",
            "1/1 [==============================] - 0s 20ms/step - loss: 2.1736\n"
          ]
        },
        {
          "output_type": "stream",
          "name": "stderr",
          "text": [
            "\r 24%|██▍       | 68/279 [02:33<07:21,  2.09s/it]"
          ]
        },
        {
          "output_type": "stream",
          "name": "stdout",
          "text": [
            "MAE FOR: Chicken Tikka Biryani\n",
            "2.173555612564087\n",
            "\n",
            "\n",
            "1/1 [==============================] - 0s 19ms/step - loss: 1.1233\n"
          ]
        },
        {
          "output_type": "stream",
          "name": "stderr",
          "text": [
            "\r 25%|██▍       | 69/279 [02:35<06:33,  1.87s/it]"
          ]
        },
        {
          "output_type": "stream",
          "name": "stdout",
          "text": [
            "MAE FOR: Tandoori Paratha\n",
            "1.123275637626648\n",
            "\n",
            "\n",
            "1/1 [==============================] - 0s 21ms/step - loss: 1.6141\n"
          ]
        },
        {
          "output_type": "stream",
          "name": "stderr",
          "text": [
            "\r 25%|██▌       | 70/279 [02:37<06:40,  1.92s/it]"
          ]
        },
        {
          "output_type": "stream",
          "name": "stdout",
          "text": [
            "MAE FOR: Vindaloo Sauce\n",
            "1.6141469478607178\n",
            "\n",
            "\n",
            "1/1 [==============================] - 0s 19ms/step - loss: 0.9997\n"
          ]
        },
        {
          "output_type": "stream",
          "name": "stderr",
          "text": [
            "\r 25%|██▌       | 71/279 [02:38<05:51,  1.69s/it]"
          ]
        },
        {
          "output_type": "stream",
          "name": "stdout",
          "text": [
            "MAE FOR: Chicken Chilli Suka\n",
            "0.9996907114982605\n",
            "\n",
            "\n",
            "1/1 [==============================] - 0s 21ms/step - loss: 0.8394\n"
          ]
        },
        {
          "output_type": "stream",
          "name": "stderr",
          "text": [
            "\r 26%|██▌       | 72/279 [02:39<05:28,  1.59s/it]"
          ]
        },
        {
          "output_type": "stream",
          "name": "stdout",
          "text": [
            "MAE FOR: Murgh Masala\n",
            "0.8394483923912048\n",
            "\n",
            "\n",
            "1/1 [==============================] - 0s 19ms/step - loss: 12.6063\n"
          ]
        },
        {
          "output_type": "stream",
          "name": "stderr",
          "text": [
            "\r 26%|██▌       | 73/279 [02:43<07:25,  2.16s/it]"
          ]
        },
        {
          "output_type": "stream",
          "name": "stdout",
          "text": [
            "MAE FOR: Korma - Chicken\n",
            "12.606348991394043\n",
            "\n",
            "\n",
            "1/1 [==============================] - 0s 19ms/step - loss: 1.7794\n"
          ]
        },
        {
          "output_type": "stream",
          "name": "stderr",
          "text": [
            "\r 27%|██▋       | 74/279 [02:45<07:43,  2.26s/it]"
          ]
        },
        {
          "output_type": "stream",
          "name": "stdout",
          "text": [
            "MAE FOR: French Fries\n",
            "1.7794394493103027\n",
            "\n",
            "\n",
            "1/1 [==============================] - 0s 20ms/step - loss: 1.5296\n"
          ]
        },
        {
          "output_type": "stream",
          "name": "stderr",
          "text": [
            "\r 27%|██▋       | 75/279 [02:47<06:52,  2.02s/it]"
          ]
        },
        {
          "output_type": "stream",
          "name": "stdout",
          "text": [
            "MAE FOR: Chicken Tikka Pasanda\n",
            "1.5295934677124023\n",
            "\n",
            "\n",
            "1/1 [==============================] - 0s 20ms/step - loss: 0.8851\n"
          ]
        },
        {
          "output_type": "stream",
          "name": "stderr",
          "text": [
            "\r 27%|██▋       | 76/279 [02:48<06:22,  1.88s/it]"
          ]
        },
        {
          "output_type": "stream",
          "name": "stdout",
          "text": [
            "MAE FOR: Paneer Dansak\n",
            "0.8850827217102051\n",
            "\n",
            "\n",
            "1/1 [==============================] - 0s 20ms/step - loss: 1.6673\n"
          ]
        },
        {
          "output_type": "stream",
          "name": "stderr",
          "text": [
            "\r 28%|██▊       | 77/279 [02:51<07:48,  2.32s/it]"
          ]
        },
        {
          "output_type": "stream",
          "name": "stdout",
          "text": [
            "MAE FOR: Mushroom Bhajee\n",
            "1.6672767400741577\n",
            "\n",
            "\n",
            "1/1 [==============================] - 0s 20ms/step - loss: 1.2542\n"
          ]
        },
        {
          "output_type": "stream",
          "name": "stderr",
          "text": [
            "\r 28%|██▊       | 78/279 [02:54<07:35,  2.27s/it]"
          ]
        },
        {
          "output_type": "stream",
          "name": "stdout",
          "text": [
            "MAE FOR: Crispy Aloo\n",
            "1.2541584968566895\n",
            "\n",
            "\n",
            "1/1 [==============================] - 0s 20ms/step - loss: 1.4380\n"
          ]
        },
        {
          "output_type": "stream",
          "name": "stderr",
          "text": [
            "\r 28%|██▊       | 79/279 [02:56<07:21,  2.21s/it]"
          ]
        },
        {
          "output_type": "stream",
          "name": "stdout",
          "text": [
            "MAE FOR: Mix Starter\n",
            "1.438029408454895\n",
            "\n",
            "\n",
            "1/1 [==============================] - 0s 19ms/step - loss: 2.3385\n"
          ]
        },
        {
          "output_type": "stream",
          "name": "stderr",
          "text": [
            "\r 29%|██▊       | 80/279 [02:57<06:25,  1.94s/it]"
          ]
        },
        {
          "output_type": "stream",
          "name": "stdout",
          "text": [
            "MAE FOR: Curry - Chicken Tikka\n",
            "2.3385400772094727\n",
            "\n",
            "\n",
            "1/1 [==============================] - 0s 24ms/step - loss: 0.6158\n"
          ]
        },
        {
          "output_type": "stream",
          "name": "stderr",
          "text": [
            "\r 29%|██▉       | 81/279 [03:00<07:55,  2.40s/it]"
          ]
        },
        {
          "output_type": "stream",
          "name": "stdout",
          "text": [
            "MAE FOR: Lamb Tikka Karahi\n",
            "0.6158139109611511\n",
            "\n",
            "\n",
            "1/1 [==============================] - 0s 21ms/step - loss: 1.0831\n"
          ]
        },
        {
          "output_type": "stream",
          "name": "stderr",
          "text": [
            "\r 29%|██▉       | 82/279 [03:02<06:54,  2.10s/it]"
          ]
        },
        {
          "output_type": "stream",
          "name": "stdout",
          "text": [
            "MAE FOR: Garlic Chicken\n",
            "1.0831005573272705\n",
            "\n",
            "\n",
            "1/1 [==============================] - 0s 20ms/step - loss: 0.6771\n"
          ]
        },
        {
          "output_type": "stream",
          "name": "stderr",
          "text": [
            "\r 30%|██▉       | 83/279 [03:04<06:54,  2.11s/it]"
          ]
        },
        {
          "output_type": "stream",
          "name": "stdout",
          "text": [
            "MAE FOR: Chicken Roshni\n",
            "0.677148163318634\n",
            "\n",
            "\n",
            "1/1 [==============================] - 0s 21ms/step - loss: 3.9229\n"
          ]
        },
        {
          "output_type": "stream",
          "name": "stderr",
          "text": [
            "\r 30%|███       | 84/279 [03:06<06:53,  2.12s/it]"
          ]
        },
        {
          "output_type": "stream",
          "name": "stdout",
          "text": [
            "MAE FOR: Saag Aloo\n",
            "3.922865867614746\n",
            "\n",
            "\n",
            "1/1 [==============================] - 0s 20ms/step - loss: 1.6752\n"
          ]
        },
        {
          "output_type": "stream",
          "name": "stderr",
          "text": [
            "\r 30%|███       | 85/279 [03:09<07:10,  2.22s/it]"
          ]
        },
        {
          "output_type": "stream",
          "name": "stdout",
          "text": [
            "MAE FOR: Tandoori Chicken Masala\n",
            "1.6752116680145264\n",
            "\n",
            "\n",
            "1/1 [==============================] - 0s 19ms/step - loss: 0.9243\n"
          ]
        },
        {
          "output_type": "stream",
          "name": "stderr",
          "text": [
            "\r 31%|███       | 86/279 [03:10<06:16,  1.95s/it]"
          ]
        },
        {
          "output_type": "stream",
          "name": "stdout",
          "text": [
            "MAE FOR: King Prawn Shaslick\n",
            "0.9243041276931763\n",
            "\n",
            "\n",
            "1/1 [==============================] - 0s 21ms/step - loss: 0.7112\n"
          ]
        },
        {
          "output_type": "stream",
          "name": "stderr",
          "text": [
            "\r 31%|███       | 87/279 [03:11<05:52,  1.84s/it]"
          ]
        },
        {
          "output_type": "stream",
          "name": "stdout",
          "text": [
            "MAE FOR: Lemonade 1.5 ltr\n",
            "0.711223304271698\n",
            "\n",
            "\n",
            "1/1 [==============================] - 0s 19ms/step - loss: 2.5286\n"
          ]
        },
        {
          "output_type": "stream",
          "name": "stderr",
          "text": [
            "\r 32%|███▏      | 88/279 [03:13<05:14,  1.64s/it]"
          ]
        },
        {
          "output_type": "stream",
          "name": "stdout",
          "text": [
            "MAE FOR: Pathia - Chicken\n",
            "2.528573513031006\n",
            "\n",
            "\n",
            "1/1 [==============================] - 0s 21ms/step - loss: 2.0308\n"
          ]
        },
        {
          "output_type": "stream",
          "name": "stderr",
          "text": [
            "\r 32%|███▏      | 89/279 [03:15<05:26,  1.72s/it]"
          ]
        },
        {
          "output_type": "stream",
          "name": "stdout",
          "text": [
            "MAE FOR: Dupiaza - Chicken\n",
            "2.0308339595794678\n",
            "\n",
            "\n",
            "1/1 [==============================] - 0s 20ms/step - loss: 0.6885\n"
          ]
        },
        {
          "output_type": "stream",
          "name": "stderr",
          "text": [
            "\r 32%|███▏      | 90/279 [03:16<04:55,  1.56s/it]"
          ]
        },
        {
          "output_type": "stream",
          "name": "stdout",
          "text": [
            "MAE FOR: Prawn Biryani\n",
            "0.6885172724723816\n",
            "\n",
            "\n",
            "1/1 [==============================] - 0s 20ms/step - loss: 1.2236\n"
          ]
        },
        {
          "output_type": "stream",
          "name": "stderr",
          "text": [
            "\r 33%|███▎      | 91/279 [03:17<04:50,  1.54s/it]"
          ]
        },
        {
          "output_type": "stream",
          "name": "stdout",
          "text": [
            "MAE FOR: Dupiaza - Lamb\n",
            "1.223551869392395\n",
            "\n",
            "\n",
            "1/1 [==============================] - 0s 20ms/step - loss: 1.7537\n"
          ]
        },
        {
          "output_type": "stream",
          "name": "stderr",
          "text": [
            "\r 33%|███▎      | 92/279 [03:19<05:26,  1.75s/it]"
          ]
        },
        {
          "output_type": "stream",
          "name": "stdout",
          "text": [
            "MAE FOR: Keema Rice\n",
            "1.7537232637405396\n",
            "\n",
            "\n",
            "1/1 [==============================] - 0s 20ms/step - loss: 1.1267\n"
          ]
        },
        {
          "output_type": "stream",
          "name": "stderr",
          "text": [
            "\r 33%|███▎      | 93/279 [03:21<05:02,  1.63s/it]"
          ]
        },
        {
          "output_type": "stream",
          "name": "stdout",
          "text": [
            "MAE FOR: Korma - Chicken Tikka\n",
            "1.1266775131225586\n",
            "\n",
            "\n",
            "1/1 [==============================] - 0s 20ms/step - loss: 2.6685\n"
          ]
        },
        {
          "output_type": "stream",
          "name": "stderr",
          "text": [
            "\r 34%|███▎      | 94/279 [03:24<06:27,  2.09s/it]"
          ]
        },
        {
          "output_type": "stream",
          "name": "stdout",
          "text": [
            "MAE FOR: Bhuna - Lamb\n",
            "2.6685383319854736\n",
            "\n",
            "\n",
            "1/1 [==============================] - 0s 21ms/step - loss: 2.6539\n"
          ]
        },
        {
          "output_type": "stream",
          "name": "stderr",
          "text": [
            "\r 34%|███▍      | 95/279 [03:28<07:49,  2.55s/it]"
          ]
        },
        {
          "output_type": "stream",
          "name": "stdout",
          "text": [
            "MAE FOR: Bhuna - Chicken\n",
            "2.653916835784912\n",
            "\n",
            "\n",
            "1/1 [==============================] - 0s 20ms/step - loss: 1.8995\n"
          ]
        },
        {
          "output_type": "stream",
          "name": "stderr",
          "text": [
            "\r 34%|███▍      | 96/279 [03:34<11:13,  3.68s/it]"
          ]
        },
        {
          "output_type": "stream",
          "name": "stdout",
          "text": [
            "MAE FOR: Curry - Lamb\n",
            "1.8995281457901\n",
            "\n",
            "\n",
            "1/1 [==============================] - 0s 19ms/step - loss: 3.9935\n"
          ]
        },
        {
          "output_type": "stream",
          "name": "stderr",
          "text": [
            "\r 35%|███▍      | 97/279 [03:35<09:00,  2.97s/it]"
          ]
        },
        {
          "output_type": "stream",
          "name": "stdout",
          "text": [
            "MAE FOR: Vindaloo - Chicken\n",
            "3.9935081005096436\n",
            "\n",
            "\n",
            "1/1 [==============================] - 0s 20ms/step - loss: 1.3548\n"
          ]
        },
        {
          "output_type": "stream",
          "name": "stderr",
          "text": [
            "\r 35%|███▌      | 98/279 [03:36<07:20,  2.44s/it]"
          ]
        },
        {
          "output_type": "stream",
          "name": "stdout",
          "text": [
            "MAE FOR: Egg Paratha\n",
            "1.3548387289047241\n",
            "\n",
            "\n",
            "1/1 [==============================] - 0s 20ms/step - loss: 1.7597\n"
          ]
        },
        {
          "output_type": "stream",
          "name": "stderr",
          "text": [
            "\r 35%|███▌      | 99/279 [03:38<06:35,  2.20s/it]"
          ]
        },
        {
          "output_type": "stream",
          "name": "stdout",
          "text": [
            "MAE FOR: Vegetable Rice\n",
            "1.759657859802246\n",
            "\n",
            "\n",
            "1/1 [==============================] - 0s 21ms/step - loss: 1.5723\n"
          ]
        },
        {
          "output_type": "stream",
          "name": "stderr",
          "text": [
            "\r 36%|███▌      | 100/279 [03:39<05:50,  1.96s/it]"
          ]
        },
        {
          "output_type": "stream",
          "name": "stdout",
          "text": [
            "MAE FOR: Chicken Shaslick\n",
            "1.572277545928955\n",
            "\n",
            "\n",
            "1/1 [==============================] - 0s 19ms/step - loss: 0.8326\n"
          ]
        },
        {
          "output_type": "stream",
          "name": "stderr",
          "text": [
            "\r 36%|███▌      | 101/279 [03:41<05:06,  1.72s/it]"
          ]
        },
        {
          "output_type": "stream",
          "name": "stdout",
          "text": [
            "MAE FOR: Aloo Brinjal\n",
            "0.8326162695884705\n",
            "\n",
            "\n",
            "1/1 [==============================] - 0s 21ms/step - loss: 3.0397\n"
          ]
        },
        {
          "output_type": "stream",
          "name": "stderr",
          "text": [
            "\r 37%|███▋      | 102/279 [03:43<05:22,  1.82s/it]"
          ]
        },
        {
          "output_type": "stream",
          "name": "stdout",
          "text": [
            "MAE FOR: Meat Samosa\n",
            "3.0397446155548096\n",
            "\n",
            "\n",
            "1/1 [==============================] - 0s 21ms/step - loss: 2.2436\n"
          ]
        },
        {
          "output_type": "stream",
          "name": "stderr",
          "text": [
            "\r 37%|███▋      | 103/279 [03:45<05:27,  1.86s/it]"
          ]
        },
        {
          "output_type": "stream",
          "name": "stdout",
          "text": [
            "MAE FOR: Korma Sauce\n",
            "2.2435760498046875\n",
            "\n",
            "\n",
            "1/1 [==============================] - 0s 20ms/step - loss: 1.3009\n"
          ]
        },
        {
          "output_type": "stream",
          "name": "stderr",
          "text": [
            "\r 37%|███▋      | 104/279 [03:48<06:27,  2.22s/it]"
          ]
        },
        {
          "output_type": "stream",
          "name": "stdout",
          "text": [
            "MAE FOR: Chicken Chaat (Main)\n",
            "1.300939679145813\n",
            "\n",
            "\n",
            "1/1 [==============================] - 0s 21ms/step - loss: 0.4195\n"
          ]
        },
        {
          "output_type": "stream",
          "name": "stderr",
          "text": [
            "\r 38%|███▊      | 105/279 [03:56<11:25,  3.94s/it]"
          ]
        },
        {
          "output_type": "stream",
          "name": "stdout",
          "text": [
            "MAE FOR: Pathia - Chicken Tikka\n",
            "0.4194892644882202\n",
            "\n",
            "\n",
            "1/1 [==============================] - 0s 19ms/step - loss: 2.0328\n"
          ]
        },
        {
          "output_type": "stream",
          "name": "stderr",
          "text": [
            "\r 38%|███▊      | 106/279 [03:57<09:06,  3.16s/it]"
          ]
        },
        {
          "output_type": "stream",
          "name": "stdout",
          "text": [
            "MAE FOR: Puree\n",
            "2.0327839851379395\n",
            "\n",
            "\n",
            "1/1 [==============================] - 0s 19ms/step - loss: 0.5713\n"
          ]
        },
        {
          "output_type": "stream",
          "name": "stderr",
          "text": [
            "\r 38%|███▊      | 107/279 [04:00<09:17,  3.24s/it]"
          ]
        },
        {
          "output_type": "stream",
          "name": "stdout",
          "text": [
            "MAE FOR: Persian Chicken Biryani\n",
            "0.5712547302246094\n",
            "\n",
            "\n",
            "1/1 [==============================] - 0s 19ms/step - loss: 1.0160\n"
          ]
        },
        {
          "output_type": "stream",
          "name": "stderr",
          "text": [
            "\r 39%|███▊      | 108/279 [04:02<07:25,  2.60s/it]"
          ]
        },
        {
          "output_type": "stream",
          "name": "stdout",
          "text": [
            "MAE FOR: Paneer Sizzler\n",
            "1.0159722566604614\n",
            "\n",
            "\n",
            "1/1 [==============================] - 0s 19ms/step - loss: 1.0828\n"
          ]
        },
        {
          "output_type": "stream",
          "name": "stderr",
          "text": [
            "\r 39%|███▉      | 109/279 [04:03<06:30,  2.30s/it]"
          ]
        },
        {
          "output_type": "stream",
          "name": "stdout",
          "text": [
            "MAE FOR: Chicken Royal\n",
            "1.0827900171279907\n",
            "\n",
            "\n",
            "1/1 [==============================] - 0s 18ms/step - loss: 1.0440\n"
          ]
        },
        {
          "output_type": "stream",
          "name": "stderr",
          "text": [
            "\r 39%|███▉      | 110/279 [04:05<05:52,  2.09s/it]"
          ]
        },
        {
          "output_type": "stream",
          "name": "stdout",
          "text": [
            "MAE FOR: Garlic Rice\n",
            "1.0439975261688232\n",
            "\n",
            "\n",
            "1/1 [==============================] - 0s 19ms/step - loss: 0.6840\n"
          ]
        },
        {
          "output_type": "stream",
          "name": "stderr",
          "text": [
            "\r 40%|███▉      | 111/279 [04:07<06:06,  2.18s/it]"
          ]
        },
        {
          "output_type": "stream",
          "name": "stdout",
          "text": [
            "MAE FOR: Vegetable Jalfrezi\n",
            "0.6840331554412842\n",
            "\n",
            "\n",
            "1/1 [==============================] - 0s 21ms/step - loss: 1.9625\n"
          ]
        },
        {
          "output_type": "stream",
          "name": "stderr",
          "text": [
            "\r 40%|████      | 112/279 [04:10<06:14,  2.24s/it]"
          ]
        },
        {
          "output_type": "stream",
          "name": "stdout",
          "text": [
            "MAE FOR: Aloo Dupiaza\n",
            "1.9624730348587036\n",
            "\n",
            "\n",
            "1/1 [==============================] - 0s 20ms/step - loss: 0.4293\n"
          ]
        },
        {
          "output_type": "stream",
          "name": "stderr",
          "text": [
            "\r 41%|████      | 113/279 [04:14<07:53,  2.85s/it]"
          ]
        },
        {
          "output_type": "stream",
          "name": "stdout",
          "text": [
            "MAE FOR: Vegetable Dansak\n",
            "0.4293346703052521\n",
            "\n",
            "\n",
            "1/1 [==============================] - 0s 20ms/step - loss: 0.9139\n"
          ]
        },
        {
          "output_type": "stream",
          "name": "stderr",
          "text": [
            "\r 41%|████      | 114/279 [04:16<07:38,  2.78s/it]"
          ]
        },
        {
          "output_type": "stream",
          "name": "stdout",
          "text": [
            "MAE FOR: Chicken Tikka Sizzler\n",
            "0.9139381647109985\n",
            "\n",
            "\n",
            "1/1 [==============================] - 0s 21ms/step - loss: 3.1468\n"
          ]
        },
        {
          "output_type": "stream",
          "name": "stderr",
          "text": [
            "\r 41%|████      | 115/279 [04:21<09:09,  3.35s/it]"
          ]
        },
        {
          "output_type": "stream",
          "name": "stdout",
          "text": [
            "MAE FOR: Vegetable Samosa\n",
            "3.1468405723571777\n",
            "\n",
            "\n",
            "1/1 [==============================] - 0s 20ms/step - loss: 1.5220\n"
          ]
        },
        {
          "output_type": "stream",
          "name": "stderr",
          "text": [
            "\r 42%|████▏     | 116/279 [04:24<08:25,  3.10s/it]"
          ]
        },
        {
          "output_type": "stream",
          "name": "stdout",
          "text": [
            "MAE FOR: Vegetable Biryani\n",
            "1.5219982862472534\n",
            "\n",
            "\n",
            "1/1 [==============================] - 0s 20ms/step - loss: 1.5099\n"
          ]
        },
        {
          "output_type": "stream",
          "name": "stderr",
          "text": [
            "\r 42%|████▏     | 117/279 [04:25<06:58,  2.58s/it]"
          ]
        },
        {
          "output_type": "stream",
          "name": "stdout",
          "text": [
            "MAE FOR: Royal Paneer\n",
            "1.509882926940918\n",
            "\n",
            "\n",
            "1/1 [==============================] - 0s 21ms/step - loss: 0.6484\n"
          ]
        },
        {
          "output_type": "stream",
          "name": "stderr",
          "text": [
            "\r 42%|████▏     | 118/279 [04:27<06:16,  2.34s/it]"
          ]
        },
        {
          "output_type": "stream",
          "name": "stdout",
          "text": [
            "MAE FOR: Achar Chicken\n",
            "0.6484258770942688\n",
            "\n",
            "\n",
            "1/1 [==============================] - 0s 19ms/step - loss: 0.6397\n"
          ]
        },
        {
          "output_type": "stream",
          "name": "stderr",
          "text": [
            "\r 43%|████▎     | 119/279 [04:28<05:20,  2.00s/it]"
          ]
        },
        {
          "output_type": "stream",
          "name": "stdout",
          "text": [
            "MAE FOR: Saag - Chicken\n",
            "0.6396822333335876\n",
            "\n",
            "\n",
            "1/1 [==============================] - 0s 20ms/step - loss: 1.7765\n"
          ]
        },
        {
          "output_type": "stream",
          "name": "stderr",
          "text": [
            "\r 43%|████▎     | 120/279 [04:30<05:00,  1.89s/it]"
          ]
        },
        {
          "output_type": "stream",
          "name": "stdout",
          "text": [
            "MAE FOR: Chicken Balti\n",
            "1.7764559984207153\n",
            "\n",
            "\n",
            "1/1 [==============================] - 0s 20ms/step - loss: 1.4606\n"
          ]
        },
        {
          "output_type": "stream",
          "name": "stderr",
          "text": [
            "\r 43%|████▎     | 121/279 [04:31<04:30,  1.71s/it]"
          ]
        },
        {
          "output_type": "stream",
          "name": "stdout",
          "text": [
            "MAE FOR: King Prawn Puree\n",
            "1.4606202840805054\n",
            "\n",
            "\n",
            "1/1 [==============================] - 0s 20ms/step - loss: 0.2686\n"
          ]
        },
        {
          "output_type": "stream",
          "name": "stderr",
          "text": [
            "\r 44%|████▎     | 122/279 [04:34<05:36,  2.14s/it]"
          ]
        },
        {
          "output_type": "stream",
          "name": "stdout",
          "text": [
            "MAE FOR: Lamb Shashlick Curry\n",
            "0.26863837242126465\n",
            "\n",
            "\n",
            "1/1 [==============================] - 0s 19ms/step - loss: 1.8153\n"
          ]
        },
        {
          "output_type": "stream",
          "name": "stderr",
          "text": [
            "\r 44%|████▍     | 123/279 [04:37<06:04,  2.33s/it]"
          ]
        },
        {
          "output_type": "stream",
          "name": "stdout",
          "text": [
            "MAE FOR: Masala Sauce\n",
            "1.815337896347046\n",
            "\n",
            "\n",
            "1/1 [==============================] - 0s 20ms/step - loss: 1.1690\n"
          ]
        },
        {
          "output_type": "stream",
          "name": "stderr",
          "text": [
            "\r 44%|████▍     | 124/279 [04:39<06:16,  2.43s/it]"
          ]
        },
        {
          "output_type": "stream",
          "name": "stdout",
          "text": [
            "MAE FOR: Tandoori Chicken\n",
            "1.1689797639846802\n",
            "\n",
            "\n",
            "1/1 [==============================] - 0s 20ms/step - loss: 0.9390\n"
          ]
        },
        {
          "output_type": "stream",
          "name": "stderr",
          "text": [
            "\r 45%|████▍     | 125/279 [04:41<05:40,  2.21s/it]"
          ]
        },
        {
          "output_type": "stream",
          "name": "stdout",
          "text": [
            "MAE FOR: King Prawn Biryani\n",
            "0.9390189051628113\n",
            "\n",
            "\n",
            "1/1 [==============================] - 0s 20ms/step - loss: 1.1337\n"
          ]
        },
        {
          "output_type": "stream",
          "name": "stderr",
          "text": [
            "\r 45%|████▌     | 126/279 [04:42<04:52,  1.91s/it]"
          ]
        },
        {
          "output_type": "stream",
          "name": "stdout",
          "text": [
            "MAE FOR: Bottle Diet Coke\n",
            "1.1337354183197021\n",
            "\n",
            "\n",
            "1/1 [==============================] - 0s 20ms/step - loss: 1.3092\n"
          ]
        },
        {
          "output_type": "stream",
          "name": "stderr",
          "text": [
            "\r 46%|████▌     | 127/279 [04:44<04:41,  1.85s/it]"
          ]
        },
        {
          "output_type": "stream",
          "name": "stdout",
          "text": [
            "MAE FOR: Lime Pickle\n",
            "1.309186339378357\n",
            "\n",
            "\n",
            "1/1 [==============================] - 0s 20ms/step - loss: 0.8007\n"
          ]
        },
        {
          "output_type": "stream",
          "name": "stderr",
          "text": [
            "\r 46%|████▌     | 128/279 [04:45<04:09,  1.65s/it]"
          ]
        },
        {
          "output_type": "stream",
          "name": "stdout",
          "text": [
            "MAE FOR: Chana Chaat\n",
            "0.8006997108459473\n",
            "\n",
            "\n",
            "1/1 [==============================] - 0s 21ms/step - loss: 2.3751\n"
          ]
        },
        {
          "output_type": "stream",
          "name": "stderr",
          "text": [
            "\r 46%|████▌     | 129/279 [04:47<04:23,  1.76s/it]"
          ]
        },
        {
          "output_type": "stream",
          "name": "stdout",
          "text": [
            "MAE FOR: Dhansak - Chicken\n",
            "2.3750555515289307\n",
            "\n",
            "\n",
            "1/1 [==============================] - 0s 20ms/step - loss: 0.6710\n"
          ]
        },
        {
          "output_type": "stream",
          "name": "stderr",
          "text": [
            "\r 47%|████▋     | 130/279 [04:49<04:05,  1.65s/it]"
          ]
        },
        {
          "output_type": "stream",
          "name": "stdout",
          "text": [
            "MAE FOR: Chicken Rezala\n",
            "0.6710039973258972\n",
            "\n",
            "\n",
            "1/1 [==============================] - 0s 21ms/step - loss: 1.5493\n"
          ]
        },
        {
          "output_type": "stream",
          "name": "stderr",
          "text": [
            "\r 47%|████▋     | 131/279 [04:50<03:59,  1.62s/it]"
          ]
        },
        {
          "output_type": "stream",
          "name": "stdout",
          "text": [
            "MAE FOR: Saag Dall\n",
            "1.5493078231811523\n",
            "\n",
            "\n",
            "1/1 [==============================] - 0s 20ms/step - loss: 0.0659\n"
          ]
        },
        {
          "output_type": "stream",
          "name": "stderr",
          "text": [
            "\r 47%|████▋     | 132/279 [04:52<04:17,  1.75s/it]"
          ]
        },
        {
          "output_type": "stream",
          "name": "stdout",
          "text": [
            "MAE FOR: Methi - Chicken Tikka\n",
            "0.0658678188920021\n",
            "\n",
            "\n",
            "1/1 [==============================] - 0s 19ms/step - loss: 0.5475\n"
          ]
        },
        {
          "output_type": "stream",
          "name": "stderr",
          "text": [
            "\r 48%|████▊     | 133/279 [04:54<04:20,  1.78s/it]"
          ]
        },
        {
          "output_type": "stream",
          "name": "stdout",
          "text": [
            "MAE FOR: Dahi\n",
            "0.5475124716758728\n",
            "\n",
            "\n",
            "1/1 [==============================] - 0s 21ms/step - loss: 1.1371\n"
          ]
        },
        {
          "output_type": "stream",
          "name": "stderr",
          "text": [
            "\r 48%|████▊     | 134/279 [04:55<03:58,  1.64s/it]"
          ]
        },
        {
          "output_type": "stream",
          "name": "stdout",
          "text": [
            "MAE FOR: Green Salad\n",
            "1.1371020078659058\n",
            "\n",
            "\n",
            "1/1 [==============================] - 0s 20ms/step - loss: 0.1217\n"
          ]
        },
        {
          "output_type": "stream",
          "name": "stderr",
          "text": [
            "\r 48%|████▊     | 135/279 [04:57<04:03,  1.69s/it]"
          ]
        },
        {
          "output_type": "stream",
          "name": "stdout",
          "text": [
            "MAE FOR: Diet Coke 1.5 ltr\n",
            "0.1217309907078743\n",
            "\n",
            "\n",
            "1/1 [==============================] - 0s 19ms/step - loss: 1.1880\n"
          ]
        },
        {
          "output_type": "stream",
          "name": "stderr",
          "text": [
            "\r 49%|████▊     | 136/279 [04:58<03:39,  1.54s/it]"
          ]
        },
        {
          "output_type": "stream",
          "name": "stdout",
          "text": [
            "MAE FOR: Coke 1.5 ltr\n",
            "1.1879688501358032\n",
            "\n",
            "\n",
            "1/1 [==============================] - 0s 19ms/step - loss: 1.5959\n"
          ]
        },
        {
          "output_type": "stream",
          "name": "stderr",
          "text": [
            "\r 49%|████▉     | 137/279 [05:00<03:38,  1.54s/it]"
          ]
        },
        {
          "output_type": "stream",
          "name": "stdout",
          "text": [
            "MAE FOR: Egg Rice\n",
            "1.595915675163269\n",
            "\n",
            "\n",
            "1/1 [==============================] - 0s 20ms/step - loss: 1.0697\n"
          ]
        },
        {
          "output_type": "stream",
          "name": "stderr",
          "text": [
            "\r 49%|████▉     | 138/279 [05:01<03:25,  1.46s/it]"
          ]
        },
        {
          "output_type": "stream",
          "name": "stdout",
          "text": [
            "MAE FOR: Lemon Rice\n",
            "1.0697036981582642\n",
            "\n",
            "\n",
            "1/1 [==============================] - 0s 20ms/step - loss: 1.2124\n"
          ]
        },
        {
          "output_type": "stream",
          "name": "stderr",
          "text": [
            "\r 50%|████▉     | 139/279 [05:03<03:17,  1.41s/it]"
          ]
        },
        {
          "output_type": "stream",
          "name": "stdout",
          "text": [
            "MAE FOR: Saag Rice\n",
            "1.2124007940292358\n",
            "\n",
            "\n",
            "1/1 [==============================] - 0s 20ms/step - loss: 0.6673\n"
          ]
        },
        {
          "output_type": "stream",
          "name": "stderr",
          "text": [
            "\r 50%|█████     | 140/279 [05:04<03:28,  1.50s/it]"
          ]
        },
        {
          "output_type": "stream",
          "name": "stdout",
          "text": [
            "MAE FOR: COBRA (330ML)\n",
            "0.6672934293746948\n",
            "\n",
            "\n",
            "1/1 [==============================] - 0s 21ms/step - loss: 1.2296\n"
          ]
        },
        {
          "output_type": "stream",
          "name": "stderr",
          "text": [
            "\r 51%|█████     | 141/279 [05:06<03:22,  1.46s/it]"
          ]
        },
        {
          "output_type": "stream",
          "name": "stdout",
          "text": [
            "MAE FOR: Curry Sauce\n",
            "1.229586124420166\n",
            "\n",
            "\n",
            "1/1 [==============================] - 0s 21ms/step - loss: 0.1320\n"
          ]
        },
        {
          "output_type": "stream",
          "name": "stderr",
          "text": [
            "\r 51%|█████     | 142/279 [05:09<04:58,  2.18s/it]"
          ]
        },
        {
          "output_type": "stream",
          "name": "stdout",
          "text": [
            "MAE FOR: Perrier Water 75cl\n",
            "0.1319543421268463\n",
            "\n",
            "\n",
            "1/1 [==============================] - 0s 23ms/step - loss: 0.1332\n"
          ]
        },
        {
          "output_type": "stream",
          "name": "stderr",
          "text": [
            "\r 51%|█████▏    | 143/279 [05:13<06:02,  2.66s/it]"
          ]
        },
        {
          "output_type": "stream",
          "name": "stdout",
          "text": [
            "MAE FOR: Bottle Water 75cl\n",
            "0.13316258788108826\n",
            "\n",
            "\n",
            "1/1 [==============================] - 0s 19ms/step - loss: 1.0856\n"
          ]
        },
        {
          "output_type": "stream",
          "name": "stderr",
          "text": [
            "\r 52%|█████▏    | 144/279 [05:15<05:05,  2.26s/it]"
          ]
        },
        {
          "output_type": "stream",
          "name": "stdout",
          "text": [
            "MAE FOR: Aloo Chaat\n",
            "1.0855772495269775\n",
            "\n",
            "\n",
            "1/1 [==============================] - 0s 20ms/step - loss: 0.9226\n"
          ]
        },
        {
          "output_type": "stream",
          "name": "stderr",
          "text": [
            "\r 52%|█████▏    | 145/279 [05:16<04:42,  2.11s/it]"
          ]
        },
        {
          "output_type": "stream",
          "name": "stdout",
          "text": [
            "MAE FOR: Paneer Pakora\n",
            "0.922610878944397\n",
            "\n",
            "\n",
            "1/1 [==============================] - 0s 20ms/step - loss: 1.1388\n"
          ]
        },
        {
          "output_type": "stream",
          "name": "stderr",
          "text": [
            "\r 52%|█████▏    | 146/279 [05:21<06:06,  2.76s/it]"
          ]
        },
        {
          "output_type": "stream",
          "name": "stdout",
          "text": [
            "MAE FOR: Garlic Chicken Rice\n",
            "1.1387710571289062\n",
            "\n",
            "\n",
            "1/1 [==============================] - 0s 20ms/step - loss: 0.9472\n"
          ]
        },
        {
          "output_type": "stream",
          "name": "stderr",
          "text": [
            "\r 53%|█████▎    | 147/279 [05:22<05:27,  2.48s/it]"
          ]
        },
        {
          "output_type": "stream",
          "name": "stdout",
          "text": [
            "MAE FOR: Lamb Tikka\n",
            "0.9471758008003235\n",
            "\n",
            "\n",
            "1/1 [==============================] - 0s 20ms/step - loss: 3.9941\n"
          ]
        },
        {
          "output_type": "stream",
          "name": "stderr",
          "text": [
            "\r 53%|█████▎    | 148/279 [05:24<04:34,  2.09s/it]"
          ]
        },
        {
          "output_type": "stream",
          "name": "stdout",
          "text": [
            "MAE FOR: Sheek Kehab\n",
            "3.9941272735595703\n",
            "\n",
            "\n",
            "1/1 [==============================] - 0s 19ms/step - loss: 0.0024\n"
          ]
        },
        {
          "output_type": "stream",
          "name": "stderr",
          "text": [
            "\r 53%|█████▎    | 149/279 [05:27<05:37,  2.60s/it]"
          ]
        },
        {
          "output_type": "stream",
          "name": "stdout",
          "text": [
            "MAE FOR: Paner Pakora\n",
            "0.0024295137263834476\n",
            "\n",
            "\n",
            "1/1 [==============================] - 0s 21ms/step - loss: 0.0014\n"
          ]
        },
        {
          "output_type": "stream",
          "name": "stderr",
          "text": [
            "\r 54%|█████▍    | 150/279 [05:32<07:06,  3.31s/it]"
          ]
        },
        {
          "output_type": "stream",
          "name": "stdout",
          "text": [
            "MAE FOR: Kurma Sauce\n",
            "0.0013838058803230524\n",
            "\n",
            "\n",
            "1/1 [==============================] - 0s 20ms/step - loss: 2.8043\n"
          ]
        },
        {
          "output_type": "stream",
          "name": "stderr",
          "text": [
            "\r 54%|█████▍    | 151/279 [05:34<05:42,  2.67s/it]"
          ]
        },
        {
          "output_type": "stream",
          "name": "stdout",
          "text": [
            "MAE FOR: COBRA (660ML)\n",
            "2.804264545440674\n",
            "\n",
            "\n",
            "1/1 [==============================] - 0s 19ms/step - loss: 0.3604\n"
          ]
        },
        {
          "output_type": "stream",
          "name": "stderr",
          "text": [
            "\r 54%|█████▍    | 152/279 [05:35<04:52,  2.31s/it]"
          ]
        },
        {
          "output_type": "stream",
          "name": "stdout",
          "text": [
            "MAE FOR: Aloo Mithy\n",
            "0.36037495732307434\n",
            "\n",
            "\n",
            "1/1 [==============================] - 0s 20ms/step - loss: 0.8467\n"
          ]
        },
        {
          "output_type": "stream",
          "name": "stderr",
          "text": [
            "\r 55%|█████▍    | 153/279 [05:36<04:11,  2.00s/it]"
          ]
        },
        {
          "output_type": "stream",
          "name": "stdout",
          "text": [
            "MAE FOR: Brinjal Bhajee\n",
            "0.8466960191726685\n",
            "\n",
            "\n",
            "1/1 [==============================] - 0s 20ms/step - loss: 1.4032\n"
          ]
        },
        {
          "output_type": "stream",
          "name": "stderr",
          "text": [
            "\r 55%|█████▌    | 154/279 [05:38<03:49,  1.83s/it]"
          ]
        },
        {
          "output_type": "stream",
          "name": "stdout",
          "text": [
            "MAE FOR: Muttar Paneer\n",
            "1.4032182693481445\n",
            "\n",
            "\n",
            "1/1 [==============================] - 0s 21ms/step - loss: 0.5128\n"
          ]
        },
        {
          "output_type": "stream",
          "name": "stderr",
          "text": [
            "\r 56%|█████▌    | 155/279 [05:40<04:05,  1.98s/it]"
          ]
        },
        {
          "output_type": "stream",
          "name": "stdout",
          "text": [
            "MAE FOR: Aloo Peas\n",
            "0.512837827205658\n",
            "\n",
            "\n",
            "1/1 [==============================] - 0s 20ms/step - loss: 0.2909\n"
          ]
        },
        {
          "output_type": "stream",
          "name": "stderr",
          "text": [
            "\r 56%|█████▌    | 156/279 [05:43<04:26,  2.17s/it]"
          ]
        },
        {
          "output_type": "stream",
          "name": "stdout",
          "text": [
            "MAE FOR: Vegetable Samba\n",
            "0.290863960981369\n",
            "\n",
            "\n",
            "1/1 [==============================] - 0s 20ms/step - loss: 0.6397\n"
          ]
        },
        {
          "output_type": "stream",
          "name": "stderr",
          "text": [
            "\r 56%|█████▋    | 157/279 [05:45<04:12,  2.07s/it]"
          ]
        },
        {
          "output_type": "stream",
          "name": "stdout",
          "text": [
            "MAE FOR: Garlic Mushroom\n",
            "0.6397151350975037\n",
            "\n",
            "\n",
            "1/1 [==============================] - 0s 21ms/step - loss: 0.5928\n"
          ]
        },
        {
          "output_type": "stream",
          "name": "stderr",
          "text": [
            "\r 57%|█████▋    | 158/279 [05:46<03:45,  1.87s/it]"
          ]
        },
        {
          "output_type": "stream",
          "name": "stdout",
          "text": [
            "MAE FOR: Bangon Hari Mirch\n",
            "0.5928457975387573\n",
            "\n",
            "\n",
            "1/1 [==============================] - 0s 20ms/step - loss: 0.6884\n"
          ]
        },
        {
          "output_type": "stream",
          "name": "stderr",
          "text": [
            "\r 57%|█████▋    | 159/279 [05:48<03:38,  1.82s/it]"
          ]
        },
        {
          "output_type": "stream",
          "name": "stdout",
          "text": [
            "MAE FOR: King Prawn Butterfly\n",
            "0.6884111762046814\n",
            "\n",
            "\n",
            "1/1 [==============================] - 0s 20ms/step - loss: 0.0505\n"
          ]
        },
        {
          "output_type": "stream",
          "name": "stderr",
          "text": [
            "\r 57%|█████▋    | 160/279 [05:50<03:45,  1.89s/it]"
          ]
        },
        {
          "output_type": "stream",
          "name": "stdout",
          "text": [
            "MAE FOR: Mixed Starter\n",
            "0.05050751194357872\n",
            "\n",
            "\n",
            "1/1 [==============================] - 0s 20ms/step - loss: 0.4199\n"
          ]
        },
        {
          "output_type": "stream",
          "name": "stderr",
          "text": [
            "\r 58%|█████▊    | 161/279 [05:55<05:34,  2.83s/it]"
          ]
        },
        {
          "output_type": "stream",
          "name": "stdout",
          "text": [
            "MAE FOR: Vegetable Bhuna\n",
            "0.4198795258998871\n",
            "\n",
            "\n",
            "1/1 [==============================] - 0s 20ms/step - loss: 0.7036\n"
          ]
        },
        {
          "output_type": "stream",
          "name": "stderr",
          "text": [
            "\r 58%|█████▊    | 162/279 [05:56<04:33,  2.34s/it]"
          ]
        },
        {
          "output_type": "stream",
          "name": "stdout",
          "text": [
            "MAE FOR: Vegetable Korma\n",
            "0.7035630941390991\n",
            "\n",
            "\n",
            "1/1 [==============================] - 0s 21ms/step - loss: 0.4663\n"
          ]
        },
        {
          "output_type": "stream",
          "name": "stderr",
          "text": [
            "\r 58%|█████▊    | 163/279 [05:58<04:29,  2.32s/it]"
          ]
        },
        {
          "output_type": "stream",
          "name": "stdout",
          "text": [
            "MAE FOR: Vegetable Masala\n",
            "0.46630918979644775\n",
            "\n",
            "\n",
            "1/1 [==============================] - 0s 21ms/step - loss: 1.3497\n"
          ]
        },
        {
          "output_type": "stream",
          "name": "stderr",
          "text": [
            "\r 59%|█████▉    | 164/279 [05:59<03:50,  2.00s/it]"
          ]
        },
        {
          "output_type": "stream",
          "name": "stdout",
          "text": [
            "MAE FOR: Vindaloo - Lamb\n",
            "1.3496911525726318\n",
            "\n",
            "\n",
            "1/1 [==============================] - 0s 20ms/step - loss: 3.3793\n"
          ]
        },
        {
          "output_type": "stream",
          "name": "stderr",
          "text": [
            "\r 59%|█████▉    | 165/279 [06:01<03:22,  1.78s/it]"
          ]
        },
        {
          "output_type": "stream",
          "name": "stdout",
          "text": [
            "MAE FOR: Madras - Lamb\n",
            "3.379348039627075\n",
            "\n",
            "\n",
            "1/1 [==============================] - 0s 20ms/step - loss: 9.1748\n"
          ]
        },
        {
          "output_type": "stream",
          "name": "stderr",
          "text": [
            "\r 59%|█████▉    | 166/279 [06:02<03:00,  1.60s/it]"
          ]
        },
        {
          "output_type": "stream",
          "name": "stdout",
          "text": [
            "MAE FOR: Madras\n",
            "9.174775123596191\n",
            "\n",
            "\n",
            "1/1 [==============================] - 0s 20ms/step - loss: 7.2623\n"
          ]
        },
        {
          "output_type": "stream",
          "name": "stderr",
          "text": [
            "\r 60%|█████▉    | 167/279 [06:03<02:45,  1.48s/it]"
          ]
        },
        {
          "output_type": "stream",
          "name": "stdout",
          "text": [
            "MAE FOR: Curry\n",
            "7.262341022491455\n",
            "\n",
            "\n",
            "1/1 [==============================] - 0s 20ms/step - loss: 1.8606\n"
          ]
        },
        {
          "output_type": "stream",
          "name": "stderr",
          "text": [
            "\r 60%|██████    | 168/279 [06:05<02:48,  1.51s/it]"
          ]
        },
        {
          "output_type": "stream",
          "name": "stdout",
          "text": [
            "MAE FOR: Vindaloo\n",
            "1.8605672121047974\n",
            "\n",
            "\n",
            "1/1 [==============================] - 0s 19ms/step - loss: 2.2737\n"
          ]
        },
        {
          "output_type": "stream",
          "name": "stderr",
          "text": [
            "\r 61%|██████    | 169/279 [06:06<02:35,  1.42s/it]"
          ]
        },
        {
          "output_type": "stream",
          "name": "stdout",
          "text": [
            "MAE FOR: Bhuna - Chicken Tikka\n",
            "2.273683547973633\n",
            "\n",
            "\n",
            "1/1 [==============================] - 0s 20ms/step - loss: 2.3868\n"
          ]
        },
        {
          "output_type": "stream",
          "name": "stderr",
          "text": [
            "\r 61%|██████    | 170/279 [06:07<02:31,  1.39s/it]"
          ]
        },
        {
          "output_type": "stream",
          "name": "stdout",
          "text": [
            "MAE FOR: Rogon - Lamb\n",
            "2.3868069648742676\n",
            "\n",
            "\n",
            "1/1 [==============================] - 0s 21ms/step - loss: 1.0785\n"
          ]
        },
        {
          "output_type": "stream",
          "name": "stderr",
          "text": [
            "\r 61%|██████▏   | 171/279 [06:09<02:49,  1.57s/it]"
          ]
        },
        {
          "output_type": "stream",
          "name": "stdout",
          "text": [
            "MAE FOR: Dhansak - Lamb\n",
            "1.0784947872161865\n",
            "\n",
            "\n",
            "1/1 [==============================] - 0s 20ms/step - loss: 0.6812\n"
          ]
        },
        {
          "output_type": "stream",
          "name": "stderr",
          "text": [
            "\r 62%|██████▏   | 172/279 [06:12<03:33,  2.00s/it]"
          ]
        },
        {
          "output_type": "stream",
          "name": "stdout",
          "text": [
            "MAE FOR: Garlic Lamb\n",
            "0.6811826229095459\n",
            "\n",
            "\n",
            "1/1 [==============================] - 0s 20ms/step - loss: 0.9109\n"
          ]
        },
        {
          "output_type": "stream",
          "name": "stderr",
          "text": [
            "\r 62%|██████▏   | 173/279 [06:13<03:05,  1.75s/it]"
          ]
        },
        {
          "output_type": "stream",
          "name": "stdout",
          "text": [
            "MAE FOR: Chicken Hari Mirch\n",
            "0.9109012484550476\n",
            "\n",
            "\n",
            "1/1 [==============================] - 0s 20ms/step - loss: 0.9367\n"
          ]
        },
        {
          "output_type": "stream",
          "name": "stderr",
          "text": [
            "\r 62%|██████▏   | 174/279 [06:15<02:52,  1.64s/it]"
          ]
        },
        {
          "output_type": "stream",
          "name": "stdout",
          "text": [
            "MAE FOR: Chicken Karahi\n",
            "0.9366675615310669\n",
            "\n",
            "\n",
            "1/1 [==============================] - 0s 19ms/step - loss: 1.1863\n"
          ]
        },
        {
          "output_type": "stream",
          "name": "stderr",
          "text": [
            "\r 63%|██████▎   | 175/279 [06:16<02:36,  1.51s/it]"
          ]
        },
        {
          "output_type": "stream",
          "name": "stdout",
          "text": [
            "MAE FOR: Chicken Chilli Masala\n",
            "1.1862924098968506\n",
            "\n",
            "\n",
            "1/1 [==============================] - 0s 20ms/step - loss: 1.6335\n"
          ]
        },
        {
          "output_type": "stream",
          "name": "stderr",
          "text": [
            "\r 63%|██████▎   | 176/279 [06:17<02:34,  1.50s/it]"
          ]
        },
        {
          "output_type": "stream",
          "name": "stdout",
          "text": [
            "MAE FOR: Grapes Special\n",
            "1.6334571838378906\n",
            "\n",
            "\n",
            "1/1 [==============================] - 0s 21ms/step - loss: 0.1686\n"
          ]
        },
        {
          "output_type": "stream",
          "name": "stderr",
          "text": [
            "\r 63%|██████▎   | 177/279 [06:20<03:14,  1.91s/it]"
          ]
        },
        {
          "output_type": "stream",
          "name": "stdout",
          "text": [
            "MAE FOR: Madras - Prawn\n",
            "0.16864784061908722\n",
            "\n",
            "\n",
            "1/1 [==============================] - 0s 20ms/step - loss: 1.3584\n"
          ]
        },
        {
          "output_type": "stream",
          "name": "stderr",
          "text": [
            "\r 64%|██████▍   | 178/279 [06:22<02:57,  1.76s/it]"
          ]
        },
        {
          "output_type": "stream",
          "name": "stdout",
          "text": [
            "MAE FOR: Korma - Lamb\n",
            "1.358408808708191\n",
            "\n",
            "\n",
            "1/1 [==============================] - 0s 19ms/step - loss: 1.2633\n"
          ]
        },
        {
          "output_type": "stream",
          "name": "stderr",
          "text": [
            "\r 64%|██████▍   | 179/279 [06:23<02:39,  1.59s/it]"
          ]
        },
        {
          "output_type": "stream",
          "name": "stdout",
          "text": [
            "MAE FOR: Mushroom - Chicken\n",
            "1.2633429765701294\n",
            "\n",
            "\n",
            "1/1 [==============================] - 0s 20ms/step - loss: 0.3494\n"
          ]
        },
        {
          "output_type": "stream",
          "name": "stderr",
          "text": [
            "\r 65%|██████▍   | 180/279 [06:25<02:51,  1.73s/it]"
          ]
        },
        {
          "output_type": "stream",
          "name": "stdout",
          "text": [
            "MAE FOR: Lal Mirch Chicken\n",
            "0.34939518570899963\n",
            "\n",
            "\n",
            "1/1 [==============================] - 0s 21ms/step - loss: 1.1015\n"
          ]
        },
        {
          "output_type": "stream",
          "name": "stderr",
          "text": [
            "\r 65%|██████▍   | 181/279 [06:27<02:58,  1.82s/it]"
          ]
        },
        {
          "output_type": "stream",
          "name": "stdout",
          "text": [
            "MAE FOR: Saag - Lamb\n",
            "1.1014618873596191\n",
            "\n",
            "\n",
            "1/1 [==============================] - 0s 20ms/step - loss: 0.3557\n"
          ]
        },
        {
          "output_type": "stream",
          "name": "stderr",
          "text": [
            "\r 65%|██████▌   | 182/279 [06:31<04:11,  2.59s/it]"
          ]
        },
        {
          "output_type": "stream",
          "name": "stdout",
          "text": [
            "MAE FOR: Malaya - Chicken Tikka\n",
            "0.3556584119796753\n",
            "\n",
            "\n",
            "1/1 [==============================] - 0s 20ms/step - loss: 0.6209\n"
          ]
        },
        {
          "output_type": "stream",
          "name": "stderr",
          "text": [
            "\r 66%|██████▌   | 183/279 [06:35<04:28,  2.80s/it]"
          ]
        },
        {
          "output_type": "stream",
          "name": "stdout",
          "text": [
            "MAE FOR: Garlic Mirch Chicken\n",
            "0.6208932995796204\n",
            "\n",
            "\n",
            "1/1 [==============================] - 0s 20ms/step - loss: 1.3255\n"
          ]
        },
        {
          "output_type": "stream",
          "name": "stderr",
          "text": [
            "\r 66%|██████▌   | 184/279 [06:37<04:26,  2.80s/it]"
          ]
        },
        {
          "output_type": "stream",
          "name": "stdout",
          "text": [
            "MAE FOR: Lamb Karahi\n",
            "1.3255199193954468\n",
            "\n",
            "\n",
            "1/1 [==============================] - 0s 19ms/step - loss: 0.4035\n"
          ]
        },
        {
          "output_type": "stream",
          "name": "stderr",
          "text": [
            "\r 66%|██████▋   | 185/279 [06:39<03:57,  2.52s/it]"
          ]
        },
        {
          "output_type": "stream",
          "name": "stdout",
          "text": [
            "MAE FOR: Jeera Chicken\n",
            "0.4034595191478729\n",
            "\n",
            "\n",
            "1/1 [==============================] - 0s 21ms/step - loss: 0.5203\n"
          ]
        },
        {
          "output_type": "stream",
          "name": "stderr",
          "text": [
            "\r 67%|██████▋   | 186/279 [06:41<03:29,  2.26s/it]"
          ]
        },
        {
          "output_type": "stream",
          "name": "stdout",
          "text": [
            "MAE FOR: Achar Lamb\n",
            "0.5202807784080505\n",
            "\n",
            "\n",
            "1/1 [==============================] - 0s 20ms/step - loss: 0.8869\n"
          ]
        },
        {
          "output_type": "stream",
          "name": "stderr",
          "text": [
            "\r 67%|██████▋   | 187/279 [06:43<03:12,  2.09s/it]"
          ]
        },
        {
          "output_type": "stream",
          "name": "stdout",
          "text": [
            "MAE FOR: Sheek Kebab (Main)\n",
            "0.886891782283783\n",
            "\n",
            "\n",
            "1/1 [==============================] - 0s 20ms/step - loss: 0.5342\n"
          ]
        },
        {
          "output_type": "stream",
          "name": "stderr",
          "text": [
            "\r 67%|██████▋   | 188/279 [06:44<02:48,  1.85s/it]"
          ]
        },
        {
          "output_type": "stream",
          "name": "stdout",
          "text": [
            "MAE FOR: Lamb Tikka (Main)\n",
            "0.5342376232147217\n",
            "\n",
            "\n",
            "1/1 [==============================] - 0s 19ms/step - loss: 0.4551\n"
          ]
        },
        {
          "output_type": "stream",
          "name": "stderr",
          "text": [
            "\r 68%|██████▊   | 189/279 [06:48<03:35,  2.39s/it]"
          ]
        },
        {
          "output_type": "stream",
          "name": "stdout",
          "text": [
            "MAE FOR: Bombay - Chicken\n",
            "0.4551365077495575\n",
            "\n",
            "\n",
            "1/1 [==============================] - 0s 19ms/step - loss: 0.5803\n"
          ]
        },
        {
          "output_type": "stream",
          "name": "stderr",
          "text": [
            "\r 68%|██████▊   | 190/279 [06:50<03:40,  2.48s/it]"
          ]
        },
        {
          "output_type": "stream",
          "name": "stdout",
          "text": [
            "MAE FOR: Garlic Mirch Lamb\n",
            "0.5803089737892151\n",
            "\n",
            "\n",
            "1/1 [==============================] - 0s 19ms/step - loss: 0.1948\n"
          ]
        },
        {
          "output_type": "stream",
          "name": "stderr",
          "text": [
            "\r 68%|██████▊   | 191/279 [06:54<04:17,  2.92s/it]"
          ]
        },
        {
          "output_type": "stream",
          "name": "stdout",
          "text": [
            "MAE FOR: Paneer Kurma\n",
            "0.1948019415140152\n",
            "\n",
            "\n",
            "1/1 [==============================] - 0s 20ms/step - loss: 0.2945\n"
          ]
        },
        {
          "output_type": "stream",
          "name": "stderr",
          "text": [
            "\r 69%|██████▉   | 192/279 [06:58<04:28,  3.09s/it]"
          ]
        },
        {
          "output_type": "stream",
          "name": "stdout",
          "text": [
            "MAE FOR: Pathia - Lamb\n",
            "0.2944655120372772\n",
            "\n",
            "\n",
            "1/1 [==============================] - 0s 20ms/step - loss: 0.2053\n"
          ]
        },
        {
          "output_type": "stream",
          "name": "stderr",
          "text": [
            "\r 69%|██████▉   | 193/279 [06:59<03:43,  2.60s/it]"
          ]
        },
        {
          "output_type": "stream",
          "name": "stdout",
          "text": [
            "MAE FOR: Vegetable Karahi\n",
            "0.20528118312358856\n",
            "\n",
            "\n",
            "1/1 [==============================] - 0s 20ms/step - loss: 0.2904\n"
          ]
        },
        {
          "output_type": "stream",
          "name": "stderr",
          "text": [
            "\r 70%|██████▉   | 194/279 [07:02<03:49,  2.71s/it]"
          ]
        },
        {
          "output_type": "stream",
          "name": "stdout",
          "text": [
            "MAE FOR: Bombay - Lamb\n",
            "0.290422260761261\n",
            "\n",
            "\n",
            "1/1 [==============================] - 0s 20ms/step - loss: 0.7826\n"
          ]
        },
        {
          "output_type": "stream",
          "name": "stderr",
          "text": [
            "\r 70%|██████▉   | 195/279 [07:05<03:41,  2.64s/it]"
          ]
        },
        {
          "output_type": "stream",
          "name": "stdout",
          "text": [
            "MAE FOR: Lamb Tikka Masala\n",
            "0.7825962901115417\n",
            "\n",
            "\n",
            "1/1 [==============================] - 0s 21ms/step - loss: 0.8846\n"
          ]
        },
        {
          "output_type": "stream",
          "name": "stderr",
          "text": [
            "\r 70%|███████   | 196/279 [07:06<03:04,  2.22s/it]"
          ]
        },
        {
          "output_type": "stream",
          "name": "stdout",
          "text": [
            "MAE FOR: Lamb Tikka Jalfrezi\n",
            "0.8846303820610046\n",
            "\n",
            "\n",
            "1/1 [==============================] - 0s 20ms/step - loss: 0.2616\n"
          ]
        },
        {
          "output_type": "stream",
          "name": "stderr",
          "text": [
            "\r 71%|███████   | 197/279 [07:10<03:55,  2.87s/it]"
          ]
        },
        {
          "output_type": "stream",
          "name": "stdout",
          "text": [
            "MAE FOR: Chicken Sylhet\n",
            "0.2615669071674347\n",
            "\n",
            "\n",
            "1/1 [==============================] - 0s 19ms/step - loss: 0.5486\n"
          ]
        },
        {
          "output_type": "stream",
          "name": "stderr",
          "text": [
            "\r 71%|███████   | 198/279 [07:13<03:43,  2.76s/it]"
          ]
        },
        {
          "output_type": "stream",
          "name": "stdout",
          "text": [
            "MAE FOR: Curry - Prawn\n",
            "0.5485759973526001\n",
            "\n",
            "\n",
            "1/1 [==============================] - 0s 20ms/step - loss: 0.3001\n"
          ]
        },
        {
          "output_type": "stream",
          "name": "stderr",
          "text": [
            "\r 71%|███████▏  | 199/279 [07:15<03:16,  2.45s/it]"
          ]
        },
        {
          "output_type": "stream",
          "name": "stdout",
          "text": [
            "MAE FOR: Dupiaza - Chicken Tikka\n",
            "0.3000934422016144\n",
            "\n",
            "\n",
            "1/1 [==============================] - 0s 20ms/step - loss: 1.0570\n"
          ]
        },
        {
          "output_type": "stream",
          "name": "stderr",
          "text": [
            "\r 72%|███████▏  | 200/279 [07:16<02:52,  2.19s/it]"
          ]
        },
        {
          "output_type": "stream",
          "name": "stdout",
          "text": [
            "MAE FOR: Chilli Paneer\n",
            "1.0569658279418945\n",
            "\n",
            "\n",
            "1/1 [==============================] - 0s 20ms/step - loss: 0.1661\n"
          ]
        },
        {
          "output_type": "stream",
          "name": "stderr",
          "text": [
            "\r 72%|███████▏  | 201/279 [07:20<03:24,  2.62s/it]"
          ]
        },
        {
          "output_type": "stream",
          "name": "stdout",
          "text": [
            "MAE FOR: Rogon - Chicken Tikka\n",
            "0.16607697308063507\n",
            "\n",
            "\n",
            "1/1 [==============================] - 0s 19ms/step - loss: 0.5800\n"
          ]
        },
        {
          "output_type": "stream",
          "name": "stderr",
          "text": [
            "\r 72%|███████▏  | 202/279 [07:23<03:32,  2.76s/it]"
          ]
        },
        {
          "output_type": "stream",
          "name": "stdout",
          "text": [
            "MAE FOR: Mushroom - Chicken Tikka\n",
            "0.5799509286880493\n",
            "\n",
            "\n",
            "1/1 [==============================] - 0s 21ms/step - loss: 0.0971\n"
          ]
        },
        {
          "output_type": "stream",
          "name": "stderr",
          "text": [
            "\r 73%|███████▎  | 203/279 [07:25<03:17,  2.60s/it]"
          ]
        },
        {
          "output_type": "stream",
          "name": "stdout",
          "text": [
            "MAE FOR: Vindaloo - Prawn\n",
            "0.09709157794713974\n",
            "\n",
            "\n",
            "1/1 [==============================] - 0s 21ms/step - loss: 0.2914\n"
          ]
        },
        {
          "output_type": "stream",
          "name": "stderr",
          "text": [
            "\r 73%|███████▎  | 204/279 [07:31<04:28,  3.58s/it]"
          ]
        },
        {
          "output_type": "stream",
          "name": "stdout",
          "text": [
            "MAE FOR: Malaya - Chicken\n",
            "0.2913995683193207\n",
            "\n",
            "\n",
            "1/1 [==============================] - 0s 19ms/step - loss: 0.3878\n"
          ]
        },
        {
          "output_type": "stream",
          "name": "stderr",
          "text": [
            "\r 73%|███████▎  | 205/279 [07:33<03:55,  3.18s/it]"
          ]
        },
        {
          "output_type": "stream",
          "name": "stdout",
          "text": [
            "MAE FOR: Lamb Tikka Pasanda\n",
            "0.38780835270881653\n",
            "\n",
            "\n",
            "1/1 [==============================] - 0s 19ms/step - loss: 0.2390\n"
          ]
        },
        {
          "output_type": "stream",
          "name": "stderr",
          "text": [
            "\r 74%|███████▍  | 206/279 [07:36<03:40,  3.02s/it]"
          ]
        },
        {
          "output_type": "stream",
          "name": "stdout",
          "text": [
            "MAE FOR: Lal Mirch Lamb\n",
            "0.2389766275882721\n",
            "\n",
            "\n",
            "1/1 [==============================] - 0s 20ms/step - loss: 0.1300\n"
          ]
        },
        {
          "output_type": "stream",
          "name": "stderr",
          "text": [
            "\r 74%|███████▍  | 207/279 [07:39<03:40,  3.06s/it]"
          ]
        },
        {
          "output_type": "stream",
          "name": "stdout",
          "text": [
            "MAE FOR: Cylon - Chicken Tikka\n",
            "0.13003508746623993\n",
            "\n",
            "\n",
            "1/1 [==============================] - 0s 20ms/step - loss: 0.1616\n"
          ]
        },
        {
          "output_type": "stream",
          "name": "stderr",
          "text": [
            "\r 75%|███████▍  | 208/279 [07:43<03:56,  3.33s/it]"
          ]
        },
        {
          "output_type": "stream",
          "name": "stdout",
          "text": [
            "MAE FOR: Mushroom - Lamb\n",
            "0.1615702211856842\n",
            "\n",
            "\n",
            "1/1 [==============================] - 0s 20ms/step - loss: 0.2369\n"
          ]
        },
        {
          "output_type": "stream",
          "name": "stderr",
          "text": [
            "\r 75%|███████▍  | 209/279 [07:45<03:26,  2.95s/it]"
          ]
        },
        {
          "output_type": "stream",
          "name": "stdout",
          "text": [
            "MAE FOR: Lamb Chilli Masala\n",
            "0.23693035542964935\n",
            "\n",
            "\n",
            "1/1 [==============================] - 0s 20ms/step - loss: 0.0972\n"
          ]
        },
        {
          "output_type": "stream",
          "name": "stderr",
          "text": [
            "\r 75%|███████▌  | 210/279 [07:48<03:23,  2.95s/it]"
          ]
        },
        {
          "output_type": "stream",
          "name": "stdout",
          "text": [
            "MAE FOR: Malaya - Lamb\n",
            "0.0971551313996315\n",
            "\n",
            "\n",
            "1/1 [==============================] - 0s 20ms/step - loss: 0.1297\n"
          ]
        },
        {
          "output_type": "stream",
          "name": "stderr",
          "text": [
            "\r 76%|███████▌  | 211/279 [07:51<03:26,  3.03s/it]"
          ]
        },
        {
          "output_type": "stream",
          "name": "stdout",
          "text": [
            "MAE FOR: Bombay - Chicken Tikka\n",
            "0.1297144740819931\n",
            "\n",
            "\n",
            "1/1 [==============================] - 0s 21ms/step - loss: 0.0983\n"
          ]
        },
        {
          "output_type": "stream",
          "name": "stderr",
          "text": [
            "\r 76%|███████▌  | 212/279 [07:55<03:30,  3.15s/it]"
          ]
        },
        {
          "output_type": "stream",
          "name": "stdout",
          "text": [
            "MAE FOR: Lamb Rezala\n",
            "0.0983431413769722\n",
            "\n",
            "\n",
            "1/1 [==============================] - 0s 20ms/step - loss: 0.1622\n"
          ]
        },
        {
          "output_type": "stream",
          "name": "stderr",
          "text": [
            "\r 76%|███████▋  | 213/279 [07:58<03:30,  3.20s/it]"
          ]
        },
        {
          "output_type": "stream",
          "name": "stdout",
          "text": [
            "MAE FOR: Methi - Lamb\n",
            "0.1621536761522293\n",
            "\n",
            "\n",
            "1/1 [==============================] - 0s 19ms/step - loss: 0.1896\n"
          ]
        },
        {
          "output_type": "stream",
          "name": "stderr",
          "text": [
            "\r 77%|███████▋  | 214/279 [07:59<02:54,  2.69s/it]"
          ]
        },
        {
          "output_type": "stream",
          "name": "stdout",
          "text": [
            "MAE FOR: Lamb Sylhet\n",
            "0.18961483240127563\n",
            "\n",
            "\n",
            "1/1 [==============================] - 0s 21ms/step - loss: 0.0335\n"
          ]
        },
        {
          "output_type": "stream",
          "name": "stderr",
          "text": [
            "\r 77%|███████▋  | 215/279 [08:04<03:21,  3.16s/it]"
          ]
        },
        {
          "output_type": "stream",
          "name": "stdout",
          "text": [
            "MAE FOR: Cylon - Lamb\n",
            "0.0334627591073513\n",
            "\n",
            "\n",
            "1/1 [==============================] - 0s 20ms/step - loss: 3.7873\n"
          ]
        },
        {
          "output_type": "stream",
          "name": "stderr",
          "text": [
            "\r 77%|███████▋  | 216/279 [08:05<02:41,  2.57s/it]"
          ]
        },
        {
          "output_type": "stream",
          "name": "stdout",
          "text": [
            "MAE FOR: Bhuna\n",
            "3.787259817123413\n",
            "\n",
            "\n",
            "1/1 [==============================] - 0s 21ms/step - loss: 1.4441\n"
          ]
        },
        {
          "output_type": "stream",
          "name": "stderr",
          "text": [
            "\r 78%|███████▊  | 217/279 [08:06<02:13,  2.15s/it]"
          ]
        },
        {
          "output_type": "stream",
          "name": "stdout",
          "text": [
            "MAE FOR: Rogon\n",
            "1.4440507888793945\n",
            "\n",
            "\n",
            "1/1 [==============================] - 0s 19ms/step - loss: 7.4798\n"
          ]
        },
        {
          "output_type": "stream",
          "name": "stderr",
          "text": [
            "\r 78%|███████▊  | 218/279 [08:07<01:53,  1.86s/it]"
          ]
        },
        {
          "output_type": "stream",
          "name": "stdout",
          "text": [
            "MAE FOR: Korma\n",
            "7.479787826538086\n",
            "\n",
            "\n",
            "1/1 [==============================] - 0s 18ms/step - loss: 0.9782\n"
          ]
        },
        {
          "output_type": "stream",
          "name": "stderr",
          "text": [
            "\r 78%|███████▊  | 219/279 [08:09<01:42,  1.70s/it]"
          ]
        },
        {
          "output_type": "stream",
          "name": "stdout",
          "text": [
            "MAE FOR: Saag\n",
            "0.9782483577728271\n",
            "\n",
            "\n",
            "1/1 [==============================] - 0s 19ms/step - loss: 1.5614\n"
          ]
        },
        {
          "output_type": "stream",
          "name": "stderr",
          "text": [
            "\r 79%|███████▉  | 220/279 [08:10<01:31,  1.55s/it]"
          ]
        },
        {
          "output_type": "stream",
          "name": "stdout",
          "text": [
            "MAE FOR: Dupiaza\n",
            "1.5614204406738281\n",
            "\n",
            "\n",
            "1/1 [==============================] - 0s 20ms/step - loss: 1.3962\n"
          ]
        },
        {
          "output_type": "stream",
          "name": "stderr",
          "text": [
            "\r 79%|███████▉  | 221/279 [08:11<01:30,  1.56s/it]"
          ]
        },
        {
          "output_type": "stream",
          "name": "stdout",
          "text": [
            "MAE FOR: Pathia\n",
            "1.3961652517318726\n",
            "\n",
            "\n",
            "1/1 [==============================] - 0s 22ms/step - loss: 1.0032\n"
          ]
        },
        {
          "output_type": "stream",
          "name": "stderr",
          "text": [
            "\r 80%|███████▉  | 222/279 [08:12<01:22,  1.45s/it]"
          ]
        },
        {
          "output_type": "stream",
          "name": "stdout",
          "text": [
            "MAE FOR: Mushroom\n",
            "1.0031800270080566\n",
            "\n",
            "\n",
            "1/1 [==============================] - 0s 21ms/step - loss: 0.1100\n"
          ]
        },
        {
          "output_type": "stream",
          "name": "stderr",
          "text": [
            "\r 80%|███████▉  | 223/279 [08:15<01:32,  1.64s/it]"
          ]
        },
        {
          "output_type": "stream",
          "name": "stdout",
          "text": [
            "MAE FOR: Cylon\n",
            "0.10995636880397797\n",
            "\n",
            "\n",
            "1/1 [==============================] - 0s 21ms/step - loss: 0.1167\n"
          ]
        },
        {
          "output_type": "stream",
          "name": "stderr",
          "text": [
            "\r 80%|████████  | 224/279 [08:17<01:35,  1.74s/it]"
          ]
        },
        {
          "output_type": "stream",
          "name": "stdout",
          "text": [
            "MAE FOR: Bombay\n",
            "0.11674822866916656\n",
            "\n",
            "\n",
            "1/1 [==============================] - 0s 19ms/step - loss: 1.2200\n"
          ]
        },
        {
          "output_type": "stream",
          "name": "stderr",
          "text": [
            "\r 81%|████████  | 225/279 [08:18<01:25,  1.59s/it]"
          ]
        },
        {
          "output_type": "stream",
          "name": "stdout",
          "text": [
            "MAE FOR: Methi\n",
            "1.2200413942337036\n",
            "\n",
            "\n",
            "1/1 [==============================] - 0s 19ms/step - loss: 2.6868\n"
          ]
        },
        {
          "output_type": "stream",
          "name": "stderr",
          "text": [
            "\r 81%|████████  | 226/279 [08:19<01:17,  1.46s/it]"
          ]
        },
        {
          "output_type": "stream",
          "name": "stdout",
          "text": [
            "MAE FOR: Dhansak\n",
            "2.6867833137512207\n",
            "\n",
            "\n",
            "1/1 [==============================] - 0s 20ms/step - loss: 0.0065\n"
          ]
        },
        {
          "output_type": "stream",
          "name": "stderr",
          "text": [
            "\r 81%|████████▏ | 227/279 [08:22<01:47,  2.07s/it]"
          ]
        },
        {
          "output_type": "stream",
          "name": "stdout",
          "text": [
            "MAE FOR: Malaya\n",
            "0.006491494830697775\n",
            "\n",
            "\n",
            "1/1 [==============================] - 0s 21ms/step - loss: 0.0062\n"
          ]
        },
        {
          "output_type": "stream",
          "name": "stderr",
          "text": [
            "\r 82%|████████▏ | 228/279 [08:25<01:58,  2.33s/it]"
          ]
        },
        {
          "output_type": "stream",
          "name": "stdout",
          "text": [
            "MAE FOR: Graps Specil\n",
            "0.006207065191119909\n",
            "\n",
            "\n",
            "1/1 [==============================] - 0s 20ms/step - loss: 0.0056\n"
          ]
        },
        {
          "output_type": "stream",
          "name": "stderr",
          "text": [
            "\r 82%|████████▏ | 229/279 [08:29<02:15,  2.71s/it]"
          ]
        },
        {
          "output_type": "stream",
          "name": "stdout",
          "text": [
            "MAE FOR: Kurma\n",
            "0.0056247403845191\n",
            "\n",
            "\n",
            "1/1 [==============================] - 0s 20ms/step - loss: 0.4196\n"
          ]
        },
        {
          "output_type": "stream",
          "name": "stderr",
          "text": [
            "\r 82%|████████▏ | 230/279 [08:34<02:44,  3.35s/it]"
          ]
        },
        {
          "output_type": "stream",
          "name": "stdout",
          "text": [
            "MAE FOR: Paneer Karahi\n",
            "0.41963258385658264\n",
            "\n",
            "\n",
            "1/1 [==============================] - 0s 20ms/step - loss: 1.3268\n"
          ]
        },
        {
          "output_type": "stream",
          "name": "stderr",
          "text": [
            "\r 83%|████████▎ | 231/279 [08:35<02:11,  2.75s/it]"
          ]
        },
        {
          "output_type": "stream",
          "name": "stdout",
          "text": [
            "MAE FOR: Chicken Tikka Karahi\n",
            "1.3268365859985352\n",
            "\n",
            "\n",
            "1/1 [==============================] - 0s 21ms/step - loss: 0.8021\n"
          ]
        },
        {
          "output_type": "stream",
          "name": "stderr",
          "text": [
            "\r 83%|████████▎ | 232/279 [08:37<01:55,  2.47s/it]"
          ]
        },
        {
          "output_type": "stream",
          "name": "stdout",
          "text": [
            "MAE FOR: Lamb Shaslick\n",
            "0.8021466135978699\n",
            "\n",
            "\n",
            "1/1 [==============================] - 0s 20ms/step - loss: 0.7674\n"
          ]
        },
        {
          "output_type": "stream",
          "name": "stderr",
          "text": [
            "\r 84%|████████▎ | 233/279 [08:39<01:43,  2.26s/it]"
          ]
        },
        {
          "output_type": "stream",
          "name": "stdout",
          "text": [
            "MAE FOR: Lamb Tikka Sizzler\n",
            "0.7673843502998352\n",
            "\n",
            "\n",
            "1/1 [==============================] - 0s 21ms/step - loss: 1.0857\n"
          ]
        },
        {
          "output_type": "stream",
          "name": "stderr",
          "text": [
            "\r 84%|████████▍ | 234/279 [08:41<01:35,  2.12s/it]"
          ]
        },
        {
          "output_type": "stream",
          "name": "stdout",
          "text": [
            "MAE FOR: Lamb Chops (Main)\n",
            "1.085744023323059\n",
            "\n",
            "\n",
            "1/1 [==============================] - 0s 21ms/step - loss: 1.0802\n"
          ]
        },
        {
          "output_type": "stream",
          "name": "stderr",
          "text": [
            "\r 84%|████████▍ | 235/279 [08:42<01:20,  1.84s/it]"
          ]
        },
        {
          "output_type": "stream",
          "name": "stdout",
          "text": [
            "MAE FOR: Paneer Shaslick\n",
            "1.0801588296890259\n",
            "\n",
            "\n",
            "1/1 [==============================] - 0s 21ms/step - loss: 0.3873\n"
          ]
        },
        {
          "output_type": "stream",
          "name": "stderr",
          "text": [
            "\r 85%|████████▍ | 236/279 [08:44<01:25,  1.99s/it]"
          ]
        },
        {
          "output_type": "stream",
          "name": "stdout",
          "text": [
            "MAE FOR: Dhansak - Prawn\n",
            "0.38733744621276855\n",
            "\n",
            "\n",
            "1/1 [==============================] - 0s 19ms/step - loss: 0.6029\n"
          ]
        },
        {
          "output_type": "stream",
          "name": "stderr",
          "text": [
            "\r 85%|████████▍ | 237/279 [08:45<01:16,  1.82s/it]"
          ]
        },
        {
          "output_type": "stream",
          "name": "stdout",
          "text": [
            "MAE FOR: Vegetable Balti\n",
            "0.6028615832328796\n",
            "\n",
            "\n",
            "1/1 [==============================] - 0s 20ms/step - loss: 0.3322\n"
          ]
        },
        {
          "output_type": "stream",
          "name": "stderr",
          "text": [
            "\r 85%|████████▌ | 238/279 [08:47<01:10,  1.72s/it]"
          ]
        },
        {
          "output_type": "stream",
          "name": "stdout",
          "text": [
            "MAE FOR: Prawn Karahi\n",
            "0.33224573731422424\n",
            "\n",
            "\n",
            "1/1 [==============================] - 0s 19ms/step - loss: 0.0326\n"
          ]
        },
        {
          "output_type": "stream",
          "name": "stderr",
          "text": [
            "\r 86%|████████▌ | 239/279 [08:49<01:10,  1.76s/it]"
          ]
        },
        {
          "output_type": "stream",
          "name": "stdout",
          "text": [
            "MAE FOR: Cylon - Prawn\n",
            "0.03258708491921425\n",
            "\n",
            "\n",
            "1/1 [==============================] - 0s 20ms/step - loss: 0.7663\n"
          ]
        },
        {
          "output_type": "stream",
          "name": "stderr",
          "text": [
            "\r 86%|████████▌ | 240/279 [08:50<01:03,  1.63s/it]"
          ]
        },
        {
          "output_type": "stream",
          "name": "stdout",
          "text": [
            "MAE FOR: Garlic Tikka Chilli Masala\n",
            "0.7662752270698547\n",
            "\n",
            "\n",
            "1/1 [==============================] - 0s 20ms/step - loss: 0.4657\n"
          ]
        },
        {
          "output_type": "stream",
          "name": "stderr",
          "text": [
            "\r 86%|████████▋ | 241/279 [08:53<01:16,  2.02s/it]"
          ]
        },
        {
          "output_type": "stream",
          "name": "stdout",
          "text": [
            "MAE FOR: Korma - Prawn\n",
            "0.4657021760940552\n",
            "\n",
            "\n",
            "1/1 [==============================] - 0s 20ms/step - loss: 0.3556\n"
          ]
        },
        {
          "output_type": "stream",
          "name": "stderr",
          "text": [
            "\r 87%|████████▋ | 242/279 [08:58<01:45,  2.84s/it]"
          ]
        },
        {
          "output_type": "stream",
          "name": "stdout",
          "text": [
            "MAE FOR: Dupiaza - Prawn\n",
            "0.3556201756000519\n",
            "\n",
            "\n",
            "1/1 [==============================] - 0s 20ms/step - loss: 0.0972\n"
          ]
        },
        {
          "output_type": "stream",
          "name": "stderr",
          "text": [
            "\r 87%|████████▋ | 243/279 [09:05<02:24,  4.01s/it]"
          ]
        },
        {
          "output_type": "stream",
          "name": "stdout",
          "text": [
            "MAE FOR: Pathia - Prawn\n",
            "0.09718655794858932\n",
            "\n",
            "\n",
            "1/1 [==============================] - 0s 20ms/step - loss: 0.0650\n"
          ]
        },
        {
          "output_type": "stream",
          "name": "stderr",
          "text": [
            "\r 87%|████████▋ | 244/279 [09:09<02:25,  4.16s/it]"
          ]
        },
        {
          "output_type": "stream",
          "name": "stdout",
          "text": [
            "MAE FOR: Methi - Prawn\n",
            "0.06500355154275894\n",
            "\n",
            "\n",
            "1/1 [==============================] - 0s 20ms/step - loss: 0.0978\n"
          ]
        },
        {
          "output_type": "stream",
          "name": "stderr",
          "text": [
            "\r 88%|████████▊ | 245/279 [09:14<02:31,  4.45s/it]"
          ]
        },
        {
          "output_type": "stream",
          "name": "stdout",
          "text": [
            "MAE FOR: Malaya - Prawn\n",
            "0.09777148067951202\n",
            "\n",
            "\n",
            "1/1 [==============================] - 0s 20ms/step - loss: 0.1001\n"
          ]
        },
        {
          "output_type": "stream",
          "name": "stderr",
          "text": [
            "\r 88%|████████▊ | 246/279 [09:18<02:22,  4.31s/it]"
          ]
        },
        {
          "output_type": "stream",
          "name": "stdout",
          "text": [
            "MAE FOR: Bhuna - Prawn\n",
            "0.100095734000206\n",
            "\n",
            "\n",
            "1/1 [==============================] - 0s 21ms/step - loss: 0.2748\n"
          ]
        },
        {
          "output_type": "stream",
          "name": "stderr",
          "text": [
            "\r 89%|████████▊ | 247/279 [09:22<02:10,  4.06s/it]"
          ]
        },
        {
          "output_type": "stream",
          "name": "stdout",
          "text": [
            "MAE FOR: Keema Aloo\n",
            "0.2748129367828369\n",
            "\n",
            "\n",
            "1/1 [==============================] - 0s 20ms/step - loss: 3.1708e-04\n"
          ]
        },
        {
          "output_type": "stream",
          "name": "stderr",
          "text": [
            "\r 89%|████████▉ | 248/279 [09:28<02:27,  4.75s/it]"
          ]
        },
        {
          "output_type": "stream",
          "name": "stdout",
          "text": [
            "MAE FOR: Bombay - Prawn\n",
            "0.0003170811978634447\n",
            "\n",
            "\n",
            "1/1 [==============================] - 0s 20ms/step - loss: 5.4020e-04\n"
          ]
        },
        {
          "output_type": "stream",
          "name": "stderr",
          "text": [
            "\r 89%|████████▉ | 249/279 [09:30<01:53,  3.79s/it]"
          ]
        },
        {
          "output_type": "stream",
          "name": "stdout",
          "text": [
            "MAE FOR: Saag - Prawn\n",
            "0.0005401970120146871\n",
            "\n",
            "\n",
            "1/1 [==============================] - 0s 19ms/step - loss: 0.0033\n"
          ]
        },
        {
          "output_type": "stream",
          "name": "stderr",
          "text": [
            "\r 90%|████████▉ | 250/279 [09:34<01:58,  4.08s/it]"
          ]
        },
        {
          "output_type": "stream",
          "name": "stdout",
          "text": [
            "MAE FOR: Chicken Shashlick\n",
            "0.003261068370193243\n",
            "\n",
            "\n",
            "1/1 [==============================] - 0s 19ms/step - loss: 0.0015\n"
          ]
        },
        {
          "output_type": "stream",
          "name": "stderr",
          "text": [
            "\r 90%|████████▉ | 251/279 [09:38<01:52,  4.03s/it]"
          ]
        },
        {
          "output_type": "stream",
          "name": "stdout",
          "text": [
            "MAE FOR: Lamb Shashlick\n",
            "0.001499833888374269\n",
            "\n",
            "\n",
            "1/1 [==============================] - 0s 18ms/step - loss: 1.1193\n"
          ]
        },
        {
          "output_type": "stream",
          "name": "stderr",
          "text": [
            "\r 90%|█████████ | 252/279 [09:42<01:49,  4.06s/it]"
          ]
        },
        {
          "output_type": "stream",
          "name": "stdout",
          "text": [
            "MAE FOR: Lamb Tikka Biryani\n",
            "1.1193068027496338\n",
            "\n",
            "\n",
            "1/1 [==============================] - 0s 19ms/step - loss: 0.2279\n"
          ]
        },
        {
          "output_type": "stream",
          "name": "stderr",
          "text": [
            "\r 91%|█████████ | 253/279 [09:45<01:37,  3.77s/it]"
          ]
        },
        {
          "output_type": "stream",
          "name": "stdout",
          "text": [
            "MAE FOR: Prawn Balti\n",
            "0.22788797318935394\n",
            "\n",
            "\n",
            "1/1 [==============================] - 0s 20ms/step - loss: 1.3057\n"
          ]
        },
        {
          "output_type": "stream",
          "name": "stderr",
          "text": [
            "\r 91%|█████████ | 254/279 [09:47<01:15,  3.02s/it]"
          ]
        },
        {
          "output_type": "stream",
          "name": "stdout",
          "text": [
            "MAE FOR: Chicken Tikka Balti\n",
            "1.3056823015213013\n",
            "\n",
            "\n",
            "1/1 [==============================] - 0s 20ms/step - loss: 0.5433\n"
          ]
        },
        {
          "output_type": "stream",
          "name": "stderr",
          "text": [
            "\r 91%|█████████▏| 255/279 [09:49<01:03,  2.65s/it]"
          ]
        },
        {
          "output_type": "stream",
          "name": "stdout",
          "text": [
            "MAE FOR: Lamb Roshni\n",
            "0.5433071255683899\n",
            "\n",
            "\n",
            "1/1 [==============================] - 0s 20ms/step - loss: 0.6911\n"
          ]
        },
        {
          "output_type": "stream",
          "name": "stderr",
          "text": [
            "\r 92%|█████████▏| 256/279 [09:50<00:53,  2.33s/it]"
          ]
        },
        {
          "output_type": "stream",
          "name": "stdout",
          "text": [
            "MAE FOR: Chicken Shashlick Curry\n",
            "0.6911038756370544\n",
            "\n",
            "\n",
            "1/1 [==============================] - 0s 20ms/step - loss: 0.5913\n"
          ]
        },
        {
          "output_type": "stream",
          "name": "stderr",
          "text": [
            "\r 92%|█████████▏| 257/279 [09:52<00:45,  2.05s/it]"
          ]
        },
        {
          "output_type": "stream",
          "name": "stdout",
          "text": [
            "MAE FOR: Tandoori Fish Jalfrezi\n",
            "0.591265857219696\n",
            "\n",
            "\n",
            "1/1 [==============================] - 0s 20ms/step - loss: 0.6516\n"
          ]
        },
        {
          "output_type": "stream",
          "name": "stderr",
          "text": [
            "\r 92%|█████████▏| 258/279 [09:53<00:39,  1.88s/it]"
          ]
        },
        {
          "output_type": "stream",
          "name": "stdout",
          "text": [
            "MAE FOR: Persian Lamb Biryani\n",
            "0.6516197919845581\n",
            "\n",
            "\n",
            "1/1 [==============================] - 0s 41ms/step - loss: 1.0570\n"
          ]
        },
        {
          "output_type": "stream",
          "name": "stderr",
          "text": [
            "\r 93%|█████████▎| 259/279 [09:55<00:35,  1.77s/it]"
          ]
        },
        {
          "output_type": "stream",
          "name": "stdout",
          "text": [
            "MAE FOR: Curry - King Prawn\n",
            "1.056971549987793\n",
            "\n",
            "\n",
            "1/1 [==============================] - 0s 21ms/step - loss: 0.5830\n"
          ]
        },
        {
          "output_type": "stream",
          "name": "stderr",
          "text": [
            "\r 93%|█████████▎| 260/279 [09:57<00:38,  2.05s/it]"
          ]
        },
        {
          "output_type": "stream",
          "name": "stdout",
          "text": [
            "MAE FOR: Madras - King Prawn\n",
            "0.5829936861991882\n",
            "\n",
            "\n",
            "1/1 [==============================] - 0s 20ms/step - loss: 0.1329\n"
          ]
        },
        {
          "output_type": "stream",
          "name": "stderr",
          "text": [
            "\r 94%|█████████▎| 261/279 [10:00<00:42,  2.39s/it]"
          ]
        },
        {
          "output_type": "stream",
          "name": "stdout",
          "text": [
            "MAE FOR: Vindaloo - King Prawn\n",
            "0.1329495757818222\n",
            "\n",
            "\n",
            "1/1 [==============================] - 0s 19ms/step - loss: 0.2918\n"
          ]
        },
        {
          "output_type": "stream",
          "name": "stderr",
          "text": [
            "\r 94%|█████████▍| 262/279 [10:05<00:54,  3.19s/it]"
          ]
        },
        {
          "output_type": "stream",
          "name": "stdout",
          "text": [
            "MAE FOR: Dhansak - King Prawn\n",
            "0.29180029034614563\n",
            "\n",
            "\n",
            "1/1 [==============================] - 0s 20ms/step - loss: 0.5172\n"
          ]
        },
        {
          "output_type": "stream",
          "name": "stderr",
          "text": [
            "\r 94%|█████████▍| 263/279 [10:11<01:04,  4.04s/it]"
          ]
        },
        {
          "output_type": "stream",
          "name": "stdout",
          "text": [
            "MAE FOR: Korma - King Prawn\n",
            "0.5171617865562439\n",
            "\n",
            "\n",
            "1/1 [==============================] - 0s 21ms/step - loss: 0.6552\n"
          ]
        },
        {
          "output_type": "stream",
          "name": "stderr",
          "text": [
            "\r 95%|█████████▍| 264/279 [10:16<01:00,  4.05s/it]"
          ]
        },
        {
          "output_type": "stream",
          "name": "stdout",
          "text": [
            "MAE FOR: Tandoori King Prawn Garlic\n",
            "0.6552436351776123\n",
            "\n",
            "\n",
            "1/1 [==============================] - 0s 19ms/step - loss: 0.6363\n"
          ]
        },
        {
          "output_type": "stream",
          "name": "stderr",
          "text": [
            "\r 95%|█████████▍| 265/279 [10:17<00:46,  3.30s/it]"
          ]
        },
        {
          "output_type": "stream",
          "name": "stdout",
          "text": [
            "MAE FOR: King Prawn Royal\n",
            "0.6363171339035034\n",
            "\n",
            "\n",
            "1/1 [==============================] - 0s 19ms/step - loss: 0.1939\n"
          ]
        },
        {
          "output_type": "stream",
          "name": "stderr",
          "text": [
            "\r 95%|█████████▌| 266/279 [10:22<00:50,  3.89s/it]"
          ]
        },
        {
          "output_type": "stream",
          "name": "stdout",
          "text": [
            "MAE FOR: Pathia - King Prawn\n",
            "0.19388142228126526\n",
            "\n",
            "\n",
            "1/1 [==============================] - 0s 19ms/step - loss: 0.4990\n"
          ]
        },
        {
          "output_type": "stream",
          "name": "stderr",
          "text": [
            "\r 96%|█████████▌| 267/279 [10:24<00:37,  3.13s/it]"
          ]
        },
        {
          "output_type": "stream",
          "name": "stdout",
          "text": [
            "MAE FOR: King Prawn Karahi\n",
            "0.49904778599739075\n",
            "\n",
            "\n",
            "1/1 [==============================] - 0s 20ms/step - loss: 0.1949\n"
          ]
        },
        {
          "output_type": "stream",
          "name": "stderr",
          "text": [
            "\r 96%|█████████▌| 268/279 [10:27<00:34,  3.15s/it]"
          ]
        },
        {
          "output_type": "stream",
          "name": "stdout",
          "text": [
            "MAE FOR: Bhuna - King Prawn\n",
            "0.19490842521190643\n",
            "\n",
            "\n",
            "1/1 [==============================] - 0s 22ms/step - loss: 0.3874\n"
          ]
        },
        {
          "output_type": "stream",
          "name": "stderr",
          "text": [
            "\r 96%|█████████▋| 269/279 [10:31<00:34,  3.44s/it]"
          ]
        },
        {
          "output_type": "stream",
          "name": "stdout",
          "text": [
            "MAE FOR: Jinga Chillies\n",
            "0.387440949678421\n",
            "\n",
            "\n",
            "1/1 [==============================] - 0s 19ms/step - loss: 0.3584\n"
          ]
        },
        {
          "output_type": "stream",
          "name": "stderr",
          "text": [
            "\r 97%|█████████▋| 270/279 [10:33<00:26,  2.90s/it]"
          ]
        },
        {
          "output_type": "stream",
          "name": "stdout",
          "text": [
            "MAE FOR: King Prawn Jalfrezi\n",
            "0.3583675026893616\n",
            "\n",
            "\n",
            "1/1 [==============================] - 0s 19ms/step - loss: 0.0340\n"
          ]
        },
        {
          "output_type": "stream",
          "name": "stderr",
          "text": [
            "\r 97%|█████████▋| 271/279 [10:36<00:23,  2.94s/it]"
          ]
        },
        {
          "output_type": "stream",
          "name": "stdout",
          "text": [
            "MAE FOR: Cylon - King Prawn\n",
            "0.03398193046450615\n",
            "\n",
            "\n",
            "1/1 [==============================] - 0s 20ms/step - loss: 0.0324\n"
          ]
        },
        {
          "output_type": "stream",
          "name": "stderr",
          "text": [
            "\r 97%|█████████▋| 272/279 [10:37<00:17,  2.44s/it]"
          ]
        },
        {
          "output_type": "stream",
          "name": "stdout",
          "text": [
            "MAE FOR: Bombay - King Prawn\n",
            "0.032403748482465744\n",
            "\n",
            "\n",
            "1/1 [==============================] - 0s 21ms/step - loss: 0.0656\n"
          ]
        },
        {
          "output_type": "stream",
          "name": "stderr",
          "text": [
            "\r 98%|█████████▊| 273/279 [10:40<00:15,  2.53s/it]"
          ]
        },
        {
          "output_type": "stream",
          "name": "stdout",
          "text": [
            "MAE FOR: Dupiaza - King Prawn\n",
            "0.0656079426407814\n",
            "\n",
            "\n",
            "1/1 [==============================] - 0s 20ms/step - loss: 0.0323\n"
          ]
        },
        {
          "output_type": "stream",
          "name": "stderr",
          "text": [
            "\r 98%|█████████▊| 274/279 [10:41<00:11,  2.25s/it]"
          ]
        },
        {
          "output_type": "stream",
          "name": "stdout",
          "text": [
            "MAE FOR: Mushroom - King Prawn\n",
            "0.032258063554763794\n",
            "\n",
            "\n",
            "1/1 [==============================] - 0s 20ms/step - loss: 5.4304e-04\n"
          ]
        },
        {
          "output_type": "stream",
          "name": "stderr",
          "text": [
            "\r 99%|█████████▊| 275/279 [10:46<00:11,  2.84s/it]"
          ]
        },
        {
          "output_type": "stream",
          "name": "stdout",
          "text": [
            "MAE FOR: Rogon - King Prawn\n",
            "0.0005430398741737008\n",
            "\n",
            "\n",
            "1/1 [==============================] - 0s 20ms/step - loss: 0.0010\n"
          ]
        },
        {
          "output_type": "stream",
          "name": "stderr",
          "text": [
            "\r 99%|█████████▉| 276/279 [10:49<00:09,  3.10s/it]"
          ]
        },
        {
          "output_type": "stream",
          "name": "stdout",
          "text": [
            "MAE FOR: Saag - King Prawn\n",
            "0.001010744832456112\n",
            "\n",
            "\n",
            "1/1 [==============================] - 0s 20ms/step - loss: 0.0010\n"
          ]
        },
        {
          "output_type": "stream",
          "name": "stderr",
          "text": [
            "\r 99%|█████████▉| 277/279 [10:53<00:06,  3.43s/it]"
          ]
        },
        {
          "output_type": "stream",
          "name": "stdout",
          "text": [
            "MAE FOR: Methi - king-prawn\n",
            "0.0010216949740424752\n",
            "\n",
            "\n",
            "1/1 [==============================] - 0s 20ms/step - loss: 0.4264\n"
          ]
        },
        {
          "output_type": "stream",
          "name": "stderr",
          "text": [
            "\r100%|█████████▉| 278/279 [10:55<00:02,  2.90s/it]"
          ]
        },
        {
          "output_type": "stream",
          "name": "stdout",
          "text": [
            "MAE FOR: House white wine 75cl\n",
            "0.4264163374900818\n",
            "\n",
            "\n",
            "1/1 [==============================] - 0s 20ms/step - loss: 0.0975\n"
          ]
        },
        {
          "output_type": "stream",
          "name": "stderr",
          "text": [
            "100%|██████████| 279/279 [11:01<00:00,  2.37s/it]"
          ]
        },
        {
          "output_type": "stream",
          "name": "stdout",
          "text": [
            "MAE FOR: House Red wine 75cl\n",
            "0.09751506894826889\n",
            "\n",
            "\n"
          ]
        },
        {
          "output_type": "stream",
          "name": "stderr",
          "text": [
            "\n"
          ]
        }
      ]
    },
    {
      "cell_type": "code",
      "source": [
        "zipped = list(zip(MAEs, itemNames))\n",
        "MAE_DF = pd.DataFrame(zipped, columns=['MAE',\"item\"])"
      ],
      "metadata": {
        "id": "biuLoVqZui6i"
      },
      "execution_count": 48,
      "outputs": []
    },
    {
      "cell_type": "code",
      "source": [
        "MAE_DF.MAE.mean()"
      ],
      "metadata": {
        "colab": {
          "base_uri": "https://localhost:8080/"
        },
        "id": "ePWMowciuj6Z",
        "outputId": "8c26f5f0-7e29-4b26-a1a8-610a09a1c982"
      },
      "execution_count": 49,
      "outputs": [
        {
          "output_type": "execute_result",
          "data": {
            "text/plain": [
              "1.62348819972134"
            ]
          },
          "metadata": {},
          "execution_count": 49
        }
      ]
    },
    {
      "cell_type": "code",
      "source": [
        "from sklearn.metrics import mean_absolute_error\n",
        "baseline_maes = []\n",
        "for index, row in MAE_DF.iterrows():\n",
        "    i = row[\"item\"]\n",
        "    X_train = trainDataN[f].values\n",
        "    y_train = trainDataN[i].values\n",
        "    X_test = testDataN[f].values\n",
        "    y_test = testDataN[i].values\n",
        "    y_pred = np.ones(len(y_test))*np.mean(y_train)\n",
        "\n",
        "    mae = mean_absolute_error(y_test, y_pred)\n",
        "    baseline_maes.append(mae)\n",
        "\n"
      ],
      "metadata": {
        "id": "GmwWtC_FvtAM"
      },
      "execution_count": 59,
      "outputs": []
    },
    {
      "cell_type": "code",
      "source": [
        "MAE_DF[\"BASELINE\"] =  baseline_maes\n",
        "\n",
        "MAE_DF.to_csv(\"mae_order2.csv\")"
      ],
      "metadata": {
        "id": "W99DISy0xKDU"
      },
      "execution_count": 74,
      "outputs": []
    }
  ]
}
